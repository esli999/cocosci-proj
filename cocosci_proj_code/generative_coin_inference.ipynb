{
 "cells": [
  {
   "cell_type": "code",
   "execution_count": 1,
   "id": "46b13a61-b4f1-41bc-80df-f02902f57aba",
   "metadata": {},
   "outputs": [],
   "source": [
    "using Gen, Plots, StatsBase"
   ]
  },
  {
   "cell_type": "code",
   "execution_count": 5,
   "id": "8ee2b90e-42a7-44f8-a5ca-5ac10311c960",
   "metadata": {},
   "outputs": [],
   "source": [
    "@gen function roll_model(T::Int)\n",
    "    rolls = Vector{Float64}(undef, T)\n",
    "    \n",
    "    unfair_weighting = {:unfair_weighting} ~ uniform(1.0/6,1)\n",
    "    weighted_face = {:weighted_face} ~ uniform_discrete(1,6)\n",
    "    other_faces = Array(1:6)\n",
    "    filter!(e->e≠weighted_face,other_faces)\n",
    "    \n",
    "    die_probs = Vector{Float64}(undef, 6)\n",
    "    die_probs[1:6] .= (1-unfair_weighting)/5\n",
    "    die_probs[weighted_face] = unfair_weighting\n",
    "        \n",
    "    for i = 1:T\n",
    "        roll = {(:roll, i)} ~ categorical(die_probs)\n",
    "        rolls[i] = roll\n",
    "    end\n",
    "\n",
    "    # return the rolls\n",
    "    return rolls\n",
    "end;"
   ]
  },
  {
   "cell_type": "code",
   "execution_count": 22,
   "id": "272e28f5-7f89-4b44-bf20-3f8ea4df0dc0",
   "metadata": {},
   "outputs": [
    {
     "name": "stdout",
     "output_type": "stream",
     "text": [
      "[2.0, 5.0, 2.0, 5.0, 1.0, 3.0, 1.0, 2.0, 2.0, 2.0]\n",
      "0.5626460499859786\n",
      "2\n"
     ]
    }
   ],
   "source": [
    "trace = Gen.simulate(roll_model, (10,));\n",
    "println(get_retval(trace))\n",
    "println(trace[:unfair_weighting])\n",
    "println(trace[:weighted_face])\n",
    "test_traj = get_retval(trace);"
   ]
  },
  {
   "cell_type": "code",
   "execution_count": 23,
   "id": "1bf14df3-ad5f-4d19-82c4-66fe8abbfb92",
   "metadata": {},
   "outputs": [],
   "source": [
    "function do_IS_inference(model, T, rolls, amount_of_computation)\n",
    "    \n",
    "    observations = Gen.choicemap()\n",
    "    for (i, r) in enumerate(rolls)\n",
    "        observations[(:roll, i)] = r \n",
    "    end\n",
    "    \n",
    "    # Call importance_resampling to obtain a likely trace consistent\n",
    "    # with our observations.\n",
    "    (trace, _) = Gen.importance_resampling(model, (T,), observations, amount_of_computation);\n",
    "    return trace\n",
    "end;"
   ]
  },
  {
   "cell_type": "code",
   "execution_count": 24,
   "id": "f12f4b13-e245-4eb3-a1fa-035f0f6d890e",
   "metadata": {},
   "outputs": [
    {
     "data": {
      "text/plain": [
       "Gen.DynamicDSLTrace{DynamicDSLFunction{Any}}(DynamicDSLFunction{Any}(Dict{Symbol, Any}(), Dict{Symbol, Any}(), Type[Int64], false, Union{Nothing, Some{Any}}[nothing], var\"##roll_model#276\", Bool[0], false), Trie{Any, Gen.ChoiceOrCallRecord}(Dict{Any, Gen.ChoiceOrCallRecord}((:roll, 8) => Gen.ChoiceOrCallRecord{Int64}(2, -0.46079090160909875, NaN, true), (:roll, 9) => Gen.ChoiceOrCallRecord{Int64}(2, -0.46079090160909875, NaN, true), (:roll, 5) => Gen.ChoiceOrCallRecord{Int64}(1, -2.6058128685510167, NaN, true), (:roll, 3) => Gen.ChoiceOrCallRecord{Int64}(2, -0.46079090160909875, NaN, true), (:roll, 6) => Gen.ChoiceOrCallRecord{Int64}(3, -2.6058128685510167, NaN, true), :unfair_weighting => Gen.ChoiceOrCallRecord{Float64}(0.630784559645818, 0.1823215567939546, NaN, true), (:roll, 2) => Gen.ChoiceOrCallRecord{Int64}(5, -2.6058128685510167, NaN, true), (:roll, 1) => Gen.ChoiceOrCallRecord{Int64}(2, -0.46079090160909875, NaN, true), (:roll, 4) => Gen.ChoiceOrCallRecord{Int64}(5, -2.6058128685510167, NaN, true), (:roll, 7) => Gen.ChoiceOrCallRecord{Int64}(1, -2.6058128685510167, NaN, true)…), Dict{Any, Trie{Any, Gen.ChoiceOrCallRecord}}()), false, -16.942456763234674, 0.0, (10,), [2.0, 5.0, 2.0, 5.0, 1.0, 3.0, 1.0, 2.0, 2.0, 2.0])"
      ]
     },
     "execution_count": 24,
     "metadata": {},
     "output_type": "execute_result"
    }
   ],
   "source": [
    "trace_infer = do_IS_inference(roll_model, 10, test_traj, 100000)"
   ]
  },
  {
   "cell_type": "code",
   "execution_count": 65,
   "id": "0989b710-ada2-42d6-b961-45dc300eab11",
   "metadata": {},
   "outputs": [
    {
     "data": {
      "text/plain": [
       "Gen.DynamicDSLTrace{DynamicDSLFunction{Any}}(DynamicDSLFunction{Any}(Dict{Symbol, Any}(), Dict{Symbol, Any}(), Type[Int64], false, Union{Nothing, Some{Any}}[nothing], var\"##roll_model#276\", Bool[0], false), Trie{Any, Gen.ChoiceOrCallRecord}(Dict{Any, Gen.ChoiceOrCallRecord}((:roll, 8) => Gen.ChoiceOrCallRecord{Int64}(2, -0.5728884428281013, NaN, true), (:roll, 9) => Gen.ChoiceOrCallRecord{Int64}(2, -0.5728884428281013, NaN, true), (:roll, 5) => Gen.ChoiceOrCallRecord{Int64}(1, -2.4393085637989196, NaN, true), (:roll, 3) => Gen.ChoiceOrCallRecord{Int64}(2, -0.5728884428281013, NaN, true), (:roll, 6) => Gen.ChoiceOrCallRecord{Int64}(3, -2.4393085637989196, NaN, true), :unfair_weighting => Gen.ChoiceOrCallRecord{Float64}(0.5638943076504643, 0.1823215567939546, NaN, true), (:roll, 2) => Gen.ChoiceOrCallRecord{Int64}(5, -2.4393085637989196, NaN, true), (:roll, 1) => Gen.ChoiceOrCallRecord{Int64}(2, -0.5728884428281013, NaN, true), (:roll, 4) => Gen.ChoiceOrCallRecord{Int64}(5, -2.4393085637989196, NaN, true), (:roll, 7) => Gen.ChoiceOrCallRecord{Int64}(1, -2.4393085637989196, NaN, true)…), Dict{Any, Trie{Any, Gen.ChoiceOrCallRecord}}()), false, -16.670422945569204, 0.0, (10,), [2.0, 5.0, 2.0, 5.0, 1.0, 3.0, 1.0, 2.0, 2.0, 2.0])"
      ]
     },
     "execution_count": 65,
     "metadata": {},
     "output_type": "execute_result"
    }
   ],
   "source": [
    "trace_infer = do_IS_inference(roll_model, 10, test_traj, 100000)"
   ]
  },
  {
   "cell_type": "code",
   "execution_count": null,
   "id": "d01329db-9947-4d0e-97c4-4f7156505faf",
   "metadata": {},
   "outputs": [],
   "source": []
  },
  {
   "cell_type": "code",
   "execution_count": 67,
   "id": "c854c981-56ed-4020-b874-41df2543eeee",
   "metadata": {},
   "outputs": [
    {
     "data": {
      "text/plain": [
       "do_mcmc_inference (generic function with 1 method)"
      ]
     },
     "execution_count": 67,
     "metadata": {},
     "output_type": "execute_result"
    }
   ],
   "source": [
    "function do_mcmc_inference(model, obs_rolls, num_iters)\n",
    "\n",
    "    observations = Gen.choicemap()\n",
    "    for (i, r) in enumerate(obs_rolls)\n",
    "        observations[(:roll, i)] = r \n",
    "    end\n",
    "    \n",
    "    trace, = generate(model, (num_iters,), observations)\n",
    "    \n",
    "    fair_vals = Float64[]\n",
    "    for i=1:num_iters\n",
    "        trace, = mh(trace, select(:unfair_weighting, :weighted_face))\n",
    "        push!(fair_vals, trace[:unfair_weighting])\n",
    "    end\n",
    "    fair_vals\n",
    "end"
   ]
  },
  {
   "cell_type": "code",
   "execution_count": 70,
   "id": "6a268df7-4d14-4464-9128-5b6aff3d9910",
   "metadata": {},
   "outputs": [
    {
     "data": {
      "text/plain": [
       "1000-element Vector{Float64}:\n",
       " 0.6276621541308602\n",
       " 0.6276621541308602\n",
       " 0.6276621541308602\n",
       " 0.6276621541308602\n",
       " 0.6276621541308602\n",
       " 0.6276621541308602\n",
       " 0.6276621541308602\n",
       " 0.6276621541308602\n",
       " 0.6276621541308602\n",
       " 0.6276621541308602\n",
       " 0.6276621541308602\n",
       " 0.6276621541308602\n",
       " 0.6276621541308602\n",
       " ⋮\n",
       " 0.6024139593385529\n",
       " 0.6024139593385529\n",
       " 0.6024139593385529\n",
       " 0.6024139593385529\n",
       " 0.6024139593385529\n",
       " 0.6024139593385529\n",
       " 0.6024139593385529\n",
       " 0.6024139593385529\n",
       " 0.6024139593385529\n",
       " 0.6024139593385529\n",
       " 0.6024139593385529\n",
       " 0.6024139593385529"
      ]
     },
     "execution_count": 70,
     "metadata": {},
     "output_type": "execute_result"
    }
   ],
   "source": [
    "chain_out = do_mcmc_inference(roll_model, test_traj, 1000)"
   ]
  },
  {
   "cell_type": "code",
   "execution_count": 71,
   "id": "e5051d47-0580-4b49-a623-2e5805f8dabf",
   "metadata": {},
   "outputs": [
    {
     "data": {
      "image/svg+xml": [
       "<?xml version=\"1.0\" encoding=\"utf-8\"?>\n",
       "<svg xmlns=\"http://www.w3.org/2000/svg\" xmlns:xlink=\"http://www.w3.org/1999/xlink\" width=\"600\" height=\"400\" viewBox=\"0 0 2400 1600\">\n",
       "<defs>\n",
       "  <clipPath id=\"clip450\">\n",
       "    <rect x=\"0\" y=\"0\" width=\"2400\" height=\"1600\"/>\n",
       "  </clipPath>\n",
       "</defs>\n",
       "<path clip-path=\"url(#clip450)\" d=\"M0 1600 L2400 1600 L2400 0 L0 0  Z\" fill=\"#ffffff\" fill-rule=\"evenodd\" fill-opacity=\"1\"/>\n",
       "<defs>\n",
       "  <clipPath id=\"clip451\">\n",
       "    <rect x=\"480\" y=\"0\" width=\"1681\" height=\"1600\"/>\n",
       "  </clipPath>\n",
       "</defs>\n",
       "<path clip-path=\"url(#clip450)\" d=\"M156.598 1486.45 L2352.76 1486.45 L2352.76 47.2441 L156.598 47.2441  Z\" fill=\"#ffffff\" fill-rule=\"evenodd\" fill-opacity=\"1\"/>\n",
       "<defs>\n",
       "  <clipPath id=\"clip452\">\n",
       "    <rect x=\"156\" y=\"47\" width=\"2197\" height=\"1440\"/>\n",
       "  </clipPath>\n",
       "</defs>\n",
       "<polyline clip-path=\"url(#clip452)\" style=\"stroke:#000000; stroke-linecap:round; stroke-linejoin:round; stroke-width:2; stroke-opacity:0.1; fill:none\" points=\"472.848,1486.45 472.848,47.2441 \"/>\n",
       "<polyline clip-path=\"url(#clip452)\" style=\"stroke:#000000; stroke-linecap:round; stroke-linejoin:round; stroke-width:2; stroke-opacity:0.1; fill:none\" points=\"863.763,1486.45 863.763,47.2441 \"/>\n",
       "<polyline clip-path=\"url(#clip452)\" style=\"stroke:#000000; stroke-linecap:round; stroke-linejoin:round; stroke-width:2; stroke-opacity:0.1; fill:none\" points=\"1254.68,1486.45 1254.68,47.2441 \"/>\n",
       "<polyline clip-path=\"url(#clip452)\" style=\"stroke:#000000; stroke-linecap:round; stroke-linejoin:round; stroke-width:2; stroke-opacity:0.1; fill:none\" points=\"1645.59,1486.45 1645.59,47.2441 \"/>\n",
       "<polyline clip-path=\"url(#clip452)\" style=\"stroke:#000000; stroke-linecap:round; stroke-linejoin:round; stroke-width:2; stroke-opacity:0.1; fill:none\" points=\"2036.51,1486.45 2036.51,47.2441 \"/>\n",
       "<polyline clip-path=\"url(#clip450)\" style=\"stroke:#000000; stroke-linecap:round; stroke-linejoin:round; stroke-width:4; stroke-opacity:1; fill:none\" points=\"156.598,1486.45 2352.76,1486.45 \"/>\n",
       "<polyline clip-path=\"url(#clip450)\" style=\"stroke:#000000; stroke-linecap:round; stroke-linejoin:round; stroke-width:4; stroke-opacity:1; fill:none\" points=\"472.848,1486.45 472.848,1467.55 \"/>\n",
       "<polyline clip-path=\"url(#clip450)\" style=\"stroke:#000000; stroke-linecap:round; stroke-linejoin:round; stroke-width:4; stroke-opacity:1; fill:none\" points=\"863.763,1486.45 863.763,1467.55 \"/>\n",
       "<polyline clip-path=\"url(#clip450)\" style=\"stroke:#000000; stroke-linecap:round; stroke-linejoin:round; stroke-width:4; stroke-opacity:1; fill:none\" points=\"1254.68,1486.45 1254.68,1467.55 \"/>\n",
       "<polyline clip-path=\"url(#clip450)\" style=\"stroke:#000000; stroke-linecap:round; stroke-linejoin:round; stroke-width:4; stroke-opacity:1; fill:none\" points=\"1645.59,1486.45 1645.59,1467.55 \"/>\n",
       "<polyline clip-path=\"url(#clip450)\" style=\"stroke:#000000; stroke-linecap:round; stroke-linejoin:round; stroke-width:4; stroke-opacity:1; fill:none\" points=\"2036.51,1486.45 2036.51,1467.55 \"/>\n",
       "<path clip-path=\"url(#clip450)\" d=\"M435.244 1517.37 Q431.633 1517.37 429.804 1520.93 Q427.999 1524.47 427.999 1531.6 Q427.999 1538.71 429.804 1542.27 Q431.633 1545.82 435.244 1545.82 Q438.878 1545.82 440.684 1542.27 Q442.513 1538.71 442.513 1531.6 Q442.513 1524.47 440.684 1520.93 Q438.878 1517.37 435.244 1517.37 M435.244 1513.66 Q441.054 1513.66 444.11 1518.27 Q447.188 1522.85 447.188 1531.6 Q447.188 1540.33 444.11 1544.94 Q441.054 1549.52 435.244 1549.52 Q429.434 1549.52 426.355 1544.94 Q423.3 1540.33 423.3 1531.6 Q423.3 1522.85 426.355 1518.27 Q429.434 1513.66 435.244 1513.66 Z\" fill=\"#000000\" fill-rule=\"evenodd\" fill-opacity=\"1\" /><path clip-path=\"url(#clip450)\" d=\"M455.406 1542.97 L460.29 1542.97 L460.29 1548.85 L455.406 1548.85 L455.406 1542.97 Z\" fill=\"#000000\" fill-rule=\"evenodd\" fill-opacity=\"1\" /><path clip-path=\"url(#clip450)\" d=\"M470.522 1514.29 L488.878 1514.29 L488.878 1518.22 L474.804 1518.22 L474.804 1526.7 Q475.823 1526.35 476.841 1526.19 Q477.86 1526 478.878 1526 Q484.665 1526 488.045 1529.17 Q491.424 1532.34 491.424 1537.76 Q491.424 1543.34 487.952 1546.44 Q484.48 1549.52 478.161 1549.52 Q475.985 1549.52 473.716 1549.15 Q471.471 1548.78 469.063 1548.04 L469.063 1543.34 Q471.147 1544.47 473.369 1545.03 Q475.591 1545.58 478.068 1545.58 Q482.073 1545.58 484.411 1543.48 Q486.748 1541.37 486.748 1537.76 Q486.748 1534.15 484.411 1532.04 Q482.073 1529.94 478.068 1529.94 Q476.193 1529.94 474.318 1530.35 Q472.466 1530.77 470.522 1531.65 L470.522 1514.29 Z\" fill=\"#000000\" fill-rule=\"evenodd\" fill-opacity=\"1\" /><path clip-path=\"url(#clip450)\" d=\"M500.776 1548.13 L500.776 1543.87 Q502.535 1544.7 504.341 1545.14 Q506.146 1545.58 507.883 1545.58 Q512.512 1545.58 514.943 1542.48 Q517.396 1539.36 517.744 1533.01 Q516.401 1535.01 514.341 1536.07 Q512.281 1537.13 509.781 1537.13 Q504.596 1537.13 501.563 1534.01 Q498.554 1530.86 498.554 1525.42 Q498.554 1520.1 501.702 1516.88 Q504.85 1513.66 510.082 1513.66 Q516.077 1513.66 519.225 1518.27 Q522.396 1522.85 522.396 1531.6 Q522.396 1539.77 518.508 1544.66 Q514.642 1549.52 508.091 1549.52 Q506.332 1549.52 504.526 1549.17 Q502.721 1548.82 500.776 1548.13 M510.082 1533.48 Q513.23 1533.48 515.058 1531.32 Q516.91 1529.17 516.91 1525.42 Q516.91 1521.7 515.058 1519.54 Q513.23 1517.37 510.082 1517.37 Q506.934 1517.37 505.082 1519.54 Q503.253 1521.7 503.253 1525.42 Q503.253 1529.17 505.082 1531.32 Q506.934 1533.48 510.082 1533.48 Z\" fill=\"#000000\" fill-rule=\"evenodd\" fill-opacity=\"1\" /><path clip-path=\"url(#clip450)\" d=\"M826.066 1517.37 Q822.455 1517.37 820.626 1520.93 Q818.821 1524.47 818.821 1531.6 Q818.821 1538.71 820.626 1542.27 Q822.455 1545.82 826.066 1545.82 Q829.7 1545.82 831.506 1542.27 Q833.334 1538.71 833.334 1531.6 Q833.334 1524.47 831.506 1520.93 Q829.7 1517.37 826.066 1517.37 M826.066 1513.66 Q831.876 1513.66 834.932 1518.27 Q838.01 1522.85 838.01 1531.6 Q838.01 1540.33 834.932 1544.94 Q831.876 1549.52 826.066 1549.52 Q820.256 1549.52 817.177 1544.94 Q814.122 1540.33 814.122 1531.6 Q814.122 1522.85 817.177 1518.27 Q820.256 1513.66 826.066 1513.66 Z\" fill=\"#000000\" fill-rule=\"evenodd\" fill-opacity=\"1\" /><path clip-path=\"url(#clip450)\" d=\"M846.228 1542.97 L851.112 1542.97 L851.112 1548.85 L846.228 1548.85 L846.228 1542.97 Z\" fill=\"#000000\" fill-rule=\"evenodd\" fill-opacity=\"1\" /><path clip-path=\"url(#clip450)\" d=\"M871.876 1529.7 Q868.728 1529.7 866.876 1531.86 Q865.047 1534.01 865.047 1537.76 Q865.047 1541.49 866.876 1543.66 Q868.728 1545.82 871.876 1545.82 Q875.024 1545.82 876.853 1543.66 Q878.705 1541.49 878.705 1537.76 Q878.705 1534.01 876.853 1531.86 Q875.024 1529.7 871.876 1529.7 M881.158 1515.05 L881.158 1519.31 Q879.399 1518.48 877.594 1518.04 Q875.811 1517.6 874.052 1517.6 Q869.422 1517.6 866.969 1520.72 Q864.538 1523.85 864.191 1530.17 Q865.557 1528.15 867.617 1527.09 Q869.677 1526 872.154 1526 Q877.362 1526 880.371 1529.17 Q883.404 1532.32 883.404 1537.76 Q883.404 1543.08 880.256 1546.3 Q877.107 1549.52 871.876 1549.52 Q865.881 1549.52 862.709 1544.94 Q859.538 1540.33 859.538 1531.6 Q859.538 1523.41 863.427 1518.55 Q867.316 1513.66 873.867 1513.66 Q875.626 1513.66 877.408 1514.01 Q879.214 1514.36 881.158 1515.05 Z\" fill=\"#000000\" fill-rule=\"evenodd\" fill-opacity=\"1\" /><path clip-path=\"url(#clip450)\" d=\"M901.459 1517.37 Q897.848 1517.37 896.019 1520.93 Q894.214 1524.47 894.214 1531.6 Q894.214 1538.71 896.019 1542.27 Q897.848 1545.82 901.459 1545.82 Q905.093 1545.82 906.899 1542.27 Q908.728 1538.71 908.728 1531.6 Q908.728 1524.47 906.899 1520.93 Q905.093 1517.37 901.459 1517.37 M901.459 1513.66 Q907.269 1513.66 910.325 1518.27 Q913.404 1522.85 913.404 1531.6 Q913.404 1540.33 910.325 1544.94 Q907.269 1549.52 901.459 1549.52 Q895.649 1549.52 892.57 1544.94 Q889.515 1540.33 889.515 1531.6 Q889.515 1522.85 892.57 1518.27 Q895.649 1513.66 901.459 1513.66 Z\" fill=\"#000000\" fill-rule=\"evenodd\" fill-opacity=\"1\" /><path clip-path=\"url(#clip450)\" d=\"M1217.59 1517.37 Q1213.98 1517.37 1212.15 1520.93 Q1210.35 1524.47 1210.35 1531.6 Q1210.35 1538.71 1212.15 1542.27 Q1213.98 1545.82 1217.59 1545.82 Q1221.23 1545.82 1223.03 1542.27 Q1224.86 1538.71 1224.86 1531.6 Q1224.86 1524.47 1223.03 1520.93 Q1221.23 1517.37 1217.59 1517.37 M1217.59 1513.66 Q1223.4 1513.66 1226.46 1518.27 Q1229.54 1522.85 1229.54 1531.6 Q1229.54 1540.33 1226.46 1544.94 Q1223.4 1549.52 1217.59 1549.52 Q1211.78 1549.52 1208.71 1544.94 Q1205.65 1540.33 1205.65 1531.6 Q1205.65 1522.85 1208.71 1518.27 Q1211.78 1513.66 1217.59 1513.66 Z\" fill=\"#000000\" fill-rule=\"evenodd\" fill-opacity=\"1\" /><path clip-path=\"url(#clip450)\" d=\"M1237.76 1542.97 L1242.64 1542.97 L1242.64 1548.85 L1237.76 1548.85 L1237.76 1542.97 Z\" fill=\"#000000\" fill-rule=\"evenodd\" fill-opacity=\"1\" /><path clip-path=\"url(#clip450)\" d=\"M1263.4 1529.7 Q1260.26 1529.7 1258.4 1531.86 Q1256.58 1534.01 1256.58 1537.76 Q1256.58 1541.49 1258.4 1543.66 Q1260.26 1545.82 1263.4 1545.82 Q1266.55 1545.82 1268.38 1543.66 Q1270.23 1541.49 1270.23 1537.76 Q1270.23 1534.01 1268.38 1531.86 Q1266.55 1529.7 1263.4 1529.7 M1272.69 1515.05 L1272.69 1519.31 Q1270.93 1518.48 1269.12 1518.04 Q1267.34 1517.6 1265.58 1517.6 Q1260.95 1517.6 1258.5 1520.72 Q1256.07 1523.85 1255.72 1530.17 Q1257.08 1528.15 1259.14 1527.09 Q1261.2 1526 1263.68 1526 Q1268.89 1526 1271.9 1529.17 Q1274.93 1532.32 1274.93 1537.76 Q1274.93 1543.08 1271.78 1546.3 Q1268.64 1549.52 1263.4 1549.52 Q1257.41 1549.52 1254.24 1544.94 Q1251.07 1540.33 1251.07 1531.6 Q1251.07 1523.41 1254.95 1518.55 Q1258.84 1513.66 1265.39 1513.66 Q1267.15 1513.66 1268.94 1514.01 Q1270.74 1514.36 1272.69 1515.05 Z\" fill=\"#000000\" fill-rule=\"evenodd\" fill-opacity=\"1\" /><path clip-path=\"url(#clip450)\" d=\"M1283.8 1544.91 L1291.44 1544.91 L1291.44 1518.55 L1283.13 1520.21 L1283.13 1515.95 L1291.39 1514.29 L1296.07 1514.29 L1296.07 1544.91 L1303.7 1544.91 L1303.7 1548.85 L1283.8 1548.85 L1283.8 1544.91 Z\" fill=\"#000000\" fill-rule=\"evenodd\" fill-opacity=\"1\" /><path clip-path=\"url(#clip450)\" d=\"M1608.69 1517.37 Q1605.08 1517.37 1603.25 1520.93 Q1601.45 1524.47 1601.45 1531.6 Q1601.45 1538.71 1603.25 1542.27 Q1605.08 1545.82 1608.69 1545.82 Q1612.33 1545.82 1614.13 1542.27 Q1615.96 1538.71 1615.96 1531.6 Q1615.96 1524.47 1614.13 1520.93 Q1612.33 1517.37 1608.69 1517.37 M1608.69 1513.66 Q1614.5 1513.66 1617.56 1518.27 Q1620.64 1522.85 1620.64 1531.6 Q1620.64 1540.33 1617.56 1544.94 Q1614.5 1549.52 1608.69 1549.52 Q1602.88 1549.52 1599.8 1544.94 Q1596.75 1540.33 1596.75 1531.6 Q1596.75 1522.85 1599.8 1518.27 Q1602.88 1513.66 1608.69 1513.66 Z\" fill=\"#000000\" fill-rule=\"evenodd\" fill-opacity=\"1\" /><path clip-path=\"url(#clip450)\" d=\"M1628.86 1542.97 L1633.74 1542.97 L1633.74 1548.85 L1628.86 1548.85 L1628.86 1542.97 Z\" fill=\"#000000\" fill-rule=\"evenodd\" fill-opacity=\"1\" /><path clip-path=\"url(#clip450)\" d=\"M1654.5 1529.7 Q1651.36 1529.7 1649.5 1531.86 Q1647.67 1534.01 1647.67 1537.76 Q1647.67 1541.49 1649.5 1543.66 Q1651.36 1545.82 1654.5 1545.82 Q1657.65 1545.82 1659.48 1543.66 Q1661.33 1541.49 1661.33 1537.76 Q1661.33 1534.01 1659.48 1531.86 Q1657.65 1529.7 1654.5 1529.7 M1663.79 1515.05 L1663.79 1519.31 Q1662.03 1518.48 1660.22 1518.04 Q1658.44 1517.6 1656.68 1517.6 Q1652.05 1517.6 1649.6 1520.72 Q1647.17 1523.85 1646.82 1530.17 Q1648.18 1528.15 1650.24 1527.09 Q1652.3 1526 1654.78 1526 Q1659.99 1526 1663 1529.17 Q1666.03 1532.32 1666.03 1537.76 Q1666.03 1543.08 1662.88 1546.3 Q1659.74 1549.52 1654.5 1549.52 Q1648.51 1549.52 1645.34 1544.94 Q1642.17 1540.33 1642.17 1531.6 Q1642.17 1523.41 1646.05 1518.55 Q1649.94 1513.66 1656.49 1513.66 Q1658.25 1513.66 1660.04 1514.01 Q1661.84 1514.36 1663.79 1515.05 Z\" fill=\"#000000\" fill-rule=\"evenodd\" fill-opacity=\"1\" /><path clip-path=\"url(#clip450)\" d=\"M1678.11 1544.91 L1694.43 1544.91 L1694.43 1548.85 L1672.49 1548.85 L1672.49 1544.91 Q1675.15 1542.16 1679.73 1537.53 Q1684.34 1532.88 1685.52 1531.53 Q1687.77 1529.01 1688.65 1527.27 Q1689.55 1525.51 1689.55 1523.82 Q1689.55 1521.07 1687.61 1519.33 Q1685.68 1517.6 1682.58 1517.6 Q1680.38 1517.6 1677.93 1518.36 Q1675.5 1519.13 1672.72 1520.68 L1672.72 1515.95 Q1675.55 1514.82 1678 1514.24 Q1680.45 1513.66 1682.49 1513.66 Q1687.86 1513.66 1691.05 1516.35 Q1694.25 1519.03 1694.25 1523.52 Q1694.25 1525.65 1693.44 1527.57 Q1692.65 1529.47 1690.55 1532.07 Q1689.97 1532.74 1686.86 1535.95 Q1683.76 1539.15 1678.11 1544.91 Z\" fill=\"#000000\" fill-rule=\"evenodd\" fill-opacity=\"1\" /><path clip-path=\"url(#clip450)\" d=\"M1999.13 1517.37 Q1995.52 1517.37 1993.69 1520.93 Q1991.89 1524.47 1991.89 1531.6 Q1991.89 1538.71 1993.69 1542.27 Q1995.52 1545.82 1999.13 1545.82 Q2002.77 1545.82 2004.57 1542.27 Q2006.4 1538.71 2006.4 1531.6 Q2006.4 1524.47 2004.57 1520.93 Q2002.77 1517.37 1999.13 1517.37 M1999.13 1513.66 Q2004.94 1513.66 2008 1518.27 Q2011.08 1522.85 2011.08 1531.6 Q2011.08 1540.33 2008 1544.94 Q2004.94 1549.52 1999.13 1549.52 Q1993.32 1549.52 1990.24 1544.94 Q1987.19 1540.33 1987.19 1531.6 Q1987.19 1522.85 1990.24 1518.27 Q1993.32 1513.66 1999.13 1513.66 Z\" fill=\"#000000\" fill-rule=\"evenodd\" fill-opacity=\"1\" /><path clip-path=\"url(#clip450)\" d=\"M2019.3 1542.97 L2024.18 1542.97 L2024.18 1548.85 L2019.3 1548.85 L2019.3 1542.97 Z\" fill=\"#000000\" fill-rule=\"evenodd\" fill-opacity=\"1\" /><path clip-path=\"url(#clip450)\" d=\"M2044.94 1529.7 Q2041.8 1529.7 2039.94 1531.86 Q2038.11 1534.01 2038.11 1537.76 Q2038.11 1541.49 2039.94 1543.66 Q2041.8 1545.82 2044.94 1545.82 Q2048.09 1545.82 2049.92 1543.66 Q2051.77 1541.49 2051.77 1537.76 Q2051.77 1534.01 2049.92 1531.86 Q2048.09 1529.7 2044.94 1529.7 M2054.23 1515.05 L2054.23 1519.31 Q2052.47 1518.48 2050.66 1518.04 Q2048.88 1517.6 2047.12 1517.6 Q2042.49 1517.6 2040.04 1520.72 Q2037.61 1523.85 2037.26 1530.17 Q2038.62 1528.15 2040.68 1527.09 Q2042.74 1526 2045.22 1526 Q2050.43 1526 2053.44 1529.17 Q2056.47 1532.32 2056.47 1537.76 Q2056.47 1543.08 2053.32 1546.3 Q2050.17 1549.52 2044.94 1549.52 Q2038.95 1549.52 2035.78 1544.94 Q2032.61 1540.33 2032.61 1531.6 Q2032.61 1523.41 2036.49 1518.55 Q2040.38 1513.66 2046.93 1513.66 Q2048.69 1513.66 2050.48 1514.01 Q2052.28 1514.36 2054.23 1515.05 Z\" fill=\"#000000\" fill-rule=\"evenodd\" fill-opacity=\"1\" /><path clip-path=\"url(#clip450)\" d=\"M2078.69 1530.21 Q2082.05 1530.93 2083.92 1533.2 Q2085.82 1535.47 2085.82 1538.8 Q2085.82 1543.92 2082.3 1546.72 Q2078.79 1549.52 2072.3 1549.52 Q2070.13 1549.52 2067.81 1549.08 Q2065.52 1548.66 2063.07 1547.81 L2063.07 1543.29 Q2065.01 1544.43 2067.33 1545.01 Q2069.64 1545.58 2072.17 1545.58 Q2076.56 1545.58 2078.86 1543.85 Q2081.17 1542.11 2081.17 1538.8 Q2081.17 1535.75 2079.02 1534.03 Q2076.89 1532.3 2073.07 1532.3 L2069.04 1532.3 L2069.04 1528.45 L2073.25 1528.45 Q2076.7 1528.45 2078.53 1527.09 Q2080.36 1525.7 2080.36 1523.11 Q2080.36 1520.45 2078.46 1519.03 Q2076.59 1517.6 2073.07 1517.6 Q2071.15 1517.6 2068.95 1518.01 Q2066.75 1518.43 2064.11 1519.31 L2064.11 1515.14 Q2066.77 1514.4 2069.09 1514.03 Q2071.42 1513.66 2073.49 1513.66 Q2078.81 1513.66 2081.91 1516.09 Q2085.01 1518.5 2085.01 1522.62 Q2085.01 1525.49 2083.37 1527.48 Q2081.73 1529.45 2078.69 1530.21 Z\" fill=\"#000000\" fill-rule=\"evenodd\" fill-opacity=\"1\" /><polyline clip-path=\"url(#clip452)\" style=\"stroke:#000000; stroke-linecap:round; stroke-linejoin:round; stroke-width:2; stroke-opacity:0.1; fill:none\" points=\"156.598,1445.72 2352.76,1445.72 \"/>\n",
       "<polyline clip-path=\"url(#clip452)\" style=\"stroke:#000000; stroke-linecap:round; stroke-linejoin:round; stroke-width:2; stroke-opacity:0.1; fill:none\" points=\"156.598,1149.91 2352.76,1149.91 \"/>\n",
       "<polyline clip-path=\"url(#clip452)\" style=\"stroke:#000000; stroke-linecap:round; stroke-linejoin:round; stroke-width:2; stroke-opacity:0.1; fill:none\" points=\"156.598,854.108 2352.76,854.108 \"/>\n",
       "<polyline clip-path=\"url(#clip452)\" style=\"stroke:#000000; stroke-linecap:round; stroke-linejoin:round; stroke-width:2; stroke-opacity:0.1; fill:none\" points=\"156.598,558.304 2352.76,558.304 \"/>\n",
       "<polyline clip-path=\"url(#clip452)\" style=\"stroke:#000000; stroke-linecap:round; stroke-linejoin:round; stroke-width:2; stroke-opacity:0.1; fill:none\" points=\"156.598,262.501 2352.76,262.501 \"/>\n",
       "<polyline clip-path=\"url(#clip450)\" style=\"stroke:#000000; stroke-linecap:round; stroke-linejoin:round; stroke-width:4; stroke-opacity:1; fill:none\" points=\"156.598,1486.45 156.598,47.2441 \"/>\n",
       "<polyline clip-path=\"url(#clip450)\" style=\"stroke:#000000; stroke-linecap:round; stroke-linejoin:round; stroke-width:4; stroke-opacity:1; fill:none\" points=\"156.598,1445.72 175.496,1445.72 \"/>\n",
       "<polyline clip-path=\"url(#clip450)\" style=\"stroke:#000000; stroke-linecap:round; stroke-linejoin:round; stroke-width:4; stroke-opacity:1; fill:none\" points=\"156.598,1149.91 175.496,1149.91 \"/>\n",
       "<polyline clip-path=\"url(#clip450)\" style=\"stroke:#000000; stroke-linecap:round; stroke-linejoin:round; stroke-width:4; stroke-opacity:1; fill:none\" points=\"156.598,854.108 175.496,854.108 \"/>\n",
       "<polyline clip-path=\"url(#clip450)\" style=\"stroke:#000000; stroke-linecap:round; stroke-linejoin:round; stroke-width:4; stroke-opacity:1; fill:none\" points=\"156.598,558.304 175.496,558.304 \"/>\n",
       "<polyline clip-path=\"url(#clip450)\" style=\"stroke:#000000; stroke-linecap:round; stroke-linejoin:round; stroke-width:4; stroke-opacity:1; fill:none\" points=\"156.598,262.501 175.496,262.501 \"/>\n",
       "<path clip-path=\"url(#clip450)\" d=\"M63.4226 1431.51 Q59.8115 1431.51 57.9828 1435.08 Q56.1773 1438.62 56.1773 1445.75 Q56.1773 1452.86 57.9828 1456.42 Q59.8115 1459.96 63.4226 1459.96 Q67.0569 1459.96 68.8624 1456.42 Q70.6911 1452.86 70.6911 1445.75 Q70.6911 1438.62 68.8624 1435.08 Q67.0569 1431.51 63.4226 1431.51 M63.4226 1427.81 Q69.2328 1427.81 72.2883 1432.42 Q75.367 1437 75.367 1445.75 Q75.367 1454.48 72.2883 1459.08 Q69.2328 1463.67 63.4226 1463.67 Q57.6125 1463.67 54.5338 1459.08 Q51.4782 1454.48 51.4782 1445.75 Q51.4782 1437 54.5338 1432.42 Q57.6125 1427.81 63.4226 1427.81 Z\" fill=\"#000000\" fill-rule=\"evenodd\" fill-opacity=\"1\" /><path clip-path=\"url(#clip450)\" d=\"M83.5845 1457.12 L88.4688 1457.12 L88.4688 1463 L83.5845 1463 L83.5845 1457.12 Z\" fill=\"#000000\" fill-rule=\"evenodd\" fill-opacity=\"1\" /><path clip-path=\"url(#clip450)\" d=\"M108.654 1431.51 Q105.043 1431.51 103.214 1435.08 Q101.409 1438.62 101.409 1445.75 Q101.409 1452.86 103.214 1456.42 Q105.043 1459.96 108.654 1459.96 Q112.288 1459.96 114.094 1456.42 Q115.922 1452.86 115.922 1445.75 Q115.922 1438.62 114.094 1435.08 Q112.288 1431.51 108.654 1431.51 M108.654 1427.81 Q114.464 1427.81 117.52 1432.42 Q120.598 1437 120.598 1445.75 Q120.598 1454.48 117.52 1459.08 Q114.464 1463.67 108.654 1463.67 Q102.844 1463.67 99.765 1459.08 Q96.7095 1454.48 96.7095 1445.75 Q96.7095 1437 99.765 1432.42 Q102.844 1427.81 108.654 1427.81 Z\" fill=\"#000000\" fill-rule=\"evenodd\" fill-opacity=\"1\" /><path clip-path=\"url(#clip450)\" d=\"M64.6495 1135.71 Q61.0384 1135.71 59.2097 1139.28 Q57.4041 1142.82 57.4041 1149.95 Q57.4041 1157.05 59.2097 1160.62 Q61.0384 1164.16 64.6495 1164.16 Q68.2837 1164.16 70.0892 1160.62 Q71.9179 1157.05 71.9179 1149.95 Q71.9179 1142.82 70.0892 1139.28 Q68.2837 1135.71 64.6495 1135.71 M64.6495 1132.01 Q70.4596 1132.01 73.5152 1136.61 Q76.5938 1141.2 76.5938 1149.95 Q76.5938 1158.67 73.5152 1163.28 Q70.4596 1167.86 64.6495 1167.86 Q58.8393 1167.86 55.7606 1163.28 Q52.7051 1158.67 52.7051 1149.95 Q52.7051 1141.2 55.7606 1136.61 Q58.8393 1132.01 64.6495 1132.01 Z\" fill=\"#000000\" fill-rule=\"evenodd\" fill-opacity=\"1\" /><path clip-path=\"url(#clip450)\" d=\"M84.8114 1161.31 L89.6956 1161.31 L89.6956 1167.19 L84.8114 1167.19 L84.8114 1161.31 Z\" fill=\"#000000\" fill-rule=\"evenodd\" fill-opacity=\"1\" /><path clip-path=\"url(#clip450)\" d=\"M100.691 1163.26 L108.33 1163.26 L108.33 1136.89 L100.02 1138.56 L100.02 1134.3 L108.283 1132.63 L112.959 1132.63 L112.959 1163.26 L120.598 1163.26 L120.598 1167.19 L100.691 1167.19 L100.691 1163.26 Z\" fill=\"#000000\" fill-rule=\"evenodd\" fill-opacity=\"1\" /><path clip-path=\"url(#clip450)\" d=\"M65.0198 839.907 Q61.4087 839.907 59.58 843.472 Q57.7745 847.013 57.7745 854.143 Q57.7745 861.249 59.58 864.814 Q61.4087 868.356 65.0198 868.356 Q68.6541 868.356 70.4596 864.814 Q72.2883 861.249 72.2883 854.143 Q72.2883 847.013 70.4596 843.472 Q68.6541 839.907 65.0198 839.907 M65.0198 836.203 Q70.83 836.203 73.8855 840.81 Q76.9642 845.393 76.9642 854.143 Q76.9642 862.87 73.8855 867.476 Q70.83 872.059 65.0198 872.059 Q59.2097 872.059 56.131 867.476 Q53.0754 862.87 53.0754 854.143 Q53.0754 845.393 56.131 840.81 Q59.2097 836.203 65.0198 836.203 Z\" fill=\"#000000\" fill-rule=\"evenodd\" fill-opacity=\"1\" /><path clip-path=\"url(#clip450)\" d=\"M85.1818 865.509 L90.066 865.509 L90.066 871.388 L85.1818 871.388 L85.1818 865.509 Z\" fill=\"#000000\" fill-rule=\"evenodd\" fill-opacity=\"1\" /><path clip-path=\"url(#clip450)\" d=\"M104.279 867.453 L120.598 867.453 L120.598 871.388 L98.6539 871.388 L98.6539 867.453 Q101.316 864.698 105.899 860.069 Q110.506 855.416 111.686 854.073 Q113.932 851.55 114.811 849.814 Q115.714 848.055 115.714 846.365 Q115.714 843.61 113.77 841.874 Q111.848 840.138 108.746 840.138 Q106.547 840.138 104.094 840.902 Q101.663 841.666 98.8854 843.217 L98.8854 838.495 Q101.709 837.361 104.163 836.782 Q106.617 836.203 108.654 836.203 Q114.024 836.203 117.219 838.888 Q120.413 841.573 120.413 846.064 Q120.413 848.194 119.603 850.115 Q118.816 852.013 116.709 854.606 Q116.131 855.277 113.029 858.495 Q109.927 861.689 104.279 867.453 Z\" fill=\"#000000\" fill-rule=\"evenodd\" fill-opacity=\"1\" /><path clip-path=\"url(#clip450)\" d=\"M64.0708 544.103 Q60.4597 544.103 58.631 547.668 Q56.8254 551.209 56.8254 558.339 Q56.8254 565.445 58.631 569.01 Q60.4597 572.552 64.0708 572.552 Q67.705 572.552 69.5105 569.01 Q71.3392 565.445 71.3392 558.339 Q71.3392 551.209 69.5105 547.668 Q67.705 544.103 64.0708 544.103 M64.0708 540.399 Q69.8809 540.399 72.9365 545.006 Q76.0151 549.589 76.0151 558.339 Q76.0151 567.066 72.9365 571.672 Q69.8809 576.256 64.0708 576.256 Q58.2606 576.256 55.1819 571.672 Q52.1264 567.066 52.1264 558.339 Q52.1264 549.589 55.1819 545.006 Q58.2606 540.399 64.0708 540.399 Z\" fill=\"#000000\" fill-rule=\"evenodd\" fill-opacity=\"1\" /><path clip-path=\"url(#clip450)\" d=\"M84.2327 569.705 L89.1169 569.705 L89.1169 575.584 L84.2327 575.584 L84.2327 569.705 Z\" fill=\"#000000\" fill-rule=\"evenodd\" fill-opacity=\"1\" /><path clip-path=\"url(#clip450)\" d=\"M113.469 556.95 Q116.825 557.668 118.7 559.936 Q120.598 562.205 120.598 565.538 Q120.598 570.654 117.08 573.455 Q113.561 576.256 107.08 576.256 Q104.904 576.256 102.589 575.816 Q100.297 575.399 97.8437 574.543 L97.8437 570.029 Q99.7882 571.163 102.103 571.742 Q104.418 572.32 106.941 572.32 Q111.339 572.32 113.631 570.584 Q115.945 568.848 115.945 565.538 Q115.945 562.483 113.793 560.77 Q111.663 559.033 107.844 559.033 L103.816 559.033 L103.816 555.191 L108.029 555.191 Q111.478 555.191 113.307 553.825 Q115.135 552.436 115.135 549.844 Q115.135 547.182 113.237 545.77 Q111.362 544.334 107.844 544.334 Q105.922 544.334 103.723 544.751 Q101.524 545.168 98.8854 546.047 L98.8854 541.881 Q101.547 541.14 103.862 540.77 Q106.2 540.399 108.26 540.399 Q113.584 540.399 116.686 542.83 Q119.788 545.237 119.788 549.358 Q119.788 552.228 118.145 554.219 Q116.501 556.186 113.469 556.95 Z\" fill=\"#000000\" fill-rule=\"evenodd\" fill-opacity=\"1\" /><path clip-path=\"url(#clip450)\" d=\"M62.9365 248.299 Q59.3254 248.299 57.4967 251.864 Q55.6912 255.406 55.6912 262.535 Q55.6912 269.642 57.4967 273.206 Q59.3254 276.748 62.9365 276.748 Q66.5707 276.748 68.3763 273.206 Q70.205 269.642 70.205 262.535 Q70.205 255.406 68.3763 251.864 Q66.5707 248.299 62.9365 248.299 M62.9365 244.596 Q68.7467 244.596 71.8022 249.202 Q74.8809 253.785 74.8809 262.535 Q74.8809 271.262 71.8022 275.868 Q68.7467 280.452 62.9365 280.452 Q57.1264 280.452 54.0477 275.868 Q50.9921 271.262 50.9921 262.535 Q50.9921 253.785 54.0477 249.202 Q57.1264 244.596 62.9365 244.596 Z\" fill=\"#000000\" fill-rule=\"evenodd\" fill-opacity=\"1\" /><path clip-path=\"url(#clip450)\" d=\"M83.0984 273.901 L87.9827 273.901 L87.9827 279.781 L83.0984 279.781 L83.0984 273.901 Z\" fill=\"#000000\" fill-rule=\"evenodd\" fill-opacity=\"1\" /><path clip-path=\"url(#clip450)\" d=\"M111.015 249.295 L99.2095 267.744 L111.015 267.744 L111.015 249.295 M109.788 245.221 L115.668 245.221 L115.668 267.744 L120.598 267.744 L120.598 271.632 L115.668 271.632 L115.668 279.781 L111.015 279.781 L111.015 271.632 L95.4132 271.632 L95.4132 267.119 L109.788 245.221 Z\" fill=\"#000000\" fill-rule=\"evenodd\" fill-opacity=\"1\" /><path clip-path=\"url(#clip452)\" d=\"M277.391 1356.97 L277.391 1445.72 L472.848 1445.72 L472.848 1356.97 L277.391 1356.97 L277.391 1356.97  Z\" fill=\"#009af9\" fill-rule=\"evenodd\" fill-opacity=\"1\"/>\n",
       "<polyline clip-path=\"url(#clip452)\" style=\"stroke:#000000; stroke-linecap:round; stroke-linejoin:round; stroke-width:4; stroke-opacity:1; fill:none\" points=\"277.391,1356.97 277.391,1445.72 472.848,1445.72 472.848,1356.97 277.391,1356.97 \"/>\n",
       "<path clip-path=\"url(#clip452)\" d=\"M472.848 1425.01 L472.848 1445.72 L668.305 1445.72 L668.305 1425.01 L472.848 1425.01 L472.848 1425.01  Z\" fill=\"#009af9\" fill-rule=\"evenodd\" fill-opacity=\"1\"/>\n",
       "<polyline clip-path=\"url(#clip452)\" style=\"stroke:#000000; stroke-linecap:round; stroke-linejoin:round; stroke-width:4; stroke-opacity:1; fill:none\" points=\"472.848,1425.01 472.848,1445.72 668.305,1445.72 668.305,1425.01 472.848,1425.01 \"/>\n",
       "<path clip-path=\"url(#clip452)\" d=\"M668.305 1445.72 L668.305 1445.72 L863.763 1445.72 L863.763 1445.72 L668.305 1445.72 L668.305 1445.72  Z\" fill=\"#009af9\" fill-rule=\"evenodd\" fill-opacity=\"1\"/>\n",
       "<polyline clip-path=\"url(#clip452)\" style=\"stroke:#000000; stroke-linecap:round; stroke-linejoin:round; stroke-width:4; stroke-opacity:1; fill:none\" points=\"668.305,1445.72 668.305,1445.72 863.763,1445.72 668.305,1445.72 \"/>\n",
       "<path clip-path=\"url(#clip452)\" d=\"M863.763 87.9763 L863.763 1445.72 L1059.22 1445.72 L1059.22 87.9763 L863.763 87.9763 L863.763 87.9763  Z\" fill=\"#009af9\" fill-rule=\"evenodd\" fill-opacity=\"1\"/>\n",
       "<polyline clip-path=\"url(#clip452)\" style=\"stroke:#000000; stroke-linecap:round; stroke-linejoin:round; stroke-width:4; stroke-opacity:1; fill:none\" points=\"863.763,87.9763 863.763,1445.72 1059.22,1445.72 1059.22,87.9763 863.763,87.9763 \"/>\n",
       "<path clip-path=\"url(#clip452)\" d=\"M1059.22 1380.64 L1059.22 1445.72 L1254.68 1445.72 L1254.68 1380.64 L1059.22 1380.64 L1059.22 1380.64  Z\" fill=\"#009af9\" fill-rule=\"evenodd\" fill-opacity=\"1\"/>\n",
       "<polyline clip-path=\"url(#clip452)\" style=\"stroke:#000000; stroke-linecap:round; stroke-linejoin:round; stroke-width:4; stroke-opacity:1; fill:none\" points=\"1059.22,1380.64 1059.22,1445.72 1254.68,1445.72 1254.68,1380.64 1059.22,1380.64 \"/>\n",
       "<path clip-path=\"url(#clip452)\" d=\"M1254.68 1445.72 L1254.68 1445.72 L1450.13 1445.72 L1450.13 1445.72 L1254.68 1445.72 L1254.68 1445.72  Z\" fill=\"#009af9\" fill-rule=\"evenodd\" fill-opacity=\"1\"/>\n",
       "<polyline clip-path=\"url(#clip452)\" style=\"stroke:#000000; stroke-linecap:round; stroke-linejoin:round; stroke-width:4; stroke-opacity:1; fill:none\" points=\"1254.68,1445.72 1254.68,1445.72 1450.13,1445.72 1254.68,1445.72 \"/>\n",
       "<path clip-path=\"url(#clip452)\" d=\"M1450.13 1445.72 L1450.13 1445.72 L1645.59 1445.72 L1645.59 1445.72 L1450.13 1445.72 L1450.13 1445.72  Z\" fill=\"#009af9\" fill-rule=\"evenodd\" fill-opacity=\"1\"/>\n",
       "<polyline clip-path=\"url(#clip452)\" style=\"stroke:#000000; stroke-linecap:round; stroke-linejoin:round; stroke-width:4; stroke-opacity:1; fill:none\" points=\"1450.13,1445.72 1450.13,1445.72 1645.59,1445.72 1450.13,1445.72 \"/>\n",
       "<path clip-path=\"url(#clip452)\" d=\"M1645.59 1445.72 L1645.59 1445.72 L1841.05 1445.72 L1841.05 1445.72 L1645.59 1445.72 L1645.59 1445.72  Z\" fill=\"#009af9\" fill-rule=\"evenodd\" fill-opacity=\"1\"/>\n",
       "<polyline clip-path=\"url(#clip452)\" style=\"stroke:#000000; stroke-linecap:round; stroke-linejoin:round; stroke-width:4; stroke-opacity:1; fill:none\" points=\"1645.59,1445.72 1645.59,1445.72 1841.05,1445.72 1645.59,1445.72 \"/>\n",
       "<path clip-path=\"url(#clip452)\" d=\"M1841.05 303.913 L1841.05 1445.72 L2036.51 1445.72 L2036.51 303.913 L1841.05 303.913 L1841.05 303.913  Z\" fill=\"#009af9\" fill-rule=\"evenodd\" fill-opacity=\"1\"/>\n",
       "<polyline clip-path=\"url(#clip452)\" style=\"stroke:#000000; stroke-linecap:round; stroke-linejoin:round; stroke-width:4; stroke-opacity:1; fill:none\" points=\"1841.05,303.913 1841.05,1445.72 2036.51,1445.72 2036.51,303.913 1841.05,303.913 \"/>\n",
       "<path clip-path=\"url(#clip452)\" d=\"M2036.51 1161.74 L2036.51 1445.72 L2231.96 1445.72 L2231.96 1161.74 L2036.51 1161.74 L2036.51 1161.74  Z\" fill=\"#009af9\" fill-rule=\"evenodd\" fill-opacity=\"1\"/>\n",
       "<polyline clip-path=\"url(#clip452)\" style=\"stroke:#000000; stroke-linecap:round; stroke-linejoin:round; stroke-width:4; stroke-opacity:1; fill:none\" points=\"2036.51,1161.74 2036.51,1445.72 2231.96,1445.72 2231.96,1161.74 2036.51,1161.74 \"/>\n",
       "<circle clip-path=\"url(#clip452)\" style=\"fill:#009af9; stroke:none; fill-opacity:0\" cx=\"375.119\" cy=\"1356.97\" r=\"2\"/>\n",
       "<circle clip-path=\"url(#clip452)\" style=\"fill:#009af9; stroke:none; fill-opacity:0\" cx=\"570.577\" cy=\"1425.01\" r=\"2\"/>\n",
       "<circle clip-path=\"url(#clip452)\" style=\"fill:#009af9; stroke:none; fill-opacity:0\" cx=\"766.034\" cy=\"1445.72\" r=\"2\"/>\n",
       "<circle clip-path=\"url(#clip452)\" style=\"fill:#009af9; stroke:none; fill-opacity:0\" cx=\"961.491\" cy=\"87.9763\" r=\"2\"/>\n",
       "<circle clip-path=\"url(#clip452)\" style=\"fill:#009af9; stroke:none; fill-opacity:0\" cx=\"1156.95\" cy=\"1380.64\" r=\"2\"/>\n",
       "<circle clip-path=\"url(#clip452)\" style=\"fill:#009af9; stroke:none; fill-opacity:0\" cx=\"1352.41\" cy=\"1445.72\" r=\"2\"/>\n",
       "<circle clip-path=\"url(#clip452)\" style=\"fill:#009af9; stroke:none; fill-opacity:0\" cx=\"1547.86\" cy=\"1445.72\" r=\"2\"/>\n",
       "<circle clip-path=\"url(#clip452)\" style=\"fill:#009af9; stroke:none; fill-opacity:0\" cx=\"1743.32\" cy=\"1445.72\" r=\"2\"/>\n",
       "<circle clip-path=\"url(#clip452)\" style=\"fill:#009af9; stroke:none; fill-opacity:0\" cx=\"1938.78\" cy=\"303.913\" r=\"2\"/>\n",
       "<circle clip-path=\"url(#clip452)\" style=\"fill:#009af9; stroke:none; fill-opacity:0\" cx=\"2134.23\" cy=\"1161.74\" r=\"2\"/>\n",
       "<path clip-path=\"url(#clip450)\" d=\"M229.803 198.898 L501.85 198.898 L501.85 95.2176 L229.803 95.2176  Z\" fill=\"#ffffff\" fill-rule=\"evenodd\" fill-opacity=\"1\"/>\n",
       "<polyline clip-path=\"url(#clip450)\" style=\"stroke:#000000; stroke-linecap:round; stroke-linejoin:round; stroke-width:4; stroke-opacity:1; fill:none\" points=\"229.803,198.898 501.85,198.898 501.85,95.2176 229.803,95.2176 229.803,198.898 \"/>\n",
       "<path clip-path=\"url(#clip450)\" d=\"M254.205 167.794 L400.616 167.794 L400.616 126.322 L254.205 126.322 L254.205 167.794  Z\" fill=\"#009af9\" fill-rule=\"evenodd\" fill-opacity=\"1\"/>\n",
       "<polyline clip-path=\"url(#clip450)\" style=\"stroke:#000000; stroke-linecap:round; stroke-linejoin:round; stroke-width:4; stroke-opacity:1; fill:none\" points=\"254.205,167.794 400.616,167.794 400.616,126.322 254.205,126.322 254.205,167.794 \"/>\n",
       "<path clip-path=\"url(#clip450)\" d=\"M438.86 166.745 Q437.054 171.375 435.342 172.787 Q433.629 174.199 430.758 174.199 L427.355 174.199 L427.355 170.634 L429.855 170.634 Q431.615 170.634 432.587 169.8 Q433.559 168.967 434.74 165.865 L435.504 163.921 L425.018 138.412 L429.531 138.412 L437.633 158.689 L445.735 138.412 L450.249 138.412 L438.86 166.745 Z\" fill=\"#000000\" fill-rule=\"evenodd\" fill-opacity=\"1\" /><path clip-path=\"url(#clip450)\" d=\"M457.54 160.402 L465.179 160.402 L465.179 134.037 L456.869 135.703 L456.869 131.444 L465.133 129.778 L469.809 129.778 L469.809 160.402 L477.448 160.402 L477.448 164.338 L457.54 164.338 L457.54 160.402 Z\" fill=\"#000000\" fill-rule=\"evenodd\" fill-opacity=\"1\" /></svg>\n"
      ]
     },
     "execution_count": 71,
     "metadata": {},
     "output_type": "execute_result"
    }
   ],
   "source": [
    "histogram(chain_out, normalize=:probability)"
   ]
  },
  {
   "cell_type": "code",
   "execution_count": 72,
   "id": "f49af7ca-2560-4334-9d6f-0d1f4a53b0e9",
   "metadata": {},
   "outputs": [
    {
     "data": {
      "text/plain": [
       "10000-element Vector{Float64}:\n",
       " 0.5347217797436132\n",
       " 0.5347217797436132\n",
       " 0.5347217797436132\n",
       " 0.5347217797436132\n",
       " 0.5347217797436132\n",
       " 0.5347217797436132\n",
       " 0.5347217797436132\n",
       " 0.5347217797436132\n",
       " 0.5347217797436132\n",
       " 0.5347217797436132\n",
       " 0.5347217797436132\n",
       " 0.5347217797436132\n",
       " 0.5347217797436132\n",
       " ⋮\n",
       " 0.5291227094813774\n",
       " 0.5291227094813774\n",
       " 0.5291227094813774\n",
       " 0.5291227094813774\n",
       " 0.5291227094813774\n",
       " 0.5291227094813774\n",
       " 0.5291227094813774\n",
       " 0.5291227094813774\n",
       " 0.5291227094813774\n",
       " 0.5291227094813774\n",
       " 0.5291227094813774\n",
       " 0.5291227094813774"
      ]
     },
     "execution_count": 72,
     "metadata": {},
     "output_type": "execute_result"
    }
   ],
   "source": [
    "chain_out_long = do_mcmc_inference(roll_model, test_traj, 10000)"
   ]
  },
  {
   "cell_type": "code",
   "execution_count": 73,
   "id": "9e31095b-c6a2-4fcf-8707-ac4dbfb1a33d",
   "metadata": {},
   "outputs": [
    {
     "data": {
      "image/svg+xml": [
       "<?xml version=\"1.0\" encoding=\"utf-8\"?>\n",
       "<svg xmlns=\"http://www.w3.org/2000/svg\" xmlns:xlink=\"http://www.w3.org/1999/xlink\" width=\"600\" height=\"400\" viewBox=\"0 0 2400 1600\">\n",
       "<defs>\n",
       "  <clipPath id=\"clip490\">\n",
       "    <rect x=\"0\" y=\"0\" width=\"2400\" height=\"1600\"/>\n",
       "  </clipPath>\n",
       "</defs>\n",
       "<path clip-path=\"url(#clip490)\" d=\"M0 1600 L2400 1600 L2400 0 L0 0  Z\" fill=\"#ffffff\" fill-rule=\"evenodd\" fill-opacity=\"1\"/>\n",
       "<defs>\n",
       "  <clipPath id=\"clip491\">\n",
       "    <rect x=\"480\" y=\"0\" width=\"1681\" height=\"1600\"/>\n",
       "  </clipPath>\n",
       "</defs>\n",
       "<path clip-path=\"url(#clip490)\" d=\"M186.274 1486.45 L2352.76 1486.45 L2352.76 47.2441 L186.274 47.2441  Z\" fill=\"#ffffff\" fill-rule=\"evenodd\" fill-opacity=\"1\"/>\n",
       "<defs>\n",
       "  <clipPath id=\"clip492\">\n",
       "    <rect x=\"186\" y=\"47\" width=\"2167\" height=\"1440\"/>\n",
       "  </clipPath>\n",
       "</defs>\n",
       "<polyline clip-path=\"url(#clip492)\" style=\"stroke:#000000; stroke-linecap:round; stroke-linejoin:round; stroke-width:2; stroke-opacity:0.1; fill:none\" points=\"305.434,1486.45 305.434,47.2441 \"/>\n",
       "<polyline clip-path=\"url(#clip492)\" style=\"stroke:#000000; stroke-linecap:round; stroke-linejoin:round; stroke-width:2; stroke-opacity:0.1; fill:none\" points=\"787.475,1486.45 787.475,47.2441 \"/>\n",
       "<polyline clip-path=\"url(#clip492)\" style=\"stroke:#000000; stroke-linecap:round; stroke-linejoin:round; stroke-width:2; stroke-opacity:0.1; fill:none\" points=\"1269.51,1486.45 1269.51,47.2441 \"/>\n",
       "<polyline clip-path=\"url(#clip492)\" style=\"stroke:#000000; stroke-linecap:round; stroke-linejoin:round; stroke-width:2; stroke-opacity:0.1; fill:none\" points=\"1751.56,1486.45 1751.56,47.2441 \"/>\n",
       "<polyline clip-path=\"url(#clip492)\" style=\"stroke:#000000; stroke-linecap:round; stroke-linejoin:round; stroke-width:2; stroke-opacity:0.1; fill:none\" points=\"2233.6,1486.45 2233.6,47.2441 \"/>\n",
       "<polyline clip-path=\"url(#clip490)\" style=\"stroke:#000000; stroke-linecap:round; stroke-linejoin:round; stroke-width:4; stroke-opacity:1; fill:none\" points=\"186.274,1486.45 2352.76,1486.45 \"/>\n",
       "<polyline clip-path=\"url(#clip490)\" style=\"stroke:#000000; stroke-linecap:round; stroke-linejoin:round; stroke-width:4; stroke-opacity:1; fill:none\" points=\"305.434,1486.45 305.434,1467.55 \"/>\n",
       "<polyline clip-path=\"url(#clip490)\" style=\"stroke:#000000; stroke-linecap:round; stroke-linejoin:round; stroke-width:4; stroke-opacity:1; fill:none\" points=\"787.475,1486.45 787.475,1467.55 \"/>\n",
       "<polyline clip-path=\"url(#clip490)\" style=\"stroke:#000000; stroke-linecap:round; stroke-linejoin:round; stroke-width:4; stroke-opacity:1; fill:none\" points=\"1269.51,1486.45 1269.51,1467.55 \"/>\n",
       "<polyline clip-path=\"url(#clip490)\" style=\"stroke:#000000; stroke-linecap:round; stroke-linejoin:round; stroke-width:4; stroke-opacity:1; fill:none\" points=\"1751.56,1486.45 1751.56,1467.55 \"/>\n",
       "<polyline clip-path=\"url(#clip490)\" style=\"stroke:#000000; stroke-linecap:round; stroke-linejoin:round; stroke-width:4; stroke-opacity:1; fill:none\" points=\"2233.6,1486.45 2233.6,1467.55 \"/>\n",
       "<path clip-path=\"url(#clip490)\" d=\"M253.155 1517.37 Q249.543 1517.37 247.715 1520.93 Q245.909 1524.47 245.909 1531.6 Q245.909 1538.71 247.715 1542.27 Q249.543 1545.82 253.155 1545.82 Q256.789 1545.82 258.594 1542.27 Q260.423 1538.71 260.423 1531.6 Q260.423 1524.47 258.594 1520.93 Q256.789 1517.37 253.155 1517.37 M253.155 1513.66 Q258.965 1513.66 262.02 1518.27 Q265.099 1522.85 265.099 1531.6 Q265.099 1540.33 262.02 1544.94 Q258.965 1549.52 253.155 1549.52 Q247.344 1549.52 244.266 1544.94 Q241.21 1540.33 241.21 1531.6 Q241.21 1522.85 244.266 1518.27 Q247.344 1513.66 253.155 1513.66 Z\" fill=\"#000000\" fill-rule=\"evenodd\" fill-opacity=\"1\" /><path clip-path=\"url(#clip490)\" d=\"M273.316 1542.97 L278.201 1542.97 L278.201 1548.85 L273.316 1548.85 L273.316 1542.97 Z\" fill=\"#000000\" fill-rule=\"evenodd\" fill-opacity=\"1\" /><path clip-path=\"url(#clip490)\" d=\"M288.432 1514.29 L306.789 1514.29 L306.789 1518.22 L292.715 1518.22 L292.715 1526.7 Q293.733 1526.35 294.752 1526.19 Q295.77 1526 296.789 1526 Q302.576 1526 305.955 1529.17 Q309.335 1532.34 309.335 1537.76 Q309.335 1543.34 305.863 1546.44 Q302.39 1549.52 296.071 1549.52 Q293.895 1549.52 291.627 1549.15 Q289.381 1548.78 286.974 1548.04 L286.974 1543.34 Q289.057 1544.47 291.279 1545.03 Q293.502 1545.58 295.978 1545.58 Q299.983 1545.58 302.321 1543.48 Q304.659 1541.37 304.659 1537.76 Q304.659 1534.15 302.321 1532.04 Q299.983 1529.94 295.978 1529.94 Q294.103 1529.94 292.228 1530.35 Q290.377 1530.77 288.432 1531.65 L288.432 1514.29 Z\" fill=\"#000000\" fill-rule=\"evenodd\" fill-opacity=\"1\" /><path clip-path=\"url(#clip490)\" d=\"M319.358 1544.91 L326.997 1544.91 L326.997 1518.55 L318.687 1520.21 L318.687 1515.95 L326.95 1514.29 L331.626 1514.29 L331.626 1544.91 L339.265 1544.91 L339.265 1548.85 L319.358 1548.85 L319.358 1544.91 Z\" fill=\"#000000\" fill-rule=\"evenodd\" fill-opacity=\"1\" /><path clip-path=\"url(#clip490)\" d=\"M348.756 1514.29 L367.112 1514.29 L367.112 1518.22 L353.038 1518.22 L353.038 1526.7 Q354.057 1526.35 355.075 1526.19 Q356.094 1526 357.112 1526 Q362.899 1526 366.279 1529.17 Q369.659 1532.34 369.659 1537.76 Q369.659 1543.34 366.186 1546.44 Q362.714 1549.52 356.395 1549.52 Q354.219 1549.52 351.95 1549.15 Q349.705 1548.78 347.298 1548.04 L347.298 1543.34 Q349.381 1544.47 351.603 1545.03 Q353.825 1545.58 356.302 1545.58 Q360.307 1545.58 362.645 1543.48 Q364.983 1541.37 364.983 1537.76 Q364.983 1534.15 362.645 1532.04 Q360.307 1529.94 356.302 1529.94 Q354.427 1529.94 352.552 1530.35 Q350.7 1530.77 348.756 1531.65 L348.756 1514.29 Z\" fill=\"#000000\" fill-rule=\"evenodd\" fill-opacity=\"1\" /><path clip-path=\"url(#clip490)\" d=\"M734.697 1517.37 Q731.086 1517.37 729.257 1520.93 Q727.452 1524.47 727.452 1531.6 Q727.452 1538.71 729.257 1542.27 Q731.086 1545.82 734.697 1545.82 Q738.331 1545.82 740.137 1542.27 Q741.966 1538.71 741.966 1531.6 Q741.966 1524.47 740.137 1520.93 Q738.331 1517.37 734.697 1517.37 M734.697 1513.66 Q740.507 1513.66 743.563 1518.27 Q746.642 1522.85 746.642 1531.6 Q746.642 1540.33 743.563 1544.94 Q740.507 1549.52 734.697 1549.52 Q728.887 1549.52 725.808 1544.94 Q722.753 1540.33 722.753 1531.6 Q722.753 1522.85 725.808 1518.27 Q728.887 1513.66 734.697 1513.66 Z\" fill=\"#000000\" fill-rule=\"evenodd\" fill-opacity=\"1\" /><path clip-path=\"url(#clip490)\" d=\"M754.859 1542.97 L759.743 1542.97 L759.743 1548.85 L754.859 1548.85 L754.859 1542.97 Z\" fill=\"#000000\" fill-rule=\"evenodd\" fill-opacity=\"1\" /><path clip-path=\"url(#clip490)\" d=\"M769.975 1514.29 L788.331 1514.29 L788.331 1518.22 L774.257 1518.22 L774.257 1526.7 Q775.276 1526.35 776.294 1526.19 Q777.313 1526 778.331 1526 Q784.118 1526 787.498 1529.17 Q790.877 1532.34 790.877 1537.76 Q790.877 1543.34 787.405 1546.44 Q783.933 1549.52 777.614 1549.52 Q775.438 1549.52 773.169 1549.15 Q770.924 1548.78 768.516 1548.04 L768.516 1543.34 Q770.6 1544.47 772.822 1545.03 Q775.044 1545.58 777.521 1545.58 Q781.526 1545.58 783.864 1543.48 Q786.202 1541.37 786.202 1537.76 Q786.202 1534.15 783.864 1532.04 Q781.526 1529.94 777.521 1529.94 Q775.646 1529.94 773.771 1530.35 Q771.919 1530.77 769.975 1531.65 L769.975 1514.29 Z\" fill=\"#000000\" fill-rule=\"evenodd\" fill-opacity=\"1\" /><path clip-path=\"url(#clip490)\" d=\"M804.118 1544.91 L820.437 1544.91 L820.437 1548.85 L798.493 1548.85 L798.493 1544.91 Q801.155 1542.16 805.738 1537.53 Q810.345 1532.88 811.525 1531.53 Q813.771 1529.01 814.65 1527.27 Q815.553 1525.51 815.553 1523.82 Q815.553 1521.07 813.609 1519.33 Q811.687 1517.6 808.586 1517.6 Q806.387 1517.6 803.933 1518.36 Q801.502 1519.13 798.725 1520.68 L798.725 1515.95 Q801.549 1514.82 804.002 1514.24 Q806.456 1513.66 808.493 1513.66 Q813.863 1513.66 817.058 1516.35 Q820.252 1519.03 820.252 1523.52 Q820.252 1525.65 819.442 1527.57 Q818.655 1529.47 816.549 1532.07 Q815.97 1532.74 812.868 1535.95 Q809.766 1539.15 804.118 1544.91 Z\" fill=\"#000000\" fill-rule=\"evenodd\" fill-opacity=\"1\" /><path clip-path=\"url(#clip490)\" d=\"M840.252 1517.37 Q836.641 1517.37 834.812 1520.93 Q833.007 1524.47 833.007 1531.6 Q833.007 1538.71 834.812 1542.27 Q836.641 1545.82 840.252 1545.82 Q843.886 1545.82 845.692 1542.27 Q847.521 1538.71 847.521 1531.6 Q847.521 1524.47 845.692 1520.93 Q843.886 1517.37 840.252 1517.37 M840.252 1513.66 Q846.062 1513.66 849.118 1518.27 Q852.197 1522.85 852.197 1531.6 Q852.197 1540.33 849.118 1544.94 Q846.062 1549.52 840.252 1549.52 Q834.442 1549.52 831.363 1544.94 Q828.308 1540.33 828.308 1531.6 Q828.308 1522.85 831.363 1518.27 Q834.442 1513.66 840.252 1513.66 Z\" fill=\"#000000\" fill-rule=\"evenodd\" fill-opacity=\"1\" /><path clip-path=\"url(#clip490)\" d=\"M1217.24 1517.37 Q1213.62 1517.37 1211.8 1520.93 Q1209.99 1524.47 1209.99 1531.6 Q1209.99 1538.71 1211.8 1542.27 Q1213.62 1545.82 1217.24 1545.82 Q1220.87 1545.82 1222.67 1542.27 Q1224.5 1538.71 1224.5 1531.6 Q1224.5 1524.47 1222.67 1520.93 Q1220.87 1517.37 1217.24 1517.37 M1217.24 1513.66 Q1223.05 1513.66 1226.1 1518.27 Q1229.18 1522.85 1229.18 1531.6 Q1229.18 1540.33 1226.1 1544.94 Q1223.05 1549.52 1217.24 1549.52 Q1211.42 1549.52 1208.35 1544.94 Q1205.29 1540.33 1205.29 1531.6 Q1205.29 1522.85 1208.35 1518.27 Q1211.42 1513.66 1217.24 1513.66 Z\" fill=\"#000000\" fill-rule=\"evenodd\" fill-opacity=\"1\" /><path clip-path=\"url(#clip490)\" d=\"M1237.4 1542.97 L1242.28 1542.97 L1242.28 1548.85 L1237.4 1548.85 L1237.4 1542.97 Z\" fill=\"#000000\" fill-rule=\"evenodd\" fill-opacity=\"1\" /><path clip-path=\"url(#clip490)\" d=\"M1252.51 1514.29 L1270.87 1514.29 L1270.87 1518.22 L1256.8 1518.22 L1256.8 1526.7 Q1257.81 1526.35 1258.83 1526.19 Q1259.85 1526 1260.87 1526 Q1266.66 1526 1270.04 1529.17 Q1273.42 1532.34 1273.42 1537.76 Q1273.42 1543.34 1269.94 1546.44 Q1266.47 1549.52 1260.15 1549.52 Q1257.98 1549.52 1255.71 1549.15 Q1253.46 1548.78 1251.05 1548.04 L1251.05 1543.34 Q1253.14 1544.47 1255.36 1545.03 Q1257.58 1545.58 1260.06 1545.58 Q1264.06 1545.58 1266.4 1543.48 Q1268.74 1541.37 1268.74 1537.76 Q1268.74 1534.15 1266.4 1532.04 Q1264.06 1529.94 1260.06 1529.94 Q1258.18 1529.94 1256.31 1530.35 Q1254.46 1530.77 1252.51 1531.65 L1252.51 1514.29 Z\" fill=\"#000000\" fill-rule=\"evenodd\" fill-opacity=\"1\" /><path clip-path=\"url(#clip490)\" d=\"M1286.66 1544.91 L1302.98 1544.91 L1302.98 1548.85 L1281.03 1548.85 L1281.03 1544.91 Q1283.69 1542.16 1288.28 1537.53 Q1292.88 1532.88 1294.06 1531.53 Q1296.31 1529.01 1297.19 1527.27 Q1298.09 1525.51 1298.09 1523.82 Q1298.09 1521.07 1296.15 1519.33 Q1294.23 1517.6 1291.12 1517.6 Q1288.92 1517.6 1286.47 1518.36 Q1284.04 1519.13 1281.26 1520.68 L1281.26 1515.95 Q1284.09 1514.82 1286.54 1514.24 Q1288.99 1513.66 1291.03 1513.66 Q1296.4 1513.66 1299.6 1516.35 Q1302.79 1519.03 1302.79 1523.52 Q1302.79 1525.65 1301.98 1527.57 Q1301.19 1529.47 1299.09 1532.07 Q1298.51 1532.74 1295.41 1535.95 Q1292.3 1539.15 1286.66 1544.91 Z\" fill=\"#000000\" fill-rule=\"evenodd\" fill-opacity=\"1\" /><path clip-path=\"url(#clip490)\" d=\"M1312.84 1514.29 L1331.19 1514.29 L1331.19 1518.22 L1317.12 1518.22 L1317.12 1526.7 Q1318.14 1526.35 1319.16 1526.19 Q1320.17 1526 1321.19 1526 Q1326.98 1526 1330.36 1529.17 Q1333.74 1532.34 1333.74 1537.76 Q1333.74 1543.34 1330.27 1546.44 Q1326.79 1549.52 1320.48 1549.52 Q1318.3 1549.52 1316.03 1549.15 Q1313.79 1548.78 1311.38 1548.04 L1311.38 1543.34 Q1313.46 1544.47 1315.68 1545.03 Q1317.91 1545.58 1320.38 1545.58 Q1324.39 1545.58 1326.73 1543.48 Q1329.06 1541.37 1329.06 1537.76 Q1329.06 1534.15 1326.73 1532.04 Q1324.39 1529.94 1320.38 1529.94 Q1318.51 1529.94 1316.63 1530.35 Q1314.78 1530.77 1312.84 1531.65 L1312.84 1514.29 Z\" fill=\"#000000\" fill-rule=\"evenodd\" fill-opacity=\"1\" /><path clip-path=\"url(#clip490)\" d=\"M1698.78 1517.37 Q1695.17 1517.37 1693.34 1520.93 Q1691.53 1524.47 1691.53 1531.6 Q1691.53 1538.71 1693.34 1542.27 Q1695.17 1545.82 1698.78 1545.82 Q1702.41 1545.82 1704.22 1542.27 Q1706.05 1538.71 1706.05 1531.6 Q1706.05 1524.47 1704.22 1520.93 Q1702.41 1517.37 1698.78 1517.37 M1698.78 1513.66 Q1704.59 1513.66 1707.64 1518.27 Q1710.72 1522.85 1710.72 1531.6 Q1710.72 1540.33 1707.64 1544.94 Q1704.59 1549.52 1698.78 1549.52 Q1692.97 1549.52 1689.89 1544.94 Q1686.83 1540.33 1686.83 1531.6 Q1686.83 1522.85 1689.89 1518.27 Q1692.97 1513.66 1698.78 1513.66 Z\" fill=\"#000000\" fill-rule=\"evenodd\" fill-opacity=\"1\" /><path clip-path=\"url(#clip490)\" d=\"M1718.94 1542.97 L1723.82 1542.97 L1723.82 1548.85 L1718.94 1548.85 L1718.94 1542.97 Z\" fill=\"#000000\" fill-rule=\"evenodd\" fill-opacity=\"1\" /><path clip-path=\"url(#clip490)\" d=\"M1734.06 1514.29 L1752.41 1514.29 L1752.41 1518.22 L1738.34 1518.22 L1738.34 1526.7 Q1739.36 1526.35 1740.37 1526.19 Q1741.39 1526 1742.41 1526 Q1748.2 1526 1751.58 1529.17 Q1754.96 1532.34 1754.96 1537.76 Q1754.96 1543.34 1751.49 1546.44 Q1748.01 1549.52 1741.69 1549.52 Q1739.52 1549.52 1737.25 1549.15 Q1735 1548.78 1732.6 1548.04 L1732.6 1543.34 Q1734.68 1544.47 1736.9 1545.03 Q1739.12 1545.58 1741.6 1545.58 Q1745.61 1545.58 1747.94 1543.48 Q1750.28 1541.37 1750.28 1537.76 Q1750.28 1534.15 1747.94 1532.04 Q1745.61 1529.94 1741.6 1529.94 Q1739.73 1529.94 1737.85 1530.35 Q1736 1530.77 1734.06 1531.65 L1734.06 1514.29 Z\" fill=\"#000000\" fill-rule=\"evenodd\" fill-opacity=\"1\" /><path clip-path=\"url(#clip490)\" d=\"M1778.34 1530.21 Q1781.69 1530.93 1783.57 1533.2 Q1785.47 1535.47 1785.47 1538.8 Q1785.47 1543.92 1781.95 1546.72 Q1778.43 1549.52 1771.95 1549.52 Q1769.77 1549.52 1767.46 1549.08 Q1765.17 1548.66 1762.71 1547.81 L1762.71 1543.29 Q1764.66 1544.43 1766.97 1545.01 Q1769.29 1545.58 1771.81 1545.58 Q1776.21 1545.58 1778.5 1543.85 Q1780.81 1542.11 1780.81 1538.8 Q1780.81 1535.75 1778.66 1534.03 Q1776.53 1532.3 1772.71 1532.3 L1768.68 1532.3 L1768.68 1528.45 L1772.9 1528.45 Q1776.35 1528.45 1778.18 1527.09 Q1780 1525.7 1780 1523.11 Q1780 1520.45 1778.11 1519.03 Q1776.23 1517.6 1772.71 1517.6 Q1770.79 1517.6 1768.59 1518.01 Q1766.39 1518.43 1763.75 1519.31 L1763.75 1515.14 Q1766.42 1514.4 1768.73 1514.03 Q1771.07 1513.66 1773.13 1513.66 Q1778.45 1513.66 1781.56 1516.09 Q1784.66 1518.5 1784.66 1522.62 Q1784.66 1525.49 1783.01 1527.48 Q1781.37 1529.45 1778.34 1530.21 Z\" fill=\"#000000\" fill-rule=\"evenodd\" fill-opacity=\"1\" /><path clip-path=\"url(#clip490)\" d=\"M1804.33 1517.37 Q1800.72 1517.37 1798.89 1520.93 Q1797.09 1524.47 1797.09 1531.6 Q1797.09 1538.71 1798.89 1542.27 Q1800.72 1545.82 1804.33 1545.82 Q1807.97 1545.82 1809.77 1542.27 Q1811.6 1538.71 1811.6 1531.6 Q1811.6 1524.47 1809.77 1520.93 Q1807.97 1517.37 1804.33 1517.37 M1804.33 1513.66 Q1810.14 1513.66 1813.2 1518.27 Q1816.28 1522.85 1816.28 1531.6 Q1816.28 1540.33 1813.2 1544.94 Q1810.14 1549.52 1804.33 1549.52 Q1798.52 1549.52 1795.44 1544.94 Q1792.39 1540.33 1792.39 1531.6 Q1792.39 1522.85 1795.44 1518.27 Q1798.52 1513.66 1804.33 1513.66 Z\" fill=\"#000000\" fill-rule=\"evenodd\" fill-opacity=\"1\" /><path clip-path=\"url(#clip490)\" d=\"M2181.32 1517.37 Q2177.7 1517.37 2175.88 1520.93 Q2174.07 1524.47 2174.07 1531.6 Q2174.07 1538.71 2175.88 1542.27 Q2177.7 1545.82 2181.32 1545.82 Q2184.95 1545.82 2186.76 1542.27 Q2188.58 1538.71 2188.58 1531.6 Q2188.58 1524.47 2186.76 1520.93 Q2184.95 1517.37 2181.32 1517.37 M2181.32 1513.66 Q2187.13 1513.66 2190.18 1518.27 Q2193.26 1522.85 2193.26 1531.6 Q2193.26 1540.33 2190.18 1544.94 Q2187.13 1549.52 2181.32 1549.52 Q2175.51 1549.52 2172.43 1544.94 Q2169.37 1540.33 2169.37 1531.6 Q2169.37 1522.85 2172.43 1518.27 Q2175.51 1513.66 2181.32 1513.66 Z\" fill=\"#000000\" fill-rule=\"evenodd\" fill-opacity=\"1\" /><path clip-path=\"url(#clip490)\" d=\"M2201.48 1542.97 L2206.36 1542.97 L2206.36 1548.85 L2201.48 1548.85 L2201.48 1542.97 Z\" fill=\"#000000\" fill-rule=\"evenodd\" fill-opacity=\"1\" /><path clip-path=\"url(#clip490)\" d=\"M2216.59 1514.29 L2234.95 1514.29 L2234.95 1518.22 L2220.88 1518.22 L2220.88 1526.7 Q2221.89 1526.35 2222.91 1526.19 Q2223.93 1526 2224.95 1526 Q2230.74 1526 2234.12 1529.17 Q2237.5 1532.34 2237.5 1537.76 Q2237.5 1543.34 2234.02 1546.44 Q2230.55 1549.52 2224.23 1549.52 Q2222.06 1549.52 2219.79 1549.15 Q2217.54 1548.78 2215.13 1548.04 L2215.13 1543.34 Q2217.22 1544.47 2219.44 1545.03 Q2221.66 1545.58 2224.14 1545.58 Q2228.14 1545.58 2230.48 1543.48 Q2232.82 1541.37 2232.82 1537.76 Q2232.82 1534.15 2230.48 1532.04 Q2228.14 1529.94 2224.14 1529.94 Q2222.26 1529.94 2220.39 1530.35 Q2218.54 1530.77 2216.59 1531.65 L2216.59 1514.29 Z\" fill=\"#000000\" fill-rule=\"evenodd\" fill-opacity=\"1\" /><path clip-path=\"url(#clip490)\" d=\"M2260.88 1530.21 Q2264.23 1530.93 2266.11 1533.2 Q2268.01 1535.47 2268.01 1538.8 Q2268.01 1543.92 2264.49 1546.72 Q2260.97 1549.52 2254.49 1549.52 Q2252.31 1549.52 2250 1549.08 Q2247.7 1548.66 2245.25 1547.81 L2245.25 1543.29 Q2247.2 1544.43 2249.51 1545.01 Q2251.82 1545.58 2254.35 1545.58 Q2258.75 1545.58 2261.04 1543.85 Q2263.35 1542.11 2263.35 1538.8 Q2263.35 1535.75 2261.2 1534.03 Q2259.07 1532.3 2255.25 1532.3 L2251.22 1532.3 L2251.22 1528.45 L2255.44 1528.45 Q2258.88 1528.45 2260.71 1527.09 Q2262.54 1525.7 2262.54 1523.11 Q2262.54 1520.45 2260.64 1519.03 Q2258.77 1517.6 2255.25 1517.6 Q2253.33 1517.6 2251.13 1518.01 Q2248.93 1518.43 2246.29 1519.31 L2246.29 1515.14 Q2248.95 1514.4 2251.27 1514.03 Q2253.61 1513.66 2255.67 1513.66 Q2260.99 1513.66 2264.09 1516.09 Q2267.19 1518.5 2267.19 1522.62 Q2267.19 1525.49 2265.55 1527.48 Q2263.91 1529.45 2260.88 1530.21 Z\" fill=\"#000000\" fill-rule=\"evenodd\" fill-opacity=\"1\" /><path clip-path=\"url(#clip490)\" d=\"M2276.92 1514.29 L2295.27 1514.29 L2295.27 1518.22 L2281.2 1518.22 L2281.2 1526.7 Q2282.22 1526.35 2283.24 1526.19 Q2284.25 1526 2285.27 1526 Q2291.06 1526 2294.44 1529.17 Q2297.82 1532.34 2297.82 1537.76 Q2297.82 1543.34 2294.35 1546.44 Q2290.88 1549.52 2284.56 1549.52 Q2282.38 1549.52 2280.11 1549.15 Q2277.87 1548.78 2275.46 1548.04 L2275.46 1543.34 Q2277.54 1544.47 2279.76 1545.03 Q2281.99 1545.58 2284.46 1545.58 Q2288.47 1545.58 2290.81 1543.48 Q2293.14 1541.37 2293.14 1537.76 Q2293.14 1534.15 2290.81 1532.04 Q2288.47 1529.94 2284.46 1529.94 Q2282.59 1529.94 2280.71 1530.35 Q2278.86 1530.77 2276.92 1531.65 L2276.92 1514.29 Z\" fill=\"#000000\" fill-rule=\"evenodd\" fill-opacity=\"1\" /><polyline clip-path=\"url(#clip492)\" style=\"stroke:#000000; stroke-linecap:round; stroke-linejoin:round; stroke-width:2; stroke-opacity:0.1; fill:none\" points=\"186.274,1445.72 2352.76,1445.72 \"/>\n",
       "<polyline clip-path=\"url(#clip492)\" style=\"stroke:#000000; stroke-linecap:round; stroke-linejoin:round; stroke-width:2; stroke-opacity:0.1; fill:none\" points=\"186.274,1058.01 2352.76,1058.01 \"/>\n",
       "<polyline clip-path=\"url(#clip492)\" style=\"stroke:#000000; stroke-linecap:round; stroke-linejoin:round; stroke-width:2; stroke-opacity:0.1; fill:none\" points=\"186.274,670.308 2352.76,670.308 \"/>\n",
       "<polyline clip-path=\"url(#clip492)\" style=\"stroke:#000000; stroke-linecap:round; stroke-linejoin:round; stroke-width:2; stroke-opacity:0.1; fill:none\" points=\"186.274,282.604 2352.76,282.604 \"/>\n",
       "<polyline clip-path=\"url(#clip490)\" style=\"stroke:#000000; stroke-linecap:round; stroke-linejoin:round; stroke-width:4; stroke-opacity:1; fill:none\" points=\"186.274,1486.45 186.274,47.2441 \"/>\n",
       "<polyline clip-path=\"url(#clip490)\" style=\"stroke:#000000; stroke-linecap:round; stroke-linejoin:round; stroke-width:4; stroke-opacity:1; fill:none\" points=\"186.274,1445.72 205.172,1445.72 \"/>\n",
       "<polyline clip-path=\"url(#clip490)\" style=\"stroke:#000000; stroke-linecap:round; stroke-linejoin:round; stroke-width:4; stroke-opacity:1; fill:none\" points=\"186.274,1058.01 205.172,1058.01 \"/>\n",
       "<polyline clip-path=\"url(#clip490)\" style=\"stroke:#000000; stroke-linecap:round; stroke-linejoin:round; stroke-width:4; stroke-opacity:1; fill:none\" points=\"186.274,670.308 205.172,670.308 \"/>\n",
       "<polyline clip-path=\"url(#clip490)\" style=\"stroke:#000000; stroke-linecap:round; stroke-linejoin:round; stroke-width:4; stroke-opacity:1; fill:none\" points=\"186.274,282.604 205.172,282.604 \"/>\n",
       "<path clip-path=\"url(#clip490)\" d=\"M62.9365 1431.51 Q59.3254 1431.51 57.4967 1435.08 Q55.6912 1438.62 55.6912 1445.75 Q55.6912 1452.86 57.4967 1456.42 Q59.3254 1459.96 62.9365 1459.96 Q66.5707 1459.96 68.3763 1456.42 Q70.205 1452.86 70.205 1445.75 Q70.205 1438.62 68.3763 1435.08 Q66.5707 1431.51 62.9365 1431.51 M62.9365 1427.81 Q68.7467 1427.81 71.8022 1432.42 Q74.8809 1437 74.8809 1445.75 Q74.8809 1454.48 71.8022 1459.08 Q68.7467 1463.67 62.9365 1463.67 Q57.1264 1463.67 54.0477 1459.08 Q50.9921 1454.48 50.9921 1445.75 Q50.9921 1437 54.0477 1432.42 Q57.1264 1427.81 62.9365 1427.81 Z\" fill=\"#000000\" fill-rule=\"evenodd\" fill-opacity=\"1\" /><path clip-path=\"url(#clip490)\" d=\"M83.0984 1457.12 L87.9827 1457.12 L87.9827 1463 L83.0984 1463 L83.0984 1457.12 Z\" fill=\"#000000\" fill-rule=\"evenodd\" fill-opacity=\"1\" /><path clip-path=\"url(#clip490)\" d=\"M108.168 1431.51 Q104.557 1431.51 102.728 1435.08 Q100.922 1438.62 100.922 1445.75 Q100.922 1452.86 102.728 1456.42 Q104.557 1459.96 108.168 1459.96 Q111.802 1459.96 113.608 1456.42 Q115.436 1452.86 115.436 1445.75 Q115.436 1438.62 113.608 1435.08 Q111.802 1431.51 108.168 1431.51 M108.168 1427.81 Q113.978 1427.81 117.033 1432.42 Q120.112 1437 120.112 1445.75 Q120.112 1454.48 117.033 1459.08 Q113.978 1463.67 108.168 1463.67 Q102.358 1463.67 99.2789 1459.08 Q96.2234 1454.48 96.2234 1445.75 Q96.2234 1437 99.2789 1432.42 Q102.358 1427.81 108.168 1427.81 Z\" fill=\"#000000\" fill-rule=\"evenodd\" fill-opacity=\"1\" /><path clip-path=\"url(#clip490)\" d=\"M138.33 1431.51 Q134.719 1431.51 132.89 1435.08 Q131.084 1438.62 131.084 1445.75 Q131.084 1452.86 132.89 1456.42 Q134.719 1459.96 138.33 1459.96 Q141.964 1459.96 143.769 1456.42 Q145.598 1452.86 145.598 1445.75 Q145.598 1438.62 143.769 1435.08 Q141.964 1431.51 138.33 1431.51 M138.33 1427.81 Q144.14 1427.81 147.195 1432.42 Q150.274 1437 150.274 1445.75 Q150.274 1454.48 147.195 1459.08 Q144.14 1463.67 138.33 1463.67 Q132.519 1463.67 129.441 1459.08 Q126.385 1454.48 126.385 1445.75 Q126.385 1437 129.441 1432.42 Q132.519 1427.81 138.33 1427.81 Z\" fill=\"#000000\" fill-rule=\"evenodd\" fill-opacity=\"1\" /><path clip-path=\"url(#clip490)\" d=\"M63.9319 1043.81 Q60.3208 1043.81 58.4921 1047.38 Q56.6865 1050.92 56.6865 1058.05 Q56.6865 1065.15 58.4921 1068.72 Q60.3208 1072.26 63.9319 1072.26 Q67.5661 1072.26 69.3717 1068.72 Q71.2004 1065.15 71.2004 1058.05 Q71.2004 1050.92 69.3717 1047.38 Q67.5661 1043.81 63.9319 1043.81 M63.9319 1040.11 Q69.742 1040.11 72.7976 1044.71 Q75.8763 1049.3 75.8763 1058.05 Q75.8763 1066.77 72.7976 1071.38 Q69.742 1075.96 63.9319 1075.96 Q58.1217 1075.96 55.043 1071.38 Q51.9875 1066.77 51.9875 1058.05 Q51.9875 1049.3 55.043 1044.71 Q58.1217 1040.11 63.9319 1040.11 Z\" fill=\"#000000\" fill-rule=\"evenodd\" fill-opacity=\"1\" /><path clip-path=\"url(#clip490)\" d=\"M84.0938 1069.41 L88.978 1069.41 L88.978 1075.29 L84.0938 1075.29 L84.0938 1069.41 Z\" fill=\"#000000\" fill-rule=\"evenodd\" fill-opacity=\"1\" /><path clip-path=\"url(#clip490)\" d=\"M109.163 1043.81 Q105.552 1043.81 103.723 1047.38 Q101.918 1050.92 101.918 1058.05 Q101.918 1065.15 103.723 1068.72 Q105.552 1072.26 109.163 1072.26 Q112.797 1072.26 114.603 1068.72 Q116.432 1065.15 116.432 1058.05 Q116.432 1050.92 114.603 1047.38 Q112.797 1043.81 109.163 1043.81 M109.163 1040.11 Q114.973 1040.11 118.029 1044.71 Q121.107 1049.3 121.107 1058.05 Q121.107 1066.77 118.029 1071.38 Q114.973 1075.96 109.163 1075.96 Q103.353 1075.96 100.274 1071.38 Q97.2187 1066.77 97.2187 1058.05 Q97.2187 1049.3 100.274 1044.71 Q103.353 1040.11 109.163 1040.11 Z\" fill=\"#000000\" fill-rule=\"evenodd\" fill-opacity=\"1\" /><path clip-path=\"url(#clip490)\" d=\"M129.371 1040.73 L147.728 1040.73 L147.728 1044.67 L133.654 1044.67 L133.654 1053.14 Q134.672 1052.79 135.691 1052.63 Q136.709 1052.44 137.728 1052.44 Q143.515 1052.44 146.894 1055.62 Q150.274 1058.79 150.274 1064.2 Q150.274 1069.78 146.802 1072.88 Q143.33 1075.96 137.01 1075.96 Q134.834 1075.96 132.566 1075.59 Q130.32 1075.22 127.913 1074.48 L127.913 1069.78 Q129.996 1070.92 132.219 1071.47 Q134.441 1072.03 136.918 1072.03 Q140.922 1072.03 143.26 1069.92 Q145.598 1067.81 145.598 1064.2 Q145.598 1060.59 143.26 1058.49 Q140.922 1056.38 136.918 1056.38 Q135.043 1056.38 133.168 1056.8 Q131.316 1057.21 129.371 1058.09 L129.371 1040.73 Z\" fill=\"#000000\" fill-rule=\"evenodd\" fill-opacity=\"1\" /><path clip-path=\"url(#clip490)\" d=\"M62.9365 656.106 Q59.3254 656.106 57.4967 659.671 Q55.6912 663.213 55.6912 670.342 Q55.6912 677.449 57.4967 681.014 Q59.3254 684.555 62.9365 684.555 Q66.5707 684.555 68.3763 681.014 Q70.205 677.449 70.205 670.342 Q70.205 663.213 68.3763 659.671 Q66.5707 656.106 62.9365 656.106 M62.9365 652.403 Q68.7467 652.403 71.8022 657.009 Q74.8809 661.592 74.8809 670.342 Q74.8809 679.069 71.8022 683.676 Q68.7467 688.259 62.9365 688.259 Q57.1264 688.259 54.0477 683.676 Q50.9921 679.069 50.9921 670.342 Q50.9921 661.592 54.0477 657.009 Q57.1264 652.403 62.9365 652.403 Z\" fill=\"#000000\" fill-rule=\"evenodd\" fill-opacity=\"1\" /><path clip-path=\"url(#clip490)\" d=\"M83.0984 681.708 L87.9827 681.708 L87.9827 687.588 L83.0984 687.588 L83.0984 681.708 Z\" fill=\"#000000\" fill-rule=\"evenodd\" fill-opacity=\"1\" /><path clip-path=\"url(#clip490)\" d=\"M98.978 683.653 L106.617 683.653 L106.617 657.287 L98.3067 658.954 L98.3067 654.694 L106.571 653.028 L111.246 653.028 L111.246 683.653 L118.885 683.653 L118.885 687.588 L98.978 687.588 L98.978 683.653 Z\" fill=\"#000000\" fill-rule=\"evenodd\" fill-opacity=\"1\" /><path clip-path=\"url(#clip490)\" d=\"M138.33 656.106 Q134.719 656.106 132.89 659.671 Q131.084 663.213 131.084 670.342 Q131.084 677.449 132.89 681.014 Q134.719 684.555 138.33 684.555 Q141.964 684.555 143.769 681.014 Q145.598 677.449 145.598 670.342 Q145.598 663.213 143.769 659.671 Q141.964 656.106 138.33 656.106 M138.33 652.403 Q144.14 652.403 147.195 657.009 Q150.274 661.592 150.274 670.342 Q150.274 679.069 147.195 683.676 Q144.14 688.259 138.33 688.259 Q132.519 688.259 129.441 683.676 Q126.385 679.069 126.385 670.342 Q126.385 661.592 129.441 657.009 Q132.519 652.403 138.33 652.403 Z\" fill=\"#000000\" fill-rule=\"evenodd\" fill-opacity=\"1\" /><path clip-path=\"url(#clip490)\" d=\"M63.9319 268.402 Q60.3208 268.402 58.4921 271.967 Q56.6865 275.509 56.6865 282.638 Q56.6865 289.745 58.4921 293.31 Q60.3208 296.851 63.9319 296.851 Q67.5661 296.851 69.3717 293.31 Q71.2004 289.745 71.2004 282.638 Q71.2004 275.509 69.3717 271.967 Q67.5661 268.402 63.9319 268.402 M63.9319 264.699 Q69.742 264.699 72.7976 269.305 Q75.8763 273.888 75.8763 282.638 Q75.8763 291.365 72.7976 295.972 Q69.742 300.555 63.9319 300.555 Q58.1217 300.555 55.043 295.972 Q51.9875 291.365 51.9875 282.638 Q51.9875 273.888 55.043 269.305 Q58.1217 264.699 63.9319 264.699 Z\" fill=\"#000000\" fill-rule=\"evenodd\" fill-opacity=\"1\" /><path clip-path=\"url(#clip490)\" d=\"M84.0938 294.004 L88.978 294.004 L88.978 299.884 L84.0938 299.884 L84.0938 294.004 Z\" fill=\"#000000\" fill-rule=\"evenodd\" fill-opacity=\"1\" /><path clip-path=\"url(#clip490)\" d=\"M99.9733 295.949 L107.612 295.949 L107.612 269.583 L99.3021 271.25 L99.3021 266.99 L107.566 265.324 L112.242 265.324 L112.242 295.949 L119.881 295.949 L119.881 299.884 L99.9733 299.884 L99.9733 295.949 Z\" fill=\"#000000\" fill-rule=\"evenodd\" fill-opacity=\"1\" /><path clip-path=\"url(#clip490)\" d=\"M129.371 265.324 L147.728 265.324 L147.728 269.259 L133.654 269.259 L133.654 277.731 Q134.672 277.384 135.691 277.222 Q136.709 277.037 137.728 277.037 Q143.515 277.037 146.894 280.208 Q150.274 283.379 150.274 288.796 Q150.274 294.374 146.802 297.476 Q143.33 300.555 137.01 300.555 Q134.834 300.555 132.566 300.185 Q130.32 299.814 127.913 299.074 L127.913 294.374 Q129.996 295.509 132.219 296.064 Q134.441 296.62 136.918 296.62 Q140.922 296.62 143.26 294.513 Q145.598 292.407 145.598 288.796 Q145.598 285.185 143.26 283.078 Q140.922 280.972 136.918 280.972 Q135.043 280.972 133.168 281.388 Q131.316 281.805 129.371 282.685 L129.371 265.324 Z\" fill=\"#000000\" fill-rule=\"evenodd\" fill-opacity=\"1\" /><path clip-path=\"url(#clip492)\" d=\"M305.434 1333.28 L305.434 1445.72 L353.638 1445.72 L353.638 1333.28 L305.434 1333.28 L305.434 1333.28  Z\" fill=\"#009af9\" fill-rule=\"evenodd\" fill-opacity=\"1\"/>\n",
       "<polyline clip-path=\"url(#clip492)\" style=\"stroke:#000000; stroke-linecap:round; stroke-linejoin:round; stroke-width:4; stroke-opacity:1; fill:none\" points=\"305.434,1333.28 305.434,1445.72 353.638,1445.72 353.638,1333.28 305.434,1333.28 \"/>\n",
       "<path clip-path=\"url(#clip492)\" d=\"M353.638 1445.72 L353.638 1445.72 L401.842 1445.72 L401.842 1445.72 L353.638 1445.72 L353.638 1445.72  Z\" fill=\"#009af9\" fill-rule=\"evenodd\" fill-opacity=\"1\"/>\n",
       "<polyline clip-path=\"url(#clip492)\" style=\"stroke:#000000; stroke-linecap:round; stroke-linejoin:round; stroke-width:4; stroke-opacity:1; fill:none\" points=\"353.638,1445.72 353.638,1445.72 401.842,1445.72 353.638,1445.72 \"/>\n",
       "<path clip-path=\"url(#clip492)\" d=\"M401.842 1445.72 L401.842 1445.72 L450.046 1445.72 L450.046 1445.72 L401.842 1445.72 L401.842 1445.72  Z\" fill=\"#009af9\" fill-rule=\"evenodd\" fill-opacity=\"1\"/>\n",
       "<polyline clip-path=\"url(#clip492)\" style=\"stroke:#000000; stroke-linecap:round; stroke-linejoin:round; stroke-width:4; stroke-opacity:1; fill:none\" points=\"401.842,1445.72 401.842,1445.72 450.046,1445.72 401.842,1445.72 \"/>\n",
       "<path clip-path=\"url(#clip492)\" d=\"M450.046 1445.72 L450.046 1445.72 L498.25 1445.72 L498.25 1445.72 L450.046 1445.72 L450.046 1445.72  Z\" fill=\"#009af9\" fill-rule=\"evenodd\" fill-opacity=\"1\"/>\n",
       "<polyline clip-path=\"url(#clip492)\" style=\"stroke:#000000; stroke-linecap:round; stroke-linejoin:round; stroke-width:4; stroke-opacity:1; fill:none\" points=\"450.046,1445.72 450.046,1445.72 498.25,1445.72 450.046,1445.72 \"/>\n",
       "<path clip-path=\"url(#clip492)\" d=\"M498.25 1445.72 L498.25 1445.72 L546.455 1445.72 L546.455 1445.72 L498.25 1445.72 L498.25 1445.72  Z\" fill=\"#009af9\" fill-rule=\"evenodd\" fill-opacity=\"1\"/>\n",
       "<polyline clip-path=\"url(#clip492)\" style=\"stroke:#000000; stroke-linecap:round; stroke-linejoin:round; stroke-width:4; stroke-opacity:1; fill:none\" points=\"498.25,1445.72 498.25,1445.72 546.455,1445.72 498.25,1445.72 \"/>\n",
       "<path clip-path=\"url(#clip492)\" d=\"M546.455 1357.32 L546.455 1445.72 L594.659 1445.72 L594.659 1357.32 L546.455 1357.32 L546.455 1357.32  Z\" fill=\"#009af9\" fill-rule=\"evenodd\" fill-opacity=\"1\"/>\n",
       "<polyline clip-path=\"url(#clip492)\" style=\"stroke:#000000; stroke-linecap:round; stroke-linejoin:round; stroke-width:4; stroke-opacity:1; fill:none\" points=\"546.455,1357.32 546.455,1445.72 594.659,1445.72 594.659,1357.32 546.455,1357.32 \"/>\n",
       "<path clip-path=\"url(#clip492)\" d=\"M594.659 1445.72 L594.659 1445.72 L642.863 1445.72 L642.863 1445.72 L594.659 1445.72 L594.659 1445.72  Z\" fill=\"#009af9\" fill-rule=\"evenodd\" fill-opacity=\"1\"/>\n",
       "<polyline clip-path=\"url(#clip492)\" style=\"stroke:#000000; stroke-linecap:round; stroke-linejoin:round; stroke-width:4; stroke-opacity:1; fill:none\" points=\"594.659,1445.72 594.659,1445.72 642.863,1445.72 594.659,1445.72 \"/>\n",
       "<path clip-path=\"url(#clip492)\" d=\"M642.863 1445.72 L642.863 1445.72 L691.067 1445.72 L691.067 1445.72 L642.863 1445.72 L642.863 1445.72  Z\" fill=\"#009af9\" fill-rule=\"evenodd\" fill-opacity=\"1\"/>\n",
       "<polyline clip-path=\"url(#clip492)\" style=\"stroke:#000000; stroke-linecap:round; stroke-linejoin:round; stroke-width:4; stroke-opacity:1; fill:none\" points=\"642.863,1445.72 642.863,1445.72 691.067,1445.72 642.863,1445.72 \"/>\n",
       "<path clip-path=\"url(#clip492)\" d=\"M691.067 1445.72 L691.067 1445.72 L739.271 1445.72 L739.271 1445.72 L691.067 1445.72 L691.067 1445.72  Z\" fill=\"#009af9\" fill-rule=\"evenodd\" fill-opacity=\"1\"/>\n",
       "<polyline clip-path=\"url(#clip492)\" style=\"stroke:#000000; stroke-linecap:round; stroke-linejoin:round; stroke-width:4; stroke-opacity:1; fill:none\" points=\"691.067,1445.72 691.067,1445.72 739.271,1445.72 691.067,1445.72 \"/>\n",
       "<path clip-path=\"url(#clip492)\" d=\"M739.271 1445.72 L739.271 1445.72 L787.475 1445.72 L787.475 1445.72 L739.271 1445.72 L739.271 1445.72  Z\" fill=\"#009af9\" fill-rule=\"evenodd\" fill-opacity=\"1\"/>\n",
       "<polyline clip-path=\"url(#clip492)\" style=\"stroke:#000000; stroke-linecap:round; stroke-linejoin:round; stroke-width:4; stroke-opacity:1; fill:none\" points=\"739.271,1445.72 739.271,1445.72 787.475,1445.72 739.271,1445.72 \"/>\n",
       "<path clip-path=\"url(#clip492)\" d=\"M787.475 1445.72 L787.475 1445.72 L835.679 1445.72 L835.679 1445.72 L787.475 1445.72 L787.475 1445.72  Z\" fill=\"#009af9\" fill-rule=\"evenodd\" fill-opacity=\"1\"/>\n",
       "<polyline clip-path=\"url(#clip492)\" style=\"stroke:#000000; stroke-linecap:round; stroke-linejoin:round; stroke-width:4; stroke-opacity:1; fill:none\" points=\"787.475,1445.72 787.475,1445.72 835.679,1445.72 787.475,1445.72 \"/>\n",
       "<path clip-path=\"url(#clip492)\" d=\"M835.679 1445.72 L835.679 1445.72 L883.883 1445.72 L883.883 1445.72 L835.679 1445.72 L835.679 1445.72  Z\" fill=\"#009af9\" fill-rule=\"evenodd\" fill-opacity=\"1\"/>\n",
       "<polyline clip-path=\"url(#clip492)\" style=\"stroke:#000000; stroke-linecap:round; stroke-linejoin:round; stroke-width:4; stroke-opacity:1; fill:none\" points=\"835.679,1445.72 835.679,1445.72 883.883,1445.72 835.679,1445.72 \"/>\n",
       "<path clip-path=\"url(#clip492)\" d=\"M883.883 1445.72 L883.883 1445.72 L932.087 1445.72 L932.087 1445.72 L883.883 1445.72 L883.883 1445.72  Z\" fill=\"#009af9\" fill-rule=\"evenodd\" fill-opacity=\"1\"/>\n",
       "<polyline clip-path=\"url(#clip492)\" style=\"stroke:#000000; stroke-linecap:round; stroke-linejoin:round; stroke-width:4; stroke-opacity:1; fill:none\" points=\"883.883,1445.72 883.883,1445.72 932.087,1445.72 883.883,1445.72 \"/>\n",
       "<path clip-path=\"url(#clip492)\" d=\"M932.087 1445.72 L932.087 1445.72 L980.291 1445.72 L980.291 1445.72 L932.087 1445.72 L932.087 1445.72  Z\" fill=\"#009af9\" fill-rule=\"evenodd\" fill-opacity=\"1\"/>\n",
       "<polyline clip-path=\"url(#clip492)\" style=\"stroke:#000000; stroke-linecap:round; stroke-linejoin:round; stroke-width:4; stroke-opacity:1; fill:none\" points=\"932.087,1445.72 932.087,1445.72 980.291,1445.72 932.087,1445.72 \"/>\n",
       "<path clip-path=\"url(#clip492)\" d=\"M980.291 1304.59 L980.291 1445.72 L1028.49 1445.72 L1028.49 1304.59 L980.291 1304.59 L980.291 1304.59  Z\" fill=\"#009af9\" fill-rule=\"evenodd\" fill-opacity=\"1\"/>\n",
       "<polyline clip-path=\"url(#clip492)\" style=\"stroke:#000000; stroke-linecap:round; stroke-linejoin:round; stroke-width:4; stroke-opacity:1; fill:none\" points=\"980.291,1304.59 980.291,1445.72 1028.49,1445.72 1028.49,1304.59 980.291,1304.59 \"/>\n",
       "<path clip-path=\"url(#clip492)\" d=\"M1028.49 1109.19 L1028.49 1445.72 L1076.7 1445.72 L1076.7 1109.19 L1028.49 1109.19 L1028.49 1109.19  Z\" fill=\"#009af9\" fill-rule=\"evenodd\" fill-opacity=\"1\"/>\n",
       "<polyline clip-path=\"url(#clip492)\" style=\"stroke:#000000; stroke-linecap:round; stroke-linejoin:round; stroke-width:4; stroke-opacity:1; fill:none\" points=\"1028.49,1109.19 1028.49,1445.72 1076.7,1445.72 1076.7,1109.19 1028.49,1109.19 \"/>\n",
       "<path clip-path=\"url(#clip492)\" d=\"M1076.7 1080.5 L1076.7 1445.72 L1124.9 1445.72 L1124.9 1080.5 L1076.7 1080.5 L1076.7 1080.5  Z\" fill=\"#009af9\" fill-rule=\"evenodd\" fill-opacity=\"1\"/>\n",
       "<polyline clip-path=\"url(#clip492)\" style=\"stroke:#000000; stroke-linecap:round; stroke-linejoin:round; stroke-width:4; stroke-opacity:1; fill:none\" points=\"1076.7,1080.5 1076.7,1445.72 1124.9,1445.72 1124.9,1080.5 1076.7,1080.5 \"/>\n",
       "<path clip-path=\"url(#clip492)\" d=\"M1124.9 1445.72 L1124.9 1445.72 L1173.11 1445.72 L1173.11 1445.72 L1124.9 1445.72 L1124.9 1445.72  Z\" fill=\"#009af9\" fill-rule=\"evenodd\" fill-opacity=\"1\"/>\n",
       "<polyline clip-path=\"url(#clip492)\" style=\"stroke:#000000; stroke-linecap:round; stroke-linejoin:round; stroke-width:4; stroke-opacity:1; fill:none\" points=\"1124.9,1445.72 1124.9,1445.72 1173.11,1445.72 1124.9,1445.72 \"/>\n",
       "<path clip-path=\"url(#clip492)\" d=\"M1173.11 929.294 L1173.11 1445.72 L1221.31 1445.72 L1221.31 929.294 L1173.11 929.294 L1173.11 929.294  Z\" fill=\"#009af9\" fill-rule=\"evenodd\" fill-opacity=\"1\"/>\n",
       "<polyline clip-path=\"url(#clip492)\" style=\"stroke:#000000; stroke-linecap:round; stroke-linejoin:round; stroke-width:4; stroke-opacity:1; fill:none\" points=\"1173.11,929.294 1173.11,1445.72 1221.31,1445.72 1221.31,929.294 1173.11,929.294 \"/>\n",
       "<path clip-path=\"url(#clip492)\" d=\"M1221.31 1182.08 L1221.31 1445.72 L1269.51 1445.72 L1269.51 1182.08 L1221.31 1182.08 L1221.31 1182.08  Z\" fill=\"#009af9\" fill-rule=\"evenodd\" fill-opacity=\"1\"/>\n",
       "<polyline clip-path=\"url(#clip492)\" style=\"stroke:#000000; stroke-linecap:round; stroke-linejoin:round; stroke-width:4; stroke-opacity:1; fill:none\" points=\"1221.31,1182.08 1221.31,1445.72 1269.51,1445.72 1269.51,1182.08 1221.31,1182.08 \"/>\n",
       "<path clip-path=\"url(#clip492)\" d=\"M1269.51 1445.72 L1269.51 1445.72 L1317.72 1445.72 L1317.72 1445.72 L1269.51 1445.72 L1269.51 1445.72  Z\" fill=\"#009af9\" fill-rule=\"evenodd\" fill-opacity=\"1\"/>\n",
       "<polyline clip-path=\"url(#clip492)\" style=\"stroke:#000000; stroke-linecap:round; stroke-linejoin:round; stroke-width:4; stroke-opacity:1; fill:none\" points=\"1269.51,1445.72 1269.51,1445.72 1317.72,1445.72 1269.51,1445.72 \"/>\n",
       "<path clip-path=\"url(#clip492)\" d=\"M1317.72 853.304 L1317.72 1445.72 L1365.92 1445.72 L1365.92 853.304 L1317.72 853.304 L1317.72 853.304  Z\" fill=\"#009af9\" fill-rule=\"evenodd\" fill-opacity=\"1\"/>\n",
       "<polyline clip-path=\"url(#clip492)\" style=\"stroke:#000000; stroke-linecap:round; stroke-linejoin:round; stroke-width:4; stroke-opacity:1; fill:none\" points=\"1317.72,853.304 1317.72,1445.72 1365.92,1445.72 1365.92,853.304 1317.72,853.304 \"/>\n",
       "<path clip-path=\"url(#clip492)\" d=\"M1365.92 960.31 L1365.92 1445.72 L1414.13 1445.72 L1414.13 960.31 L1365.92 960.31 L1365.92 960.31  Z\" fill=\"#009af9\" fill-rule=\"evenodd\" fill-opacity=\"1\"/>\n",
       "<polyline clip-path=\"url(#clip492)\" style=\"stroke:#000000; stroke-linecap:round; stroke-linejoin:round; stroke-width:4; stroke-opacity:1; fill:none\" points=\"1365.92,960.31 1365.92,1445.72 1414.13,1445.72 1414.13,960.31 1365.92,960.31 \"/>\n",
       "<path clip-path=\"url(#clip492)\" d=\"M1414.13 1385.23 L1414.13 1445.72 L1462.33 1445.72 L1462.33 1385.23 L1414.13 1385.23 L1414.13 1385.23  Z\" fill=\"#009af9\" fill-rule=\"evenodd\" fill-opacity=\"1\"/>\n",
       "<polyline clip-path=\"url(#clip492)\" style=\"stroke:#000000; stroke-linecap:round; stroke-linejoin:round; stroke-width:4; stroke-opacity:1; fill:none\" points=\"1414.13,1385.23 1414.13,1445.72 1462.33,1445.72 1462.33,1385.23 1414.13,1385.23 \"/>\n",
       "<path clip-path=\"url(#clip492)\" d=\"M1462.33 967.289 L1462.33 1445.72 L1510.54 1445.72 L1510.54 967.289 L1462.33 967.289 L1462.33 967.289  Z\" fill=\"#009af9\" fill-rule=\"evenodd\" fill-opacity=\"1\"/>\n",
       "<polyline clip-path=\"url(#clip492)\" style=\"stroke:#000000; stroke-linecap:round; stroke-linejoin:round; stroke-width:4; stroke-opacity:1; fill:none\" points=\"1462.33,967.289 1462.33,1445.72 1510.54,1445.72 1510.54,967.289 1462.33,967.289 \"/>\n",
       "<path clip-path=\"url(#clip492)\" d=\"M1510.54 1055.69 L1510.54 1445.72 L1558.74 1445.72 L1558.74 1055.69 L1510.54 1055.69 L1510.54 1055.69  Z\" fill=\"#009af9\" fill-rule=\"evenodd\" fill-opacity=\"1\"/>\n",
       "<polyline clip-path=\"url(#clip492)\" style=\"stroke:#000000; stroke-linecap:round; stroke-linejoin:round; stroke-width:4; stroke-opacity:1; fill:none\" points=\"1510.54,1055.69 1510.54,1445.72 1558.74,1445.72 1558.74,1055.69 1510.54,1055.69 \"/>\n",
       "<path clip-path=\"url(#clip492)\" d=\"M1558.74 1314.67 L1558.74 1445.72 L1606.94 1445.72 L1606.94 1314.67 L1558.74 1314.67 L1558.74 1314.67  Z\" fill=\"#009af9\" fill-rule=\"evenodd\" fill-opacity=\"1\"/>\n",
       "<polyline clip-path=\"url(#clip492)\" style=\"stroke:#000000; stroke-linecap:round; stroke-linejoin:round; stroke-width:4; stroke-opacity:1; fill:none\" points=\"1558.74,1314.67 1558.74,1445.72 1606.94,1445.72 1606.94,1314.67 1558.74,1314.67 \"/>\n",
       "<path clip-path=\"url(#clip492)\" d=\"M1606.94 1445.72 L1606.94 1445.72 L1655.15 1445.72 L1655.15 1445.72 L1606.94 1445.72 L1606.94 1445.72  Z\" fill=\"#009af9\" fill-rule=\"evenodd\" fill-opacity=\"1\"/>\n",
       "<polyline clip-path=\"url(#clip492)\" style=\"stroke:#000000; stroke-linecap:round; stroke-linejoin:round; stroke-width:4; stroke-opacity:1; fill:none\" points=\"1606.94,1445.72 1606.94,1445.72 1655.15,1445.72 1606.94,1445.72 \"/>\n",
       "<path clip-path=\"url(#clip492)\" d=\"M1655.15 730.79 L1655.15 1445.72 L1703.35 1445.72 L1703.35 730.79 L1655.15 730.79 L1655.15 730.79  Z\" fill=\"#009af9\" fill-rule=\"evenodd\" fill-opacity=\"1\"/>\n",
       "<polyline clip-path=\"url(#clip492)\" style=\"stroke:#000000; stroke-linecap:round; stroke-linejoin:round; stroke-width:4; stroke-opacity:1; fill:none\" points=\"1655.15,730.79 1655.15,1445.72 1703.35,1445.72 1703.35,730.79 1655.15,730.79 \"/>\n",
       "<path clip-path=\"url(#clip492)\" d=\"M1703.35 152.335 L1703.35 1445.72 L1751.56 1445.72 L1751.56 152.335 L1703.35 152.335 L1703.35 152.335  Z\" fill=\"#009af9\" fill-rule=\"evenodd\" fill-opacity=\"1\"/>\n",
       "<polyline clip-path=\"url(#clip492)\" style=\"stroke:#000000; stroke-linecap:round; stroke-linejoin:round; stroke-width:4; stroke-opacity:1; fill:none\" points=\"1703.35,152.335 1703.35,1445.72 1751.56,1445.72 1751.56,152.335 1703.35,152.335 \"/>\n",
       "<path clip-path=\"url(#clip492)\" d=\"M1751.56 1252.64 L1751.56 1445.72 L1799.76 1445.72 L1799.76 1252.64 L1751.56 1252.64 L1751.56 1252.64  Z\" fill=\"#009af9\" fill-rule=\"evenodd\" fill-opacity=\"1\"/>\n",
       "<polyline clip-path=\"url(#clip492)\" style=\"stroke:#000000; stroke-linecap:round; stroke-linejoin:round; stroke-width:4; stroke-opacity:1; fill:none\" points=\"1751.56,1252.64 1751.56,1445.72 1799.76,1445.72 1799.76,1252.64 1751.56,1252.64 \"/>\n",
       "<path clip-path=\"url(#clip492)\" d=\"M1799.76 1417.8 L1799.76 1445.72 L1847.96 1445.72 L1847.96 1417.8 L1799.76 1417.8 L1799.76 1417.8  Z\" fill=\"#009af9\" fill-rule=\"evenodd\" fill-opacity=\"1\"/>\n",
       "<polyline clip-path=\"url(#clip492)\" style=\"stroke:#000000; stroke-linecap:round; stroke-linejoin:round; stroke-width:4; stroke-opacity:1; fill:none\" points=\"1799.76,1417.8 1799.76,1445.72 1847.96,1445.72 1847.96,1417.8 1799.76,1417.8 \"/>\n",
       "<path clip-path=\"url(#clip492)\" d=\"M1847.96 87.9763 L1847.96 1445.72 L1896.17 1445.72 L1896.17 87.9763 L1847.96 87.9763 L1847.96 87.9763  Z\" fill=\"#009af9\" fill-rule=\"evenodd\" fill-opacity=\"1\"/>\n",
       "<polyline clip-path=\"url(#clip492)\" style=\"stroke:#000000; stroke-linecap:round; stroke-linejoin:round; stroke-width:4; stroke-opacity:1; fill:none\" points=\"1847.96,87.9763 1847.96,1445.72 1896.17,1445.72 1896.17,87.9763 1847.96,87.9763 \"/>\n",
       "<path clip-path=\"url(#clip492)\" d=\"M1896.17 1445.72 L1896.17 1445.72 L1944.37 1445.72 L1944.37 1445.72 L1896.17 1445.72 L1896.17 1445.72  Z\" fill=\"#009af9\" fill-rule=\"evenodd\" fill-opacity=\"1\"/>\n",
       "<polyline clip-path=\"url(#clip492)\" style=\"stroke:#000000; stroke-linecap:round; stroke-linejoin:round; stroke-width:4; stroke-opacity:1; fill:none\" points=\"1896.17,1445.72 1896.17,1445.72 1944.37,1445.72 1896.17,1445.72 \"/>\n",
       "<path clip-path=\"url(#clip492)\" d=\"M1944.37 1445.72 L1944.37 1445.72 L1992.58 1445.72 L1992.58 1445.72 L1944.37 1445.72 L1944.37 1445.72  Z\" fill=\"#009af9\" fill-rule=\"evenodd\" fill-opacity=\"1\"/>\n",
       "<polyline clip-path=\"url(#clip492)\" style=\"stroke:#000000; stroke-linecap:round; stroke-linejoin:round; stroke-width:4; stroke-opacity:1; fill:none\" points=\"1944.37,1445.72 1944.37,1445.72 1992.58,1445.72 1944.37,1445.72 \"/>\n",
       "<path clip-path=\"url(#clip492)\" d=\"M1992.58 1445.72 L1992.58 1445.72 L2040.78 1445.72 L2040.78 1445.72 L1992.58 1445.72 L1992.58 1445.72  Z\" fill=\"#009af9\" fill-rule=\"evenodd\" fill-opacity=\"1\"/>\n",
       "<polyline clip-path=\"url(#clip492)\" style=\"stroke:#000000; stroke-linecap:round; stroke-linejoin:round; stroke-width:4; stroke-opacity:1; fill:none\" points=\"1992.58,1445.72 1992.58,1445.72 2040.78,1445.72 1992.58,1445.72 \"/>\n",
       "<path clip-path=\"url(#clip492)\" d=\"M2040.78 1445.72 L2040.78 1445.72 L2088.98 1445.72 L2088.98 1445.72 L2040.78 1445.72 L2040.78 1445.72  Z\" fill=\"#009af9\" fill-rule=\"evenodd\" fill-opacity=\"1\"/>\n",
       "<polyline clip-path=\"url(#clip492)\" style=\"stroke:#000000; stroke-linecap:round; stroke-linejoin:round; stroke-width:4; stroke-opacity:1; fill:none\" points=\"2040.78,1445.72 2040.78,1445.72 2088.98,1445.72 2040.78,1445.72 \"/>\n",
       "<path clip-path=\"url(#clip492)\" d=\"M2088.98 1310.79 L2088.98 1445.72 L2137.19 1445.72 L2137.19 1310.79 L2088.98 1310.79 L2088.98 1310.79  Z\" fill=\"#009af9\" fill-rule=\"evenodd\" fill-opacity=\"1\"/>\n",
       "<polyline clip-path=\"url(#clip492)\" style=\"stroke:#000000; stroke-linecap:round; stroke-linejoin:round; stroke-width:4; stroke-opacity:1; fill:none\" points=\"2088.98,1310.79 2088.98,1445.72 2137.19,1445.72 2137.19,1310.79 2088.98,1310.79 \"/>\n",
       "<path clip-path=\"url(#clip492)\" d=\"M2137.19 1445.72 L2137.19 1445.72 L2185.39 1445.72 L2185.39 1445.72 L2137.19 1445.72 L2137.19 1445.72  Z\" fill=\"#009af9\" fill-rule=\"evenodd\" fill-opacity=\"1\"/>\n",
       "<polyline clip-path=\"url(#clip492)\" style=\"stroke:#000000; stroke-linecap:round; stroke-linejoin:round; stroke-width:4; stroke-opacity:1; fill:none\" points=\"2137.19,1445.72 2137.19,1445.72 2185.39,1445.72 2137.19,1445.72 \"/>\n",
       "<path clip-path=\"url(#clip492)\" d=\"M2185.39 1375.15 L2185.39 1445.72 L2233.6 1445.72 L2233.6 1375.15 L2185.39 1375.15 L2185.39 1375.15  Z\" fill=\"#009af9\" fill-rule=\"evenodd\" fill-opacity=\"1\"/>\n",
       "<polyline clip-path=\"url(#clip492)\" style=\"stroke:#000000; stroke-linecap:round; stroke-linejoin:round; stroke-width:4; stroke-opacity:1; fill:none\" points=\"2185.39,1375.15 2185.39,1445.72 2233.6,1445.72 2233.6,1375.15 2185.39,1375.15 \"/>\n",
       "<circle clip-path=\"url(#clip492)\" style=\"fill:#009af9; stroke:none; fill-opacity:0\" cx=\"329.536\" cy=\"1333.28\" r=\"2\"/>\n",
       "<circle clip-path=\"url(#clip492)\" style=\"fill:#009af9; stroke:none; fill-opacity:0\" cx=\"377.74\" cy=\"1445.72\" r=\"2\"/>\n",
       "<circle clip-path=\"url(#clip492)\" style=\"fill:#009af9; stroke:none; fill-opacity:0\" cx=\"425.944\" cy=\"1445.72\" r=\"2\"/>\n",
       "<circle clip-path=\"url(#clip492)\" style=\"fill:#009af9; stroke:none; fill-opacity:0\" cx=\"474.148\" cy=\"1445.72\" r=\"2\"/>\n",
       "<circle clip-path=\"url(#clip492)\" style=\"fill:#009af9; stroke:none; fill-opacity:0\" cx=\"522.352\" cy=\"1445.72\" r=\"2\"/>\n",
       "<circle clip-path=\"url(#clip492)\" style=\"fill:#009af9; stroke:none; fill-opacity:0\" cx=\"570.557\" cy=\"1357.32\" r=\"2\"/>\n",
       "<circle clip-path=\"url(#clip492)\" style=\"fill:#009af9; stroke:none; fill-opacity:0\" cx=\"618.761\" cy=\"1445.72\" r=\"2\"/>\n",
       "<circle clip-path=\"url(#clip492)\" style=\"fill:#009af9; stroke:none; fill-opacity:0\" cx=\"666.965\" cy=\"1445.72\" r=\"2\"/>\n",
       "<circle clip-path=\"url(#clip492)\" style=\"fill:#009af9; stroke:none; fill-opacity:0\" cx=\"715.169\" cy=\"1445.72\" r=\"2\"/>\n",
       "<circle clip-path=\"url(#clip492)\" style=\"fill:#009af9; stroke:none; fill-opacity:0\" cx=\"763.373\" cy=\"1445.72\" r=\"2\"/>\n",
       "<circle clip-path=\"url(#clip492)\" style=\"fill:#009af9; stroke:none; fill-opacity:0\" cx=\"811.577\" cy=\"1445.72\" r=\"2\"/>\n",
       "<circle clip-path=\"url(#clip492)\" style=\"fill:#009af9; stroke:none; fill-opacity:0\" cx=\"859.781\" cy=\"1445.72\" r=\"2\"/>\n",
       "<circle clip-path=\"url(#clip492)\" style=\"fill:#009af9; stroke:none; fill-opacity:0\" cx=\"907.985\" cy=\"1445.72\" r=\"2\"/>\n",
       "<circle clip-path=\"url(#clip492)\" style=\"fill:#009af9; stroke:none; fill-opacity:0\" cx=\"956.189\" cy=\"1445.72\" r=\"2\"/>\n",
       "<circle clip-path=\"url(#clip492)\" style=\"fill:#009af9; stroke:none; fill-opacity:0\" cx=\"1004.39\" cy=\"1304.59\" r=\"2\"/>\n",
       "<circle clip-path=\"url(#clip492)\" style=\"fill:#009af9; stroke:none; fill-opacity:0\" cx=\"1052.6\" cy=\"1109.19\" r=\"2\"/>\n",
       "<circle clip-path=\"url(#clip492)\" style=\"fill:#009af9; stroke:none; fill-opacity:0\" cx=\"1100.8\" cy=\"1080.5\" r=\"2\"/>\n",
       "<circle clip-path=\"url(#clip492)\" style=\"fill:#009af9; stroke:none; fill-opacity:0\" cx=\"1149\" cy=\"1445.72\" r=\"2\"/>\n",
       "<circle clip-path=\"url(#clip492)\" style=\"fill:#009af9; stroke:none; fill-opacity:0\" cx=\"1197.21\" cy=\"929.294\" r=\"2\"/>\n",
       "<circle clip-path=\"url(#clip492)\" style=\"fill:#009af9; stroke:none; fill-opacity:0\" cx=\"1245.41\" cy=\"1182.08\" r=\"2\"/>\n",
       "<circle clip-path=\"url(#clip492)\" style=\"fill:#009af9; stroke:none; fill-opacity:0\" cx=\"1293.62\" cy=\"1445.72\" r=\"2\"/>\n",
       "<circle clip-path=\"url(#clip492)\" style=\"fill:#009af9; stroke:none; fill-opacity:0\" cx=\"1341.82\" cy=\"853.304\" r=\"2\"/>\n",
       "<circle clip-path=\"url(#clip492)\" style=\"fill:#009af9; stroke:none; fill-opacity:0\" cx=\"1390.03\" cy=\"960.31\" r=\"2\"/>\n",
       "<circle clip-path=\"url(#clip492)\" style=\"fill:#009af9; stroke:none; fill-opacity:0\" cx=\"1438.23\" cy=\"1385.23\" r=\"2\"/>\n",
       "<circle clip-path=\"url(#clip492)\" style=\"fill:#009af9; stroke:none; fill-opacity:0\" cx=\"1486.43\" cy=\"967.289\" r=\"2\"/>\n",
       "<circle clip-path=\"url(#clip492)\" style=\"fill:#009af9; stroke:none; fill-opacity:0\" cx=\"1534.64\" cy=\"1055.69\" r=\"2\"/>\n",
       "<circle clip-path=\"url(#clip492)\" style=\"fill:#009af9; stroke:none; fill-opacity:0\" cx=\"1582.84\" cy=\"1314.67\" r=\"2\"/>\n",
       "<circle clip-path=\"url(#clip492)\" style=\"fill:#009af9; stroke:none; fill-opacity:0\" cx=\"1631.05\" cy=\"1445.72\" r=\"2\"/>\n",
       "<circle clip-path=\"url(#clip492)\" style=\"fill:#009af9; stroke:none; fill-opacity:0\" cx=\"1679.25\" cy=\"730.79\" r=\"2\"/>\n",
       "<circle clip-path=\"url(#clip492)\" style=\"fill:#009af9; stroke:none; fill-opacity:0\" cx=\"1727.45\" cy=\"152.335\" r=\"2\"/>\n",
       "<circle clip-path=\"url(#clip492)\" style=\"fill:#009af9; stroke:none; fill-opacity:0\" cx=\"1775.66\" cy=\"1252.64\" r=\"2\"/>\n",
       "<circle clip-path=\"url(#clip492)\" style=\"fill:#009af9; stroke:none; fill-opacity:0\" cx=\"1823.86\" cy=\"1417.8\" r=\"2\"/>\n",
       "<circle clip-path=\"url(#clip492)\" style=\"fill:#009af9; stroke:none; fill-opacity:0\" cx=\"1872.07\" cy=\"87.9763\" r=\"2\"/>\n",
       "<circle clip-path=\"url(#clip492)\" style=\"fill:#009af9; stroke:none; fill-opacity:0\" cx=\"1920.27\" cy=\"1445.72\" r=\"2\"/>\n",
       "<circle clip-path=\"url(#clip492)\" style=\"fill:#009af9; stroke:none; fill-opacity:0\" cx=\"1968.47\" cy=\"1445.72\" r=\"2\"/>\n",
       "<circle clip-path=\"url(#clip492)\" style=\"fill:#009af9; stroke:none; fill-opacity:0\" cx=\"2016.68\" cy=\"1445.72\" r=\"2\"/>\n",
       "<circle clip-path=\"url(#clip492)\" style=\"fill:#009af9; stroke:none; fill-opacity:0\" cx=\"2064.88\" cy=\"1445.72\" r=\"2\"/>\n",
       "<circle clip-path=\"url(#clip492)\" style=\"fill:#009af9; stroke:none; fill-opacity:0\" cx=\"2113.09\" cy=\"1310.79\" r=\"2\"/>\n",
       "<circle clip-path=\"url(#clip492)\" style=\"fill:#009af9; stroke:none; fill-opacity:0\" cx=\"2161.29\" cy=\"1445.72\" r=\"2\"/>\n",
       "<circle clip-path=\"url(#clip492)\" style=\"fill:#009af9; stroke:none; fill-opacity:0\" cx=\"2209.49\" cy=\"1375.15\" r=\"2\"/>\n",
       "<path clip-path=\"url(#clip490)\" d=\"M258.49 198.898 L527.569 198.898 L527.569 95.2176 L258.49 95.2176  Z\" fill=\"#ffffff\" fill-rule=\"evenodd\" fill-opacity=\"1\"/>\n",
       "<polyline clip-path=\"url(#clip490)\" style=\"stroke:#000000; stroke-linecap:round; stroke-linejoin:round; stroke-width:4; stroke-opacity:1; fill:none\" points=\"258.49,198.898 527.569,198.898 527.569,95.2176 258.49,95.2176 258.49,198.898 \"/>\n",
       "<path clip-path=\"url(#clip490)\" d=\"M282.562 167.794 L426.994 167.794 L426.994 126.322 L282.562 126.322 L282.562 167.794  Z\" fill=\"#009af9\" fill-rule=\"evenodd\" fill-opacity=\"1\"/>\n",
       "<polyline clip-path=\"url(#clip490)\" style=\"stroke:#000000; stroke-linecap:round; stroke-linejoin:round; stroke-width:4; stroke-opacity:1; fill:none\" points=\"282.562,167.794 426.994,167.794 426.994,126.322 282.562,126.322 282.562,167.794 \"/>\n",
       "<path clip-path=\"url(#clip490)\" d=\"M464.909 166.745 Q463.103 171.375 461.39 172.787 Q459.677 174.199 456.807 174.199 L453.404 174.199 L453.404 170.634 L455.904 170.634 Q457.663 170.634 458.636 169.8 Q459.608 168.967 460.788 165.865 L461.552 163.921 L451.066 138.412 L455.58 138.412 L463.682 158.689 L471.784 138.412 L476.298 138.412 L464.909 166.745 Z\" fill=\"#000000\" fill-rule=\"evenodd\" fill-opacity=\"1\" /><path clip-path=\"url(#clip490)\" d=\"M483.589 160.402 L491.228 160.402 L491.228 134.037 L482.918 135.703 L482.918 131.444 L491.182 129.778 L495.858 129.778 L495.858 160.402 L503.497 160.402 L503.497 164.338 L483.589 164.338 L483.589 160.402 Z\" fill=\"#000000\" fill-rule=\"evenodd\" fill-opacity=\"1\" /></svg>\n"
      ]
     },
     "execution_count": 73,
     "metadata": {},
     "output_type": "execute_result"
    }
   ],
   "source": [
    "histogram(chain_out_long, normalize=:probability)"
   ]
  },
  {
   "cell_type": "code",
   "execution_count": null,
   "id": "2f27d73f-1f44-4020-8dbc-d2f5fa3f471b",
   "metadata": {},
   "outputs": [],
   "source": []
  },
  {
   "cell_type": "code",
   "execution_count": 132,
   "id": "b8d638ac-46a1-4b71-b4f2-7372203d6d4c",
   "metadata": {},
   "outputs": [
    {
     "data": {
      "text/plain": [
       "do_mcmc_proposal_inference (generic function with 2 methods)"
      ]
     },
     "execution_count": 132,
     "metadata": {},
     "output_type": "execute_result"
    }
   ],
   "source": [
    "@gen function proposal(t, sigma_fair)\n",
    "    {:unfair_weighting} ~ uniform(max(t[:unfair_weighting] - sigma_fair, 0),min(t[:unfair_weighting] + sigma_fair, 1))\n",
    "    {:weighted_face} ~ uniform_discrete(1,6)\n",
    "end\n",
    "\n",
    "trace, = do_IS_inference(model, size(obs_rolls)[0], obs_rolls, 10000) # mimics burn-in\n",
    "\n",
    "function do_mcmc_proposal_inference(model, obs_rolls, trace, num_iters)\n",
    "\n",
    "    observations = Gen.choicemap()\n",
    "    for (i, r) in enumerate(obs_rolls)\n",
    "        observations[(:roll, i)] = r \n",
    "    end\n",
    "    \n",
    "    #trace, = generate(model, (num_iters,), observations)\n",
    "    \n",
    "    \n",
    "    fair_vals = Float64[]\n",
    "    for i=1:num_iters\n",
    "        trace, = mh(trace, proposal, (0.05,))\n",
    "        push!(fair_vals, trace[:unfair_weighting])\n",
    "    end\n",
    "    fair_vals\n",
    "end"
   ]
  },
  {
   "cell_type": "code",
   "execution_count": 82,
   "id": "c1a80c2a-16e8-4c8c-b7eb-f5bc1723a661",
   "metadata": {},
   "outputs": [
    {
     "data": {
      "text/plain": [
       "10000-element Vector{Float64}:\n",
       " 0.5465769736203112\n",
       " 0.5465769736203112\n",
       " 0.5465769736203112\n",
       " 0.5465769736203112\n",
       " 0.5465769736203112\n",
       " 0.5465769736203112\n",
       " 0.5465769736203112\n",
       " 0.5465769736203112\n",
       " 0.5542683887462894\n",
       " 0.5542683887462894\n",
       " 0.5542683887462894\n",
       " 0.5542683887462894\n",
       " 0.5542683887462894\n",
       " ⋮\n",
       " 0.5557638674654267\n",
       " 0.5557638674654267\n",
       " 0.5557638674654267\n",
       " 0.5557638674654267\n",
       " 0.5557638674654267\n",
       " 0.5557638674654267\n",
       " 0.5557638674654267\n",
       " 0.5557638674654267\n",
       " 0.5557638674654267\n",
       " 0.5557638674654267\n",
       " 0.5557638674654267\n",
       " 0.5557638674654267"
      ]
     },
     "execution_count": 82,
     "metadata": {},
     "output_type": "execute_result"
    }
   ],
   "source": [
    "chain_out_prop = do_mcmc_proposal_inference(roll_model, test_traj, 10000)"
   ]
  },
  {
   "cell_type": "code",
   "execution_count": 83,
   "id": "9ca3d092-fbd2-4a47-ace4-0707b9613bed",
   "metadata": {},
   "outputs": [
    {
     "data": {
      "image/svg+xml": [
       "<?xml version=\"1.0\" encoding=\"utf-8\"?>\n",
       "<svg xmlns=\"http://www.w3.org/2000/svg\" xmlns:xlink=\"http://www.w3.org/1999/xlink\" width=\"600\" height=\"400\" viewBox=\"0 0 2400 1600\">\n",
       "<defs>\n",
       "  <clipPath id=\"clip610\">\n",
       "    <rect x=\"0\" y=\"0\" width=\"2400\" height=\"1600\"/>\n",
       "  </clipPath>\n",
       "</defs>\n",
       "<path clip-path=\"url(#clip610)\" d=\"M0 1600 L2400 1600 L2400 0 L0 0  Z\" fill=\"#ffffff\" fill-rule=\"evenodd\" fill-opacity=\"1\"/>\n",
       "<defs>\n",
       "  <clipPath id=\"clip611\">\n",
       "    <rect x=\"480\" y=\"0\" width=\"1681\" height=\"1600\"/>\n",
       "  </clipPath>\n",
       "</defs>\n",
       "<path clip-path=\"url(#clip610)\" d=\"M186.76 1486.45 L2352.76 1486.45 L2352.76 47.2441 L186.76 47.2441  Z\" fill=\"#ffffff\" fill-rule=\"evenodd\" fill-opacity=\"1\"/>\n",
       "<defs>\n",
       "  <clipPath id=\"clip612\">\n",
       "    <rect x=\"186\" y=\"47\" width=\"2167\" height=\"1440\"/>\n",
       "  </clipPath>\n",
       "</defs>\n",
       "<polyline clip-path=\"url(#clip612)\" style=\"stroke:#000000; stroke-linecap:round; stroke-linejoin:round; stroke-width:2; stroke-opacity:0.1; fill:none\" points=\"364.31,1486.45 364.31,47.2441 \"/>\n",
       "<polyline clip-path=\"url(#clip612)\" style=\"stroke:#000000; stroke-linecap:round; stroke-linejoin:round; stroke-width:2; stroke-opacity:0.1; fill:none\" points=\"948.47,1486.45 948.47,47.2441 \"/>\n",
       "<polyline clip-path=\"url(#clip612)\" style=\"stroke:#000000; stroke-linecap:round; stroke-linejoin:round; stroke-width:2; stroke-opacity:0.1; fill:none\" points=\"1532.63,1486.45 1532.63,47.2441 \"/>\n",
       "<polyline clip-path=\"url(#clip612)\" style=\"stroke:#000000; stroke-linecap:round; stroke-linejoin:round; stroke-width:2; stroke-opacity:0.1; fill:none\" points=\"2116.79,1486.45 2116.79,47.2441 \"/>\n",
       "<polyline clip-path=\"url(#clip610)\" style=\"stroke:#000000; stroke-linecap:round; stroke-linejoin:round; stroke-width:4; stroke-opacity:1; fill:none\" points=\"186.76,1486.45 2352.76,1486.45 \"/>\n",
       "<polyline clip-path=\"url(#clip610)\" style=\"stroke:#000000; stroke-linecap:round; stroke-linejoin:round; stroke-width:4; stroke-opacity:1; fill:none\" points=\"364.31,1486.45 364.31,1467.55 \"/>\n",
       "<polyline clip-path=\"url(#clip610)\" style=\"stroke:#000000; stroke-linecap:round; stroke-linejoin:round; stroke-width:4; stroke-opacity:1; fill:none\" points=\"948.47,1486.45 948.47,1467.55 \"/>\n",
       "<polyline clip-path=\"url(#clip610)\" style=\"stroke:#000000; stroke-linecap:round; stroke-linejoin:round; stroke-width:4; stroke-opacity:1; fill:none\" points=\"1532.63,1486.45 1532.63,1467.55 \"/>\n",
       "<polyline clip-path=\"url(#clip610)\" style=\"stroke:#000000; stroke-linecap:round; stroke-linejoin:round; stroke-width:4; stroke-opacity:1; fill:none\" points=\"2116.79,1486.45 2116.79,1467.55 \"/>\n",
       "<path clip-path=\"url(#clip610)\" d=\"M326.37 1517.37 Q322.759 1517.37 320.93 1520.93 Q319.125 1524.47 319.125 1531.6 Q319.125 1538.71 320.93 1542.27 Q322.759 1545.82 326.37 1545.82 Q330.004 1545.82 331.81 1542.27 Q333.639 1538.71 333.639 1531.6 Q333.639 1524.47 331.81 1520.93 Q330.004 1517.37 326.37 1517.37 M326.37 1513.66 Q332.18 1513.66 335.236 1518.27 Q338.315 1522.85 338.315 1531.6 Q338.315 1540.33 335.236 1544.94 Q332.18 1549.52 326.37 1549.52 Q320.56 1549.52 317.481 1544.94 Q314.426 1540.33 314.426 1531.6 Q314.426 1522.85 317.481 1518.27 Q320.56 1513.66 326.37 1513.66 Z\" fill=\"#000000\" fill-rule=\"evenodd\" fill-opacity=\"1\" /><path clip-path=\"url(#clip610)\" d=\"M346.532 1542.97 L351.416 1542.97 L351.416 1548.85 L346.532 1548.85 L346.532 1542.97 Z\" fill=\"#000000\" fill-rule=\"evenodd\" fill-opacity=\"1\" /><path clip-path=\"url(#clip610)\" d=\"M361.648 1514.29 L380.004 1514.29 L380.004 1518.22 L365.93 1518.22 L365.93 1526.7 Q366.949 1526.35 367.967 1526.19 Q368.986 1526 370.004 1526 Q375.791 1526 379.171 1529.17 Q382.55 1532.34 382.55 1537.76 Q382.55 1543.34 379.078 1546.44 Q375.606 1549.52 369.287 1549.52 Q367.111 1549.52 364.842 1549.15 Q362.597 1548.78 360.189 1548.04 L360.189 1543.34 Q362.273 1544.47 364.495 1545.03 Q366.717 1545.58 369.194 1545.58 Q373.199 1545.58 375.537 1543.48 Q377.874 1541.37 377.874 1537.76 Q377.874 1534.15 375.537 1532.04 Q373.199 1529.94 369.194 1529.94 Q367.319 1529.94 365.444 1530.35 Q363.592 1530.77 361.648 1531.65 L361.648 1514.29 Z\" fill=\"#000000\" fill-rule=\"evenodd\" fill-opacity=\"1\" /><path clip-path=\"url(#clip610)\" d=\"M404.61 1518.36 L392.805 1536.81 L404.61 1536.81 L404.61 1518.36 M403.384 1514.29 L409.263 1514.29 L409.263 1536.81 L414.194 1536.81 L414.194 1540.7 L409.263 1540.7 L409.263 1548.85 L404.61 1548.85 L404.61 1540.7 L389.009 1540.7 L389.009 1536.19 L403.384 1514.29 Z\" fill=\"#000000\" fill-rule=\"evenodd\" fill-opacity=\"1\" /><path clip-path=\"url(#clip610)\" d=\"M911.271 1517.37 Q907.66 1517.37 905.831 1520.93 Q904.026 1524.47 904.026 1531.6 Q904.026 1538.71 905.831 1542.27 Q907.66 1545.82 911.271 1545.82 Q914.905 1545.82 916.711 1542.27 Q918.54 1538.71 918.54 1531.6 Q918.54 1524.47 916.711 1520.93 Q914.905 1517.37 911.271 1517.37 M911.271 1513.66 Q917.081 1513.66 920.137 1518.27 Q923.215 1522.85 923.215 1531.6 Q923.215 1540.33 920.137 1544.94 Q917.081 1549.52 911.271 1549.52 Q905.461 1549.52 902.382 1544.94 Q899.327 1540.33 899.327 1531.6 Q899.327 1522.85 902.382 1518.27 Q905.461 1513.66 911.271 1513.66 Z\" fill=\"#000000\" fill-rule=\"evenodd\" fill-opacity=\"1\" /><path clip-path=\"url(#clip610)\" d=\"M931.433 1542.97 L936.317 1542.97 L936.317 1548.85 L931.433 1548.85 L931.433 1542.97 Z\" fill=\"#000000\" fill-rule=\"evenodd\" fill-opacity=\"1\" /><path clip-path=\"url(#clip610)\" d=\"M946.549 1514.29 L964.905 1514.29 L964.905 1518.22 L950.831 1518.22 L950.831 1526.7 Q951.85 1526.35 952.868 1526.19 Q953.887 1526 954.905 1526 Q960.692 1526 964.072 1529.17 Q967.451 1532.34 967.451 1537.76 Q967.451 1543.34 963.979 1546.44 Q960.507 1549.52 954.187 1549.52 Q952.012 1549.52 949.743 1549.15 Q947.498 1548.78 945.09 1548.04 L945.09 1543.34 Q947.174 1544.47 949.396 1545.03 Q951.618 1545.58 954.095 1545.58 Q958.099 1545.58 960.437 1543.48 Q962.775 1541.37 962.775 1537.76 Q962.775 1534.15 960.437 1532.04 Q958.099 1529.94 954.095 1529.94 Q952.22 1529.94 950.345 1530.35 Q948.493 1530.77 946.549 1531.65 L946.549 1514.29 Z\" fill=\"#000000\" fill-rule=\"evenodd\" fill-opacity=\"1\" /><path clip-path=\"url(#clip610)\" d=\"M976.711 1514.29 L995.067 1514.29 L995.067 1518.22 L980.993 1518.22 L980.993 1526.7 Q982.011 1526.35 983.03 1526.19 Q984.048 1526 985.067 1526 Q990.854 1526 994.234 1529.17 Q997.613 1532.34 997.613 1537.76 Q997.613 1543.34 994.141 1546.44 Q990.669 1549.52 984.349 1549.52 Q982.173 1549.52 979.905 1549.15 Q977.66 1548.78 975.252 1548.04 L975.252 1543.34 Q977.336 1544.47 979.558 1545.03 Q981.78 1545.58 984.257 1545.58 Q988.261 1545.58 990.599 1543.48 Q992.937 1541.37 992.937 1537.76 Q992.937 1534.15 990.599 1532.04 Q988.261 1529.94 984.257 1529.94 Q982.382 1529.94 980.507 1530.35 Q978.655 1530.77 976.711 1531.65 L976.711 1514.29 Z\" fill=\"#000000\" fill-rule=\"evenodd\" fill-opacity=\"1\" /><path clip-path=\"url(#clip610)\" d=\"M1494.85 1517.37 Q1491.24 1517.37 1489.41 1520.93 Q1487.61 1524.47 1487.61 1531.6 Q1487.61 1538.71 1489.41 1542.27 Q1491.24 1545.82 1494.85 1545.82 Q1498.49 1545.82 1500.29 1542.27 Q1502.12 1538.71 1502.12 1531.6 Q1502.12 1524.47 1500.29 1520.93 Q1498.49 1517.37 1494.85 1517.37 M1494.85 1513.66 Q1500.66 1513.66 1503.72 1518.27 Q1506.8 1522.85 1506.8 1531.6 Q1506.8 1540.33 1503.72 1544.94 Q1500.66 1549.52 1494.85 1549.52 Q1489.04 1549.52 1485.96 1544.94 Q1482.91 1540.33 1482.91 1531.6 Q1482.91 1522.85 1485.96 1518.27 Q1489.04 1513.66 1494.85 1513.66 Z\" fill=\"#000000\" fill-rule=\"evenodd\" fill-opacity=\"1\" /><path clip-path=\"url(#clip610)\" d=\"M1515.01 1542.97 L1519.9 1542.97 L1519.9 1548.85 L1515.01 1548.85 L1515.01 1542.97 Z\" fill=\"#000000\" fill-rule=\"evenodd\" fill-opacity=\"1\" /><path clip-path=\"url(#clip610)\" d=\"M1530.13 1514.29 L1548.49 1514.29 L1548.49 1518.22 L1534.41 1518.22 L1534.41 1526.7 Q1535.43 1526.35 1536.45 1526.19 Q1537.47 1526 1538.49 1526 Q1544.27 1526 1547.65 1529.17 Q1551.03 1532.34 1551.03 1537.76 Q1551.03 1543.34 1547.56 1546.44 Q1544.09 1549.52 1537.77 1549.52 Q1535.59 1549.52 1533.32 1549.15 Q1531.08 1548.78 1528.67 1548.04 L1528.67 1543.34 Q1530.76 1544.47 1532.98 1545.03 Q1535.2 1545.58 1537.68 1545.58 Q1541.68 1545.58 1544.02 1543.48 Q1546.36 1541.37 1546.36 1537.76 Q1546.36 1534.15 1544.02 1532.04 Q1541.68 1529.94 1537.68 1529.94 Q1535.8 1529.94 1533.93 1530.35 Q1532.07 1530.77 1530.13 1531.65 L1530.13 1514.29 Z\" fill=\"#000000\" fill-rule=\"evenodd\" fill-opacity=\"1\" /><path clip-path=\"url(#clip610)\" d=\"M1570.82 1529.7 Q1567.68 1529.7 1565.82 1531.86 Q1564 1534.01 1564 1537.76 Q1564 1541.49 1565.82 1543.66 Q1567.68 1545.82 1570.82 1545.82 Q1573.97 1545.82 1575.8 1543.66 Q1577.65 1541.49 1577.65 1537.76 Q1577.65 1534.01 1575.8 1531.86 Q1573.97 1529.7 1570.82 1529.7 M1580.11 1515.05 L1580.11 1519.31 Q1578.35 1518.48 1576.54 1518.04 Q1574.76 1517.6 1573 1517.6 Q1568.37 1517.6 1565.92 1520.72 Q1563.49 1523.85 1563.14 1530.17 Q1564.5 1528.15 1566.57 1527.09 Q1568.63 1526 1571.1 1526 Q1576.31 1526 1579.32 1529.17 Q1582.35 1532.32 1582.35 1537.76 Q1582.35 1543.08 1579.2 1546.3 Q1576.06 1549.52 1570.82 1549.52 Q1564.83 1549.52 1561.66 1544.94 Q1558.49 1540.33 1558.49 1531.6 Q1558.49 1523.41 1562.38 1518.55 Q1566.26 1513.66 1572.82 1513.66 Q1574.57 1513.66 1576.36 1514.01 Q1578.16 1514.36 1580.11 1515.05 Z\" fill=\"#000000\" fill-rule=\"evenodd\" fill-opacity=\"1\" /><path clip-path=\"url(#clip610)\" d=\"M2079.55 1517.37 Q2075.93 1517.37 2074.11 1520.93 Q2072.3 1524.47 2072.3 1531.6 Q2072.3 1538.71 2074.11 1542.27 Q2075.93 1545.82 2079.55 1545.82 Q2083.18 1545.82 2084.98 1542.27 Q2086.81 1538.71 2086.81 1531.6 Q2086.81 1524.47 2084.98 1520.93 Q2083.18 1517.37 2079.55 1517.37 M2079.55 1513.66 Q2085.36 1513.66 2088.41 1518.27 Q2091.49 1522.85 2091.49 1531.6 Q2091.49 1540.33 2088.41 1544.94 Q2085.36 1549.52 2079.55 1549.52 Q2073.73 1549.52 2070.66 1544.94 Q2067.6 1540.33 2067.6 1531.6 Q2067.6 1522.85 2070.66 1518.27 Q2073.73 1513.66 2079.55 1513.66 Z\" fill=\"#000000\" fill-rule=\"evenodd\" fill-opacity=\"1\" /><path clip-path=\"url(#clip610)\" d=\"M2099.71 1542.97 L2104.59 1542.97 L2104.59 1548.85 L2099.71 1548.85 L2099.71 1542.97 Z\" fill=\"#000000\" fill-rule=\"evenodd\" fill-opacity=\"1\" /><path clip-path=\"url(#clip610)\" d=\"M2114.82 1514.29 L2133.18 1514.29 L2133.18 1518.22 L2119.11 1518.22 L2119.11 1526.7 Q2120.12 1526.35 2121.14 1526.19 Q2122.16 1526 2123.18 1526 Q2128.97 1526 2132.35 1529.17 Q2135.73 1532.34 2135.73 1537.76 Q2135.73 1543.34 2132.25 1546.44 Q2128.78 1549.52 2122.46 1549.52 Q2120.29 1549.52 2118.02 1549.15 Q2115.77 1548.78 2113.36 1548.04 L2113.36 1543.34 Q2115.45 1544.47 2117.67 1545.03 Q2119.89 1545.58 2122.37 1545.58 Q2126.37 1545.58 2128.71 1543.48 Q2131.05 1541.37 2131.05 1537.76 Q2131.05 1534.15 2128.71 1532.04 Q2126.37 1529.94 2122.37 1529.94 Q2120.49 1529.94 2118.62 1530.35 Q2116.77 1530.77 2114.82 1531.65 L2114.82 1514.29 Z\" fill=\"#000000\" fill-rule=\"evenodd\" fill-opacity=\"1\" /><path clip-path=\"url(#clip610)\" d=\"M2143.76 1514.29 L2165.98 1514.29 L2165.98 1516.28 L2153.43 1548.85 L2148.55 1548.85 L2160.35 1518.22 L2143.76 1518.22 L2143.76 1514.29 Z\" fill=\"#000000\" fill-rule=\"evenodd\" fill-opacity=\"1\" /><polyline clip-path=\"url(#clip612)\" style=\"stroke:#000000; stroke-linecap:round; stroke-linejoin:round; stroke-width:2; stroke-opacity:0.1; fill:none\" points=\"186.76,1445.72 2352.76,1445.72 \"/>\n",
       "<polyline clip-path=\"url(#clip612)\" style=\"stroke:#000000; stroke-linecap:round; stroke-linejoin:round; stroke-width:2; stroke-opacity:0.1; fill:none\" points=\"186.76,1156.22 2352.76,1156.22 \"/>\n",
       "<polyline clip-path=\"url(#clip612)\" style=\"stroke:#000000; stroke-linecap:round; stroke-linejoin:round; stroke-width:2; stroke-opacity:0.1; fill:none\" points=\"186.76,866.722 2352.76,866.722 \"/>\n",
       "<polyline clip-path=\"url(#clip612)\" style=\"stroke:#000000; stroke-linecap:round; stroke-linejoin:round; stroke-width:2; stroke-opacity:0.1; fill:none\" points=\"186.76,577.226 2352.76,577.226 \"/>\n",
       "<polyline clip-path=\"url(#clip612)\" style=\"stroke:#000000; stroke-linecap:round; stroke-linejoin:round; stroke-width:2; stroke-opacity:0.1; fill:none\" points=\"186.76,287.729 2352.76,287.729 \"/>\n",
       "<polyline clip-path=\"url(#clip610)\" style=\"stroke:#000000; stroke-linecap:round; stroke-linejoin:round; stroke-width:4; stroke-opacity:1; fill:none\" points=\"186.76,1486.45 186.76,47.2441 \"/>\n",
       "<polyline clip-path=\"url(#clip610)\" style=\"stroke:#000000; stroke-linecap:round; stroke-linejoin:round; stroke-width:4; stroke-opacity:1; fill:none\" points=\"186.76,1445.72 205.658,1445.72 \"/>\n",
       "<polyline clip-path=\"url(#clip610)\" style=\"stroke:#000000; stroke-linecap:round; stroke-linejoin:round; stroke-width:4; stroke-opacity:1; fill:none\" points=\"186.76,1156.22 205.658,1156.22 \"/>\n",
       "<polyline clip-path=\"url(#clip610)\" style=\"stroke:#000000; stroke-linecap:round; stroke-linejoin:round; stroke-width:4; stroke-opacity:1; fill:none\" points=\"186.76,866.722 205.658,866.722 \"/>\n",
       "<polyline clip-path=\"url(#clip610)\" style=\"stroke:#000000; stroke-linecap:round; stroke-linejoin:round; stroke-width:4; stroke-opacity:1; fill:none\" points=\"186.76,577.226 205.658,577.226 \"/>\n",
       "<polyline clip-path=\"url(#clip610)\" style=\"stroke:#000000; stroke-linecap:round; stroke-linejoin:round; stroke-width:4; stroke-opacity:1; fill:none\" points=\"186.76,287.729 205.658,287.729 \"/>\n",
       "<path clip-path=\"url(#clip610)\" d=\"M63.4226 1431.51 Q59.8115 1431.51 57.9828 1435.08 Q56.1773 1438.62 56.1773 1445.75 Q56.1773 1452.86 57.9828 1456.42 Q59.8115 1459.96 63.4226 1459.96 Q67.0569 1459.96 68.8624 1456.42 Q70.6911 1452.86 70.6911 1445.75 Q70.6911 1438.62 68.8624 1435.08 Q67.0569 1431.51 63.4226 1431.51 M63.4226 1427.81 Q69.2328 1427.81 72.2883 1432.42 Q75.367 1437 75.367 1445.75 Q75.367 1454.48 72.2883 1459.08 Q69.2328 1463.67 63.4226 1463.67 Q57.6125 1463.67 54.5338 1459.08 Q51.4782 1454.48 51.4782 1445.75 Q51.4782 1437 54.5338 1432.42 Q57.6125 1427.81 63.4226 1427.81 Z\" fill=\"#000000\" fill-rule=\"evenodd\" fill-opacity=\"1\" /><path clip-path=\"url(#clip610)\" d=\"M83.5845 1457.12 L88.4688 1457.12 L88.4688 1463 L83.5845 1463 L83.5845 1457.12 Z\" fill=\"#000000\" fill-rule=\"evenodd\" fill-opacity=\"1\" /><path clip-path=\"url(#clip610)\" d=\"M108.654 1431.51 Q105.043 1431.51 103.214 1435.08 Q101.409 1438.62 101.409 1445.75 Q101.409 1452.86 103.214 1456.42 Q105.043 1459.96 108.654 1459.96 Q112.288 1459.96 114.094 1456.42 Q115.922 1452.86 115.922 1445.75 Q115.922 1438.62 114.094 1435.08 Q112.288 1431.51 108.654 1431.51 M108.654 1427.81 Q114.464 1427.81 117.52 1432.42 Q120.598 1437 120.598 1445.75 Q120.598 1454.48 117.52 1459.08 Q114.464 1463.67 108.654 1463.67 Q102.844 1463.67 99.765 1459.08 Q96.7095 1454.48 96.7095 1445.75 Q96.7095 1437 99.765 1432.42 Q102.844 1427.81 108.654 1427.81 Z\" fill=\"#000000\" fill-rule=\"evenodd\" fill-opacity=\"1\" /><path clip-path=\"url(#clip610)\" d=\"M138.816 1431.51 Q135.205 1431.51 133.376 1435.08 Q131.57 1438.62 131.57 1445.75 Q131.57 1452.86 133.376 1456.42 Q135.205 1459.96 138.816 1459.96 Q142.45 1459.96 144.256 1456.42 Q146.084 1452.86 146.084 1445.75 Q146.084 1438.62 144.256 1435.08 Q142.45 1431.51 138.816 1431.51 M138.816 1427.81 Q144.626 1427.81 147.681 1432.42 Q150.76 1437 150.76 1445.75 Q150.76 1454.48 147.681 1459.08 Q144.626 1463.67 138.816 1463.67 Q133.006 1463.67 129.927 1459.08 Q126.871 1454.48 126.871 1445.75 Q126.871 1437 129.927 1432.42 Q133.006 1427.81 138.816 1427.81 Z\" fill=\"#000000\" fill-rule=\"evenodd\" fill-opacity=\"1\" /><path clip-path=\"url(#clip610)\" d=\"M65.0198 1142.02 Q61.4087 1142.02 59.58 1145.58 Q57.7745 1149.12 57.7745 1156.25 Q57.7745 1163.36 59.58 1166.92 Q61.4087 1170.47 65.0198 1170.47 Q68.6541 1170.47 70.4596 1166.92 Q72.2883 1163.36 72.2883 1156.25 Q72.2883 1149.12 70.4596 1145.58 Q68.6541 1142.02 65.0198 1142.02 M65.0198 1138.31 Q70.83 1138.31 73.8855 1142.92 Q76.9642 1147.5 76.9642 1156.25 Q76.9642 1164.98 73.8855 1169.59 Q70.83 1174.17 65.0198 1174.17 Q59.2097 1174.17 56.131 1169.59 Q53.0754 1164.98 53.0754 1156.25 Q53.0754 1147.5 56.131 1142.92 Q59.2097 1138.31 65.0198 1138.31 Z\" fill=\"#000000\" fill-rule=\"evenodd\" fill-opacity=\"1\" /><path clip-path=\"url(#clip610)\" d=\"M85.1818 1167.62 L90.066 1167.62 L90.066 1173.5 L85.1818 1173.5 L85.1818 1167.62 Z\" fill=\"#000000\" fill-rule=\"evenodd\" fill-opacity=\"1\" /><path clip-path=\"url(#clip610)\" d=\"M110.251 1142.02 Q106.64 1142.02 104.811 1145.58 Q103.006 1149.12 103.006 1156.25 Q103.006 1163.36 104.811 1166.92 Q106.64 1170.47 110.251 1170.47 Q113.885 1170.47 115.691 1166.92 Q117.52 1163.36 117.52 1156.25 Q117.52 1149.12 115.691 1145.58 Q113.885 1142.02 110.251 1142.02 M110.251 1138.31 Q116.061 1138.31 119.117 1142.92 Q122.195 1147.5 122.195 1156.25 Q122.195 1164.98 119.117 1169.59 Q116.061 1174.17 110.251 1174.17 Q104.441 1174.17 101.362 1169.59 Q98.3067 1164.98 98.3067 1156.25 Q98.3067 1147.5 101.362 1142.92 Q104.441 1138.31 110.251 1138.31 Z\" fill=\"#000000\" fill-rule=\"evenodd\" fill-opacity=\"1\" /><path clip-path=\"url(#clip610)\" d=\"M134.441 1169.56 L150.76 1169.56 L150.76 1173.5 L128.816 1173.5 L128.816 1169.56 Q131.478 1166.81 136.061 1162.18 Q140.668 1157.53 141.848 1156.18 Q144.093 1153.66 144.973 1151.93 Q145.876 1150.17 145.876 1148.48 Q145.876 1145.72 143.931 1143.99 Q142.01 1142.25 138.908 1142.25 Q136.709 1142.25 134.256 1143.01 Q131.825 1143.78 129.047 1145.33 L129.047 1140.61 Q131.871 1139.47 134.325 1138.89 Q136.779 1138.31 138.816 1138.31 Q144.186 1138.31 147.38 1141 Q150.575 1143.68 150.575 1148.18 Q150.575 1150.3 149.765 1152.23 Q148.978 1154.12 146.871 1156.72 Q146.293 1157.39 143.191 1160.61 Q140.089 1163.8 134.441 1169.56 Z\" fill=\"#000000\" fill-rule=\"evenodd\" fill-opacity=\"1\" /><path clip-path=\"url(#clip610)\" d=\"M62.9365 852.521 Q59.3254 852.521 57.4967 856.086 Q55.6912 859.627 55.6912 866.757 Q55.6912 873.864 57.4967 877.428 Q59.3254 880.97 62.9365 880.97 Q66.5707 880.97 68.3763 877.428 Q70.205 873.864 70.205 866.757 Q70.205 859.627 68.3763 856.086 Q66.5707 852.521 62.9365 852.521 M62.9365 848.817 Q68.7467 848.817 71.8022 853.424 Q74.8809 858.007 74.8809 866.757 Q74.8809 875.484 71.8022 880.09 Q68.7467 884.674 62.9365 884.674 Q57.1264 884.674 54.0477 880.09 Q50.9921 875.484 50.9921 866.757 Q50.9921 858.007 54.0477 853.424 Q57.1264 848.817 62.9365 848.817 Z\" fill=\"#000000\" fill-rule=\"evenodd\" fill-opacity=\"1\" /><path clip-path=\"url(#clip610)\" d=\"M83.0984 878.123 L87.9827 878.123 L87.9827 884.002 L83.0984 884.002 L83.0984 878.123 Z\" fill=\"#000000\" fill-rule=\"evenodd\" fill-opacity=\"1\" /><path clip-path=\"url(#clip610)\" d=\"M108.168 852.521 Q104.557 852.521 102.728 856.086 Q100.922 859.627 100.922 866.757 Q100.922 873.864 102.728 877.428 Q104.557 880.97 108.168 880.97 Q111.802 880.97 113.608 877.428 Q115.436 873.864 115.436 866.757 Q115.436 859.627 113.608 856.086 Q111.802 852.521 108.168 852.521 M108.168 848.817 Q113.978 848.817 117.033 853.424 Q120.112 858.007 120.112 866.757 Q120.112 875.484 117.033 880.09 Q113.978 884.674 108.168 884.674 Q102.358 884.674 99.2789 880.09 Q96.2234 875.484 96.2234 866.757 Q96.2234 858.007 99.2789 853.424 Q102.358 848.817 108.168 848.817 Z\" fill=\"#000000\" fill-rule=\"evenodd\" fill-opacity=\"1\" /><path clip-path=\"url(#clip610)\" d=\"M141.177 853.516 L129.371 871.965 L141.177 871.965 L141.177 853.516 M139.95 849.442 L145.83 849.442 L145.83 871.965 L150.76 871.965 L150.76 875.854 L145.83 875.854 L145.83 884.002 L141.177 884.002 L141.177 875.854 L125.575 875.854 L125.575 871.34 L139.95 849.442 Z\" fill=\"#000000\" fill-rule=\"evenodd\" fill-opacity=\"1\" /><path clip-path=\"url(#clip610)\" d=\"M63.2606 563.024 Q59.6495 563.024 57.8208 566.589 Q56.0152 570.131 56.0152 577.26 Q56.0152 584.367 57.8208 587.932 Q59.6495 591.473 63.2606 591.473 Q66.8948 591.473 68.7004 587.932 Q70.5291 584.367 70.5291 577.26 Q70.5291 570.131 68.7004 566.589 Q66.8948 563.024 63.2606 563.024 M63.2606 559.321 Q69.0707 559.321 72.1263 563.927 Q75.205 568.51 75.205 577.26 Q75.205 585.987 72.1263 590.594 Q69.0707 595.177 63.2606 595.177 Q57.4504 595.177 54.3717 590.594 Q51.3162 585.987 51.3162 577.26 Q51.3162 568.51 54.3717 563.927 Q57.4504 559.321 63.2606 559.321 Z\" fill=\"#000000\" fill-rule=\"evenodd\" fill-opacity=\"1\" /><path clip-path=\"url(#clip610)\" d=\"M83.4225 588.626 L88.3067 588.626 L88.3067 594.506 L83.4225 594.506 L83.4225 588.626 Z\" fill=\"#000000\" fill-rule=\"evenodd\" fill-opacity=\"1\" /><path clip-path=\"url(#clip610)\" d=\"M108.492 563.024 Q104.881 563.024 103.052 566.589 Q101.246 570.131 101.246 577.26 Q101.246 584.367 103.052 587.932 Q104.881 591.473 108.492 591.473 Q112.126 591.473 113.932 587.932 Q115.76 584.367 115.76 577.26 Q115.76 570.131 113.932 566.589 Q112.126 563.024 108.492 563.024 M108.492 559.321 Q114.302 559.321 117.358 563.927 Q120.436 568.51 120.436 577.26 Q120.436 585.987 117.358 590.594 Q114.302 595.177 108.492 595.177 Q102.682 595.177 99.603 590.594 Q96.5474 585.987 96.5474 577.26 Q96.5474 568.51 99.603 563.927 Q102.682 559.321 108.492 559.321 Z\" fill=\"#000000\" fill-rule=\"evenodd\" fill-opacity=\"1\" /><path clip-path=\"url(#clip610)\" d=\"M139.232 575.362 Q136.084 575.362 134.232 577.515 Q132.404 579.668 132.404 583.418 Q132.404 587.145 134.232 589.321 Q136.084 591.473 139.232 591.473 Q142.381 591.473 144.209 589.321 Q146.061 587.145 146.061 583.418 Q146.061 579.668 144.209 577.515 Q142.381 575.362 139.232 575.362 M148.515 560.71 L148.515 564.969 Q146.756 564.135 144.95 563.696 Q143.168 563.256 141.408 563.256 Q136.779 563.256 134.325 566.381 Q131.894 569.506 131.547 575.825 Q132.913 573.811 134.973 572.747 Q137.033 571.659 139.51 571.659 Q144.718 571.659 147.728 574.83 Q150.76 577.978 150.76 583.418 Q150.76 588.742 147.612 591.959 Q144.464 595.177 139.232 595.177 Q133.237 595.177 130.066 590.594 Q126.894 585.987 126.894 577.26 Q126.894 569.066 130.783 564.205 Q134.672 559.321 141.223 559.321 Q142.982 559.321 144.765 559.668 Q146.57 560.015 148.515 560.71 Z\" fill=\"#000000\" fill-rule=\"evenodd\" fill-opacity=\"1\" /><path clip-path=\"url(#clip610)\" d=\"M63.5152 273.528 Q59.9041 273.528 58.0754 277.092 Q56.2699 280.634 56.2699 287.764 Q56.2699 294.87 58.0754 298.435 Q59.9041 301.977 63.5152 301.977 Q67.1494 301.977 68.955 298.435 Q70.7837 294.87 70.7837 287.764 Q70.7837 280.634 68.955 277.092 Q67.1494 273.528 63.5152 273.528 M63.5152 269.824 Q69.3254 269.824 72.3809 274.43 Q75.4596 279.014 75.4596 287.764 Q75.4596 296.491 72.3809 301.097 Q69.3254 305.68 63.5152 305.68 Q57.7051 305.68 54.6264 301.097 Q51.5708 296.491 51.5708 287.764 Q51.5708 279.014 54.6264 274.43 Q57.7051 269.824 63.5152 269.824 Z\" fill=\"#000000\" fill-rule=\"evenodd\" fill-opacity=\"1\" /><path clip-path=\"url(#clip610)\" d=\"M83.6771 299.129 L88.5614 299.129 L88.5614 305.009 L83.6771 305.009 L83.6771 299.129 Z\" fill=\"#000000\" fill-rule=\"evenodd\" fill-opacity=\"1\" /><path clip-path=\"url(#clip610)\" d=\"M108.746 273.528 Q105.135 273.528 103.307 277.092 Q101.501 280.634 101.501 287.764 Q101.501 294.87 103.307 298.435 Q105.135 301.977 108.746 301.977 Q112.381 301.977 114.186 298.435 Q116.015 294.87 116.015 287.764 Q116.015 280.634 114.186 277.092 Q112.381 273.528 108.746 273.528 M108.746 269.824 Q114.557 269.824 117.612 274.43 Q120.691 279.014 120.691 287.764 Q120.691 296.491 117.612 301.097 Q114.557 305.68 108.746 305.68 Q102.936 305.68 99.8576 301.097 Q96.8021 296.491 96.8021 287.764 Q96.8021 279.014 99.8576 274.43 Q102.936 269.824 108.746 269.824 Z\" fill=\"#000000\" fill-rule=\"evenodd\" fill-opacity=\"1\" /><path clip-path=\"url(#clip610)\" d=\"M138.908 288.597 Q135.575 288.597 133.654 290.379 Q131.756 292.162 131.756 295.287 Q131.756 298.412 133.654 300.194 Q135.575 301.977 138.908 301.977 Q142.242 301.977 144.163 300.194 Q146.084 298.389 146.084 295.287 Q146.084 292.162 144.163 290.379 Q142.265 288.597 138.908 288.597 M134.232 286.606 Q131.223 285.866 129.533 283.805 Q127.867 281.745 127.867 278.782 Q127.867 274.639 130.807 272.231 Q133.769 269.824 138.908 269.824 Q144.07 269.824 147.01 272.231 Q149.95 274.639 149.95 278.782 Q149.95 281.745 148.26 283.805 Q146.593 285.866 143.607 286.606 Q146.987 287.393 148.862 289.685 Q150.76 291.977 150.76 295.287 Q150.76 300.31 147.681 302.995 Q144.626 305.68 138.908 305.68 Q133.191 305.68 130.112 302.995 Q127.057 300.31 127.057 295.287 Q127.057 291.977 128.955 289.685 Q130.853 287.393 134.232 286.606 M132.519 279.222 Q132.519 281.907 134.186 283.412 Q135.876 284.916 138.908 284.916 Q141.918 284.916 143.607 283.412 Q145.32 281.907 145.32 279.222 Q145.32 276.537 143.607 275.032 Q141.918 273.528 138.908 273.528 Q135.876 273.528 134.186 275.032 Q132.519 276.537 132.519 279.222 Z\" fill=\"#000000\" fill-rule=\"evenodd\" fill-opacity=\"1\" /><path clip-path=\"url(#clip612)\" d=\"M305.894 1425.45 L305.894 1445.72 L364.31 1445.72 L364.31 1425.45 L305.894 1425.45 L305.894 1425.45  Z\" fill=\"#009af9\" fill-rule=\"evenodd\" fill-opacity=\"1\"/>\n",
       "<polyline clip-path=\"url(#clip612)\" style=\"stroke:#000000; stroke-linecap:round; stroke-linejoin:round; stroke-width:4; stroke-opacity:1; fill:none\" points=\"305.894,1425.45 305.894,1445.72 364.31,1445.72 364.31,1425.45 305.894,1425.45 \"/>\n",
       "<path clip-path=\"url(#clip612)\" d=\"M364.31 1445.72 L364.31 1445.72 L422.726 1445.72 L422.726 1445.72 L364.31 1445.72 L364.31 1445.72  Z\" fill=\"#009af9\" fill-rule=\"evenodd\" fill-opacity=\"1\"/>\n",
       "<polyline clip-path=\"url(#clip612)\" style=\"stroke:#000000; stroke-linecap:round; stroke-linejoin:round; stroke-width:4; stroke-opacity:1; fill:none\" points=\"364.31,1445.72 364.31,1445.72 422.726,1445.72 364.31,1445.72 \"/>\n",
       "<path clip-path=\"url(#clip612)\" d=\"M422.726 1437.03 L422.726 1445.72 L481.142 1445.72 L481.142 1437.03 L422.726 1437.03 L422.726 1437.03  Z\" fill=\"#009af9\" fill-rule=\"evenodd\" fill-opacity=\"1\"/>\n",
       "<polyline clip-path=\"url(#clip612)\" style=\"stroke:#000000; stroke-linecap:round; stroke-linejoin:round; stroke-width:4; stroke-opacity:1; fill:none\" points=\"422.726,1437.03 422.726,1445.72 481.142,1445.72 481.142,1437.03 422.726,1437.03 \"/>\n",
       "<path clip-path=\"url(#clip612)\" d=\"M481.142 1422.56 L481.142 1445.72 L539.558 1445.72 L539.558 1422.56 L481.142 1422.56 L481.142 1422.56  Z\" fill=\"#009af9\" fill-rule=\"evenodd\" fill-opacity=\"1\"/>\n",
       "<polyline clip-path=\"url(#clip612)\" style=\"stroke:#000000; stroke-linecap:round; stroke-linejoin:round; stroke-width:4; stroke-opacity:1; fill:none\" points=\"481.142,1422.56 481.142,1445.72 539.558,1445.72 539.558,1422.56 481.142,1422.56 \"/>\n",
       "<path clip-path=\"url(#clip612)\" d=\"M539.558 1324.13 L539.558 1445.72 L597.974 1445.72 L597.974 1324.13 L539.558 1324.13 L539.558 1324.13  Z\" fill=\"#009af9\" fill-rule=\"evenodd\" fill-opacity=\"1\"/>\n",
       "<polyline clip-path=\"url(#clip612)\" style=\"stroke:#000000; stroke-linecap:round; stroke-linejoin:round; stroke-width:4; stroke-opacity:1; fill:none\" points=\"539.558,1324.13 539.558,1445.72 597.974,1445.72 597.974,1324.13 539.558,1324.13 \"/>\n",
       "<path clip-path=\"url(#clip612)\" d=\"M597.974 1416.77 L597.974 1445.72 L656.39 1445.72 L656.39 1416.77 L597.974 1416.77 L597.974 1416.77  Z\" fill=\"#009af9\" fill-rule=\"evenodd\" fill-opacity=\"1\"/>\n",
       "<polyline clip-path=\"url(#clip612)\" style=\"stroke:#000000; stroke-linecap:round; stroke-linejoin:round; stroke-width:4; stroke-opacity:1; fill:none\" points=\"597.974,1416.77 597.974,1445.72 656.39,1445.72 656.39,1416.77 597.974,1416.77 \"/>\n",
       "<path clip-path=\"url(#clip612)\" d=\"M656.39 1424 L656.39 1445.72 L714.806 1445.72 L714.806 1424 L656.39 1424 L656.39 1424  Z\" fill=\"#009af9\" fill-rule=\"evenodd\" fill-opacity=\"1\"/>\n",
       "<polyline clip-path=\"url(#clip612)\" style=\"stroke:#000000; stroke-linecap:round; stroke-linejoin:round; stroke-width:4; stroke-opacity:1; fill:none\" points=\"656.39,1424 656.39,1445.72 714.806,1445.72 714.806,1424 656.39,1424 \"/>\n",
       "<path clip-path=\"url(#clip612)\" d=\"M714.806 1198.2 L714.806 1445.72 L773.222 1445.72 L773.222 1198.2 L714.806 1198.2 L714.806 1198.2  Z\" fill=\"#009af9\" fill-rule=\"evenodd\" fill-opacity=\"1\"/>\n",
       "<polyline clip-path=\"url(#clip612)\" style=\"stroke:#000000; stroke-linecap:round; stroke-linejoin:round; stroke-width:4; stroke-opacity:1; fill:none\" points=\"714.806,1198.2 714.806,1445.72 773.222,1445.72 773.222,1198.2 714.806,1198.2 \"/>\n",
       "<path clip-path=\"url(#clip612)\" d=\"M773.222 1125.82 L773.222 1445.72 L831.638 1445.72 L831.638 1125.82 L773.222 1125.82 L773.222 1125.82  Z\" fill=\"#009af9\" fill-rule=\"evenodd\" fill-opacity=\"1\"/>\n",
       "<polyline clip-path=\"url(#clip612)\" style=\"stroke:#000000; stroke-linecap:round; stroke-linejoin:round; stroke-width:4; stroke-opacity:1; fill:none\" points=\"773.222,1125.82 773.222,1445.72 831.638,1445.72 831.638,1125.82 773.222,1125.82 \"/>\n",
       "<path clip-path=\"url(#clip612)\" d=\"M831.638 969.494 L831.638 1445.72 L890.054 1445.72 L890.054 969.494 L831.638 969.494 L831.638 969.494  Z\" fill=\"#009af9\" fill-rule=\"evenodd\" fill-opacity=\"1\"/>\n",
       "<polyline clip-path=\"url(#clip612)\" style=\"stroke:#000000; stroke-linecap:round; stroke-linejoin:round; stroke-width:4; stroke-opacity:1; fill:none\" points=\"831.638,969.494 831.638,1445.72 890.054,1445.72 890.054,969.494 831.638,969.494 \"/>\n",
       "<path clip-path=\"url(#clip612)\" d=\"M890.054 957.914 L890.054 1445.72 L948.47 1445.72 L948.47 957.914 L890.054 957.914 L890.054 957.914  Z\" fill=\"#009af9\" fill-rule=\"evenodd\" fill-opacity=\"1\"/>\n",
       "<polyline clip-path=\"url(#clip612)\" style=\"stroke:#000000; stroke-linecap:round; stroke-linejoin:round; stroke-width:4; stroke-opacity:1; fill:none\" points=\"890.054,957.914 890.054,1445.72 948.47,1445.72 948.47,957.914 890.054,957.914 \"/>\n",
       "<path clip-path=\"url(#clip612)\" d=\"M948.47 969.494 L948.47 1445.72 L1006.89 1445.72 L1006.89 969.494 L948.47 969.494 L948.47 969.494  Z\" fill=\"#009af9\" fill-rule=\"evenodd\" fill-opacity=\"1\"/>\n",
       "<polyline clip-path=\"url(#clip612)\" style=\"stroke:#000000; stroke-linecap:round; stroke-linejoin:round; stroke-width:4; stroke-opacity:1; fill:none\" points=\"948.47,969.494 948.47,1445.72 1006.89,1445.72 1006.89,969.494 948.47,969.494 \"/>\n",
       "<path clip-path=\"url(#clip612)\" d=\"M1006.89 488.929 L1006.89 1445.72 L1065.3 1445.72 L1065.3 488.929 L1006.89 488.929 L1006.89 488.929  Z\" fill=\"#009af9\" fill-rule=\"evenodd\" fill-opacity=\"1\"/>\n",
       "<polyline clip-path=\"url(#clip612)\" style=\"stroke:#000000; stroke-linecap:round; stroke-linejoin:round; stroke-width:4; stroke-opacity:1; fill:none\" points=\"1006.89,488.929 1006.89,1445.72 1065.3,1445.72 1065.3,488.929 1006.89,488.929 \"/>\n",
       "<path clip-path=\"url(#clip612)\" d=\"M1065.3 216.802 L1065.3 1445.72 L1123.72 1445.72 L1123.72 216.802 L1065.3 216.802 L1065.3 216.802  Z\" fill=\"#009af9\" fill-rule=\"evenodd\" fill-opacity=\"1\"/>\n",
       "<polyline clip-path=\"url(#clip612)\" style=\"stroke:#000000; stroke-linecap:round; stroke-linejoin:round; stroke-width:4; stroke-opacity:1; fill:none\" points=\"1065.3,216.802 1065.3,1445.72 1123.72,1445.72 1123.72,216.802 1065.3,216.802 \"/>\n",
       "<path clip-path=\"url(#clip612)\" d=\"M1123.72 397.738 L1123.72 1445.72 L1182.13 1445.72 L1182.13 397.738 L1123.72 397.738 L1123.72 397.738  Z\" fill=\"#009af9\" fill-rule=\"evenodd\" fill-opacity=\"1\"/>\n",
       "<polyline clip-path=\"url(#clip612)\" style=\"stroke:#000000; stroke-linecap:round; stroke-linejoin:round; stroke-width:4; stroke-opacity:1; fill:none\" points=\"1123.72,397.738 1123.72,1445.72 1182.13,1445.72 1182.13,397.738 1123.72,397.738 \"/>\n",
       "<path clip-path=\"url(#clip612)\" d=\"M1182.13 293.519 L1182.13 1445.72 L1240.55 1445.72 L1240.55 293.519 L1182.13 293.519 L1182.13 293.519  Z\" fill=\"#009af9\" fill-rule=\"evenodd\" fill-opacity=\"1\"/>\n",
       "<polyline clip-path=\"url(#clip612)\" style=\"stroke:#000000; stroke-linecap:round; stroke-linejoin:round; stroke-width:4; stroke-opacity:1; fill:none\" points=\"1182.13,293.519 1182.13,1445.72 1240.55,1445.72 1240.55,293.519 1182.13,293.519 \"/>\n",
       "<path clip-path=\"url(#clip612)\" d=\"M1240.55 164.693 L1240.55 1445.72 L1298.97 1445.72 L1298.97 164.693 L1240.55 164.693 L1240.55 164.693  Z\" fill=\"#009af9\" fill-rule=\"evenodd\" fill-opacity=\"1\"/>\n",
       "<polyline clip-path=\"url(#clip612)\" style=\"stroke:#000000; stroke-linecap:round; stroke-linejoin:round; stroke-width:4; stroke-opacity:1; fill:none\" points=\"1240.55,164.693 1240.55,1445.72 1298.97,1445.72 1298.97,164.693 1240.55,164.693 \"/>\n",
       "<path clip-path=\"url(#clip612)\" d=\"M1298.97 315.231 L1298.97 1445.72 L1357.38 1445.72 L1357.38 315.231 L1298.97 315.231 L1298.97 315.231  Z\" fill=\"#009af9\" fill-rule=\"evenodd\" fill-opacity=\"1\"/>\n",
       "<polyline clip-path=\"url(#clip612)\" style=\"stroke:#000000; stroke-linecap:round; stroke-linejoin:round; stroke-width:4; stroke-opacity:1; fill:none\" points=\"1298.97,315.231 1298.97,1445.72 1357.38,1445.72 1357.38,315.231 1298.97,315.231 \"/>\n",
       "<path clip-path=\"url(#clip612)\" d=\"M1357.38 87.9763 L1357.38 1445.72 L1415.8 1445.72 L1415.8 87.9763 L1357.38 87.9763 L1357.38 87.9763  Z\" fill=\"#009af9\" fill-rule=\"evenodd\" fill-opacity=\"1\"/>\n",
       "<polyline clip-path=\"url(#clip612)\" style=\"stroke:#000000; stroke-linecap:round; stroke-linejoin:round; stroke-width:4; stroke-opacity:1; fill:none\" points=\"1357.38,87.9763 1357.38,1445.72 1415.8,1445.72 1415.8,87.9763 1357.38,87.9763 \"/>\n",
       "<path clip-path=\"url(#clip612)\" d=\"M1415.8 577.226 L1415.8 1445.72 L1474.21 1445.72 L1474.21 577.226 L1415.8 577.226 L1415.8 577.226  Z\" fill=\"#009af9\" fill-rule=\"evenodd\" fill-opacity=\"1\"/>\n",
       "<polyline clip-path=\"url(#clip612)\" style=\"stroke:#000000; stroke-linecap:round; stroke-linejoin:round; stroke-width:4; stroke-opacity:1; fill:none\" points=\"1415.8,577.226 1415.8,1445.72 1474.21,1445.72 1474.21,577.226 1415.8,577.226 \"/>\n",
       "<path clip-path=\"url(#clip612)\" d=\"M1474.21 432.477 L1474.21 1445.72 L1532.63 1445.72 L1532.63 432.477 L1474.21 432.477 L1474.21 432.477  Z\" fill=\"#009af9\" fill-rule=\"evenodd\" fill-opacity=\"1\"/>\n",
       "<polyline clip-path=\"url(#clip612)\" style=\"stroke:#000000; stroke-linecap:round; stroke-linejoin:round; stroke-width:4; stroke-opacity:1; fill:none\" points=\"1474.21,432.477 1474.21,1445.72 1532.63,1445.72 1532.63,432.477 1474.21,432.477 \"/>\n",
       "<path clip-path=\"url(#clip612)\" d=\"M1532.63 836.325 L1532.63 1445.72 L1591.05 1445.72 L1591.05 836.325 L1532.63 836.325 L1532.63 836.325  Z\" fill=\"#009af9\" fill-rule=\"evenodd\" fill-opacity=\"1\"/>\n",
       "<polyline clip-path=\"url(#clip612)\" style=\"stroke:#000000; stroke-linecap:round; stroke-linejoin:round; stroke-width:4; stroke-opacity:1; fill:none\" points=\"1532.63,836.325 1532.63,1445.72 1591.05,1445.72 1591.05,836.325 1532.63,836.325 \"/>\n",
       "<path clip-path=\"url(#clip612)\" d=\"M1591.05 995.548 L1591.05 1445.72 L1649.46 1445.72 L1649.46 995.548 L1591.05 995.548 L1591.05 995.548  Z\" fill=\"#009af9\" fill-rule=\"evenodd\" fill-opacity=\"1\"/>\n",
       "<polyline clip-path=\"url(#clip612)\" style=\"stroke:#000000; stroke-linecap:round; stroke-linejoin:round; stroke-width:4; stroke-opacity:1; fill:none\" points=\"1591.05,995.548 1591.05,1445.72 1649.46,1445.72 1649.46,995.548 1591.05,995.548 \"/>\n",
       "<path clip-path=\"url(#clip612)\" d=\"M1649.46 1049.11 L1649.46 1445.72 L1707.88 1445.72 L1707.88 1049.11 L1649.46 1049.11 L1649.46 1049.11  Z\" fill=\"#009af9\" fill-rule=\"evenodd\" fill-opacity=\"1\"/>\n",
       "<polyline clip-path=\"url(#clip612)\" style=\"stroke:#000000; stroke-linecap:round; stroke-linejoin:round; stroke-width:4; stroke-opacity:1; fill:none\" points=\"1649.46,1049.11 1649.46,1445.72 1707.88,1445.72 1707.88,1049.11 1649.46,1049.11 \"/>\n",
       "<path clip-path=\"url(#clip612)\" d=\"M1707.88 1188.06 L1707.88 1445.72 L1766.29 1445.72 L1766.29 1188.06 L1707.88 1188.06 L1707.88 1188.06  Z\" fill=\"#009af9\" fill-rule=\"evenodd\" fill-opacity=\"1\"/>\n",
       "<polyline clip-path=\"url(#clip612)\" style=\"stroke:#000000; stroke-linecap:round; stroke-linejoin:round; stroke-width:4; stroke-opacity:1; fill:none\" points=\"1707.88,1188.06 1707.88,1445.72 1766.29,1445.72 1766.29,1188.06 1707.88,1188.06 \"/>\n",
       "<path clip-path=\"url(#clip612)\" d=\"M1766.29 1280.7 L1766.29 1445.72 L1824.71 1445.72 L1824.71 1280.7 L1766.29 1280.7 L1766.29 1280.7  Z\" fill=\"#009af9\" fill-rule=\"evenodd\" fill-opacity=\"1\"/>\n",
       "<polyline clip-path=\"url(#clip612)\" style=\"stroke:#000000; stroke-linecap:round; stroke-linejoin:round; stroke-width:4; stroke-opacity:1; fill:none\" points=\"1766.29,1280.7 1766.29,1445.72 1824.71,1445.72 1824.71,1280.7 1766.29,1280.7 \"/>\n",
       "<path clip-path=\"url(#clip612)\" d=\"M1824.71 1280.7 L1824.71 1445.72 L1883.13 1445.72 L1883.13 1280.7 L1824.71 1280.7 L1824.71 1280.7  Z\" fill=\"#009af9\" fill-rule=\"evenodd\" fill-opacity=\"1\"/>\n",
       "<polyline clip-path=\"url(#clip612)\" style=\"stroke:#000000; stroke-linecap:round; stroke-linejoin:round; stroke-width:4; stroke-opacity:1; fill:none\" points=\"1824.71,1280.7 1824.71,1445.72 1883.13,1445.72 1883.13,1280.7 1824.71,1280.7 \"/>\n",
       "<path clip-path=\"url(#clip612)\" d=\"M1883.13 1412.42 L1883.13 1445.72 L1941.54 1445.72 L1941.54 1412.42 L1883.13 1412.42 L1883.13 1412.42  Z\" fill=\"#009af9\" fill-rule=\"evenodd\" fill-opacity=\"1\"/>\n",
       "<polyline clip-path=\"url(#clip612)\" style=\"stroke:#000000; stroke-linecap:round; stroke-linejoin:round; stroke-width:4; stroke-opacity:1; fill:none\" points=\"1883.13,1412.42 1883.13,1445.72 1941.54,1445.72 1941.54,1412.42 1883.13,1412.42 \"/>\n",
       "<path clip-path=\"url(#clip612)\" d=\"M1941.54 1445.72 L1941.54 1445.72 L1999.96 1445.72 L1999.96 1445.72 L1941.54 1445.72 L1941.54 1445.72  Z\" fill=\"#009af9\" fill-rule=\"evenodd\" fill-opacity=\"1\"/>\n",
       "<polyline clip-path=\"url(#clip612)\" style=\"stroke:#000000; stroke-linecap:round; stroke-linejoin:round; stroke-width:4; stroke-opacity:1; fill:none\" points=\"1941.54,1445.72 1941.54,1445.72 1999.96,1445.72 1941.54,1445.72 \"/>\n",
       "<path clip-path=\"url(#clip612)\" d=\"M1999.96 1353.08 L1999.96 1445.72 L2058.37 1445.72 L2058.37 1353.08 L1999.96 1353.08 L1999.96 1353.08  Z\" fill=\"#009af9\" fill-rule=\"evenodd\" fill-opacity=\"1\"/>\n",
       "<polyline clip-path=\"url(#clip612)\" style=\"stroke:#000000; stroke-linecap:round; stroke-linejoin:round; stroke-width:4; stroke-opacity:1; fill:none\" points=\"1999.96,1353.08 1999.96,1445.72 2058.37,1445.72 2058.37,1353.08 1999.96,1353.08 \"/>\n",
       "<path clip-path=\"url(#clip612)\" d=\"M2058.37 1444.27 L2058.37 1445.72 L2116.79 1445.72 L2116.79 1444.27 L2058.37 1444.27 L2058.37 1444.27  Z\" fill=\"#009af9\" fill-rule=\"evenodd\" fill-opacity=\"1\"/>\n",
       "<polyline clip-path=\"url(#clip612)\" style=\"stroke:#000000; stroke-linecap:round; stroke-linejoin:round; stroke-width:4; stroke-opacity:1; fill:none\" points=\"2058.37,1444.27 2058.37,1445.72 2116.79,1445.72 2116.79,1444.27 2058.37,1444.27 \"/>\n",
       "<path clip-path=\"url(#clip612)\" d=\"M2116.79 1422.56 L2116.79 1445.72 L2175.21 1445.72 L2175.21 1422.56 L2116.79 1422.56 L2116.79 1422.56  Z\" fill=\"#009af9\" fill-rule=\"evenodd\" fill-opacity=\"1\"/>\n",
       "<polyline clip-path=\"url(#clip612)\" style=\"stroke:#000000; stroke-linecap:round; stroke-linejoin:round; stroke-width:4; stroke-opacity:1; fill:none\" points=\"2116.79,1422.56 2116.79,1445.72 2175.21,1445.72 2175.21,1422.56 2116.79,1422.56 \"/>\n",
       "<path clip-path=\"url(#clip612)\" d=\"M2175.21 1434.14 L2175.21 1445.72 L2233.62 1445.72 L2233.62 1434.14 L2175.21 1434.14 L2175.21 1434.14  Z\" fill=\"#009af9\" fill-rule=\"evenodd\" fill-opacity=\"1\"/>\n",
       "<polyline clip-path=\"url(#clip612)\" style=\"stroke:#000000; stroke-linecap:round; stroke-linejoin:round; stroke-width:4; stroke-opacity:1; fill:none\" points=\"2175.21,1434.14 2175.21,1445.72 2233.62,1445.72 2233.62,1434.14 2175.21,1434.14 \"/>\n",
       "<circle clip-path=\"url(#clip612)\" style=\"fill:#009af9; stroke:none; fill-opacity:0\" cx=\"335.102\" cy=\"1425.45\" r=\"2\"/>\n",
       "<circle clip-path=\"url(#clip612)\" style=\"fill:#009af9; stroke:none; fill-opacity:0\" cx=\"393.518\" cy=\"1445.72\" r=\"2\"/>\n",
       "<circle clip-path=\"url(#clip612)\" style=\"fill:#009af9; stroke:none; fill-opacity:0\" cx=\"451.934\" cy=\"1437.03\" r=\"2\"/>\n",
       "<circle clip-path=\"url(#clip612)\" style=\"fill:#009af9; stroke:none; fill-opacity:0\" cx=\"510.35\" cy=\"1422.56\" r=\"2\"/>\n",
       "<circle clip-path=\"url(#clip612)\" style=\"fill:#009af9; stroke:none; fill-opacity:0\" cx=\"568.766\" cy=\"1324.13\" r=\"2\"/>\n",
       "<circle clip-path=\"url(#clip612)\" style=\"fill:#009af9; stroke:none; fill-opacity:0\" cx=\"627.182\" cy=\"1416.77\" r=\"2\"/>\n",
       "<circle clip-path=\"url(#clip612)\" style=\"fill:#009af9; stroke:none; fill-opacity:0\" cx=\"685.598\" cy=\"1424\" r=\"2\"/>\n",
       "<circle clip-path=\"url(#clip612)\" style=\"fill:#009af9; stroke:none; fill-opacity:0\" cx=\"744.014\" cy=\"1198.2\" r=\"2\"/>\n",
       "<circle clip-path=\"url(#clip612)\" style=\"fill:#009af9; stroke:none; fill-opacity:0\" cx=\"802.43\" cy=\"1125.82\" r=\"2\"/>\n",
       "<circle clip-path=\"url(#clip612)\" style=\"fill:#009af9; stroke:none; fill-opacity:0\" cx=\"860.846\" cy=\"969.494\" r=\"2\"/>\n",
       "<circle clip-path=\"url(#clip612)\" style=\"fill:#009af9; stroke:none; fill-opacity:0\" cx=\"919.262\" cy=\"957.914\" r=\"2\"/>\n",
       "<circle clip-path=\"url(#clip612)\" style=\"fill:#009af9; stroke:none; fill-opacity:0\" cx=\"977.678\" cy=\"969.494\" r=\"2\"/>\n",
       "<circle clip-path=\"url(#clip612)\" style=\"fill:#009af9; stroke:none; fill-opacity:0\" cx=\"1036.09\" cy=\"488.929\" r=\"2\"/>\n",
       "<circle clip-path=\"url(#clip612)\" style=\"fill:#009af9; stroke:none; fill-opacity:0\" cx=\"1094.51\" cy=\"216.802\" r=\"2\"/>\n",
       "<circle clip-path=\"url(#clip612)\" style=\"fill:#009af9; stroke:none; fill-opacity:0\" cx=\"1152.93\" cy=\"397.738\" r=\"2\"/>\n",
       "<circle clip-path=\"url(#clip612)\" style=\"fill:#009af9; stroke:none; fill-opacity:0\" cx=\"1211.34\" cy=\"293.519\" r=\"2\"/>\n",
       "<circle clip-path=\"url(#clip612)\" style=\"fill:#009af9; stroke:none; fill-opacity:0\" cx=\"1269.76\" cy=\"164.693\" r=\"2\"/>\n",
       "<circle clip-path=\"url(#clip612)\" style=\"fill:#009af9; stroke:none; fill-opacity:0\" cx=\"1328.17\" cy=\"315.231\" r=\"2\"/>\n",
       "<circle clip-path=\"url(#clip612)\" style=\"fill:#009af9; stroke:none; fill-opacity:0\" cx=\"1386.59\" cy=\"87.9763\" r=\"2\"/>\n",
       "<circle clip-path=\"url(#clip612)\" style=\"fill:#009af9; stroke:none; fill-opacity:0\" cx=\"1445.01\" cy=\"577.226\" r=\"2\"/>\n",
       "<circle clip-path=\"url(#clip612)\" style=\"fill:#009af9; stroke:none; fill-opacity:0\" cx=\"1503.42\" cy=\"432.477\" r=\"2\"/>\n",
       "<circle clip-path=\"url(#clip612)\" style=\"fill:#009af9; stroke:none; fill-opacity:0\" cx=\"1561.84\" cy=\"836.325\" r=\"2\"/>\n",
       "<circle clip-path=\"url(#clip612)\" style=\"fill:#009af9; stroke:none; fill-opacity:0\" cx=\"1620.25\" cy=\"995.548\" r=\"2\"/>\n",
       "<circle clip-path=\"url(#clip612)\" style=\"fill:#009af9; stroke:none; fill-opacity:0\" cx=\"1678.67\" cy=\"1049.11\" r=\"2\"/>\n",
       "<circle clip-path=\"url(#clip612)\" style=\"fill:#009af9; stroke:none; fill-opacity:0\" cx=\"1737.09\" cy=\"1188.06\" r=\"2\"/>\n",
       "<circle clip-path=\"url(#clip612)\" style=\"fill:#009af9; stroke:none; fill-opacity:0\" cx=\"1795.5\" cy=\"1280.7\" r=\"2\"/>\n",
       "<circle clip-path=\"url(#clip612)\" style=\"fill:#009af9; stroke:none; fill-opacity:0\" cx=\"1853.92\" cy=\"1280.7\" r=\"2\"/>\n",
       "<circle clip-path=\"url(#clip612)\" style=\"fill:#009af9; stroke:none; fill-opacity:0\" cx=\"1912.33\" cy=\"1412.42\" r=\"2\"/>\n",
       "<circle clip-path=\"url(#clip612)\" style=\"fill:#009af9; stroke:none; fill-opacity:0\" cx=\"1970.75\" cy=\"1445.72\" r=\"2\"/>\n",
       "<circle clip-path=\"url(#clip612)\" style=\"fill:#009af9; stroke:none; fill-opacity:0\" cx=\"2029.17\" cy=\"1353.08\" r=\"2\"/>\n",
       "<circle clip-path=\"url(#clip612)\" style=\"fill:#009af9; stroke:none; fill-opacity:0\" cx=\"2087.58\" cy=\"1444.27\" r=\"2\"/>\n",
       "<circle clip-path=\"url(#clip612)\" style=\"fill:#009af9; stroke:none; fill-opacity:0\" cx=\"2146\" cy=\"1422.56\" r=\"2\"/>\n",
       "<circle clip-path=\"url(#clip612)\" style=\"fill:#009af9; stroke:none; fill-opacity:0\" cx=\"2204.41\" cy=\"1434.14\" r=\"2\"/>\n",
       "<path clip-path=\"url(#clip610)\" d=\"M2011.53 198.898 L2280.56 198.898 L2280.56 95.2176 L2011.53 95.2176  Z\" fill=\"#ffffff\" fill-rule=\"evenodd\" fill-opacity=\"1\"/>\n",
       "<polyline clip-path=\"url(#clip610)\" style=\"stroke:#000000; stroke-linecap:round; stroke-linejoin:round; stroke-width:4; stroke-opacity:1; fill:none\" points=\"2011.53,198.898 2280.56,198.898 2280.56,95.2176 2011.53,95.2176 2011.53,198.898 \"/>\n",
       "<path clip-path=\"url(#clip610)\" d=\"M2035.59 167.794 L2179.99 167.794 L2179.99 126.322 L2035.59 126.322 L2035.59 167.794  Z\" fill=\"#009af9\" fill-rule=\"evenodd\" fill-opacity=\"1\"/>\n",
       "<polyline clip-path=\"url(#clip610)\" style=\"stroke:#000000; stroke-linecap:round; stroke-linejoin:round; stroke-width:4; stroke-opacity:1; fill:none\" points=\"2035.59,167.794 2179.99,167.794 2179.99,126.322 2035.59,126.322 2035.59,167.794 \"/>\n",
       "<path clip-path=\"url(#clip610)\" d=\"M2217.9 166.745 Q2216.1 171.375 2214.38 172.787 Q2212.67 174.199 2209.8 174.199 L2206.4 174.199 L2206.4 170.634 L2208.9 170.634 Q2210.66 170.634 2211.63 169.8 Q2212.6 168.967 2213.78 165.865 L2214.55 163.921 L2204.06 138.412 L2208.57 138.412 L2216.67 158.689 L2224.78 138.412 L2229.29 138.412 L2217.9 166.745 Z\" fill=\"#000000\" fill-rule=\"evenodd\" fill-opacity=\"1\" /><path clip-path=\"url(#clip610)\" d=\"M2236.58 160.402 L2244.22 160.402 L2244.22 134.037 L2235.91 135.703 L2235.91 131.444 L2244.17 129.778 L2248.85 129.778 L2248.85 160.402 L2256.49 160.402 L2256.49 164.338 L2236.58 164.338 L2236.58 160.402 Z\" fill=\"#000000\" fill-rule=\"evenodd\" fill-opacity=\"1\" /></svg>\n"
      ]
     },
     "execution_count": 83,
     "metadata": {},
     "output_type": "execute_result"
    }
   ],
   "source": [
    "histogram(chain_out_prop, normalize=:probability)"
   ]
  },
  {
   "cell_type": "code",
   "execution_count": 151,
   "id": "ca11b53c-ce51-442b-8d01-cf849f981575",
   "metadata": {},
   "outputs": [
    {
     "data": {
      "text/plain": [
       "\"/Users/esli/gen-tracker/simulated_die_roll_posterior.png\""
      ]
     },
     "execution_count": 151,
     "metadata": {},
     "output_type": "execute_result"
    }
   ],
   "source": [
    "p = histogram(chain_out_prop, normalize=:probability, label=\"die bias\")\n",
    "xlabel!(\"Biased face weight\")\n",
    "ylabel!(\"Probability\")\n",
    "savefig(p,\"simulated_die_roll_posterior.png\")"
   ]
  },
  {
   "cell_type": "code",
   "execution_count": null,
   "id": "0aed3b1f-dada-4651-8cd9-2289edd56cd2",
   "metadata": {},
   "outputs": [],
   "source": []
  },
  {
   "cell_type": "code",
   "execution_count": 109,
   "id": "c1fa7761-5b1c-4f05-a4a8-34488491b50f",
   "metadata": {},
   "outputs": [
    {
     "name": "stderr",
     "output_type": "stream",
     "text": [
      "WARNING: using DataFrames.select in module Main conflicts with an existing identifier.\n"
     ]
    }
   ],
   "source": [
    "using CSV, DataFrames"
   ]
  },
  {
   "cell_type": "code",
   "execution_count": 125,
   "id": "bfcf7391-e002-4679-92bb-fb4b9d14cf89",
   "metadata": {},
   "outputs": [
    {
     "data": {
      "text/plain": [
       "1000-element Vector{Float64}:\n",
       " 3.0\n",
       " 6.0\n",
       " 2.0\n",
       " 5.0\n",
       " 4.0\n",
       " 3.0\n",
       " 1.0\n",
       " 4.0\n",
       " 1.0\n",
       " 1.0\n",
       " 6.0\n",
       " 6.0\n",
       " 1.0\n",
       " ⋮\n",
       " 4.0\n",
       " 2.0\n",
       " 6.0\n",
       " 1.0\n",
       " 2.0\n",
       " 1.0\n",
       " 5.0\n",
       " 2.0\n",
       " 1.0\n",
       " 3.0\n",
       " 2.0\n",
       " 6.0"
      ]
     },
     "execution_count": 125,
     "metadata": {},
     "output_type": "execute_result"
    }
   ],
   "source": [
    "fair_faces = CSV.read(\"faces_roll_noisy.csv\", DataFrame)\n",
    "fair_faces = Matrix(fair_faces)[:,1]\n",
    "fair_faces.+=1"
   ]
  },
  {
   "cell_type": "code",
   "execution_count": 113,
   "id": "44be17f6-c16c-4df3-9db7-f70b0751d78a",
   "metadata": {},
   "outputs": [
    {
     "data": {
      "text/plain": [
       "1000-element Vector{Float64}:\n",
       " 6.0\n",
       " 6.0\n",
       " 6.0\n",
       " 1.0\n",
       " 6.0\n",
       " 6.0\n",
       " 6.0\n",
       " 6.0\n",
       " 6.0\n",
       " 6.0\n",
       " 6.0\n",
       " 6.0\n",
       " 6.0\n",
       " ⋮\n",
       " 6.0\n",
       " 6.0\n",
       " 6.0\n",
       " 6.0\n",
       " 2.0\n",
       " 6.0\n",
       " 6.0\n",
       " 6.0\n",
       " 6.0\n",
       " 6.0\n",
       " 6.0\n",
       " 6.0"
      ]
     },
     "execution_count": 113,
     "metadata": {},
     "output_type": "execute_result"
    }
   ],
   "source": [
    "unfair_faces = CSV.read(\"faces_roll_noisy_biased.csv\", DataFrame)\n",
    "unfair_faces = Matrix(unfair_faces)[:,1]\n",
    "unfair_faces.+=1"
   ]
  },
  {
   "cell_type": "code",
   "execution_count": null,
   "id": "672d4989-b3a6-4ab6-88f0-123594c57a25",
   "metadata": {},
   "outputs": [],
   "source": []
  },
  {
   "cell_type": "code",
   "execution_count": 139,
   "id": "83399304-18a2-4e3c-a88f-9b62d928d12e",
   "metadata": {},
   "outputs": [],
   "source": [
    "fair_chain_out = do_mcmc_proposal_inference(roll_model, fair_faces, 2000);"
   ]
  },
  {
   "cell_type": "code",
   "execution_count": 156,
   "id": "21421ab3-8063-4f7d-9998-1004e8dce454",
   "metadata": {},
   "outputs": [
    {
     "data": {
      "text/plain": [
       "\"/Users/esli/gen-tracker/bullet_fair_die_posterior.png\""
      ]
     },
     "execution_count": 156,
     "metadata": {},
     "output_type": "execute_result"
    }
   ],
   "source": [
    "p = histogram(fair_chain_out, normalize=:probability, label=\"die prob\")\n",
    "xlabel!(\"Biased face weight\")\n",
    "ylabel!(\"Probability\")\n",
    "savefig(p,\"bullet_fair_die_posterior.png\")"
   ]
  },
  {
   "cell_type": "code",
   "execution_count": 145,
   "id": "e41e794b-1fde-4199-8bf7-2c3db67b9afc",
   "metadata": {},
   "outputs": [],
   "source": [
    "unfair_chain_out = do_mcmc_proposal_inference(roll_model, unfair_faces, 2000);"
   ]
  },
  {
   "cell_type": "code",
   "execution_count": 160,
   "id": "1e4220ae-6895-4ece-9943-dcf7fffc3520",
   "metadata": {},
   "outputs": [
    {
     "data": {
      "text/plain": [
       "\"/Users/esli/gen-tracker/bullet_unfair_die_posterior.png\""
      ]
     },
     "execution_count": 160,
     "metadata": {},
     "output_type": "execute_result"
    }
   ],
   "source": [
    "p = histogram(unfair_chain_out, normalize=:probability, label=\"die prob\")\n",
    "xlabel!(\"Biased face weight\")\n",
    "ylabel!(\"Probability\")\n",
    "savefig(p,\"bullet_unfair_die_posterior.png\")"
   ]
  },
  {
   "cell_type": "code",
   "execution_count": null,
   "id": "bf66f25f-ca72-4a94-91c9-0240f2b7ac48",
   "metadata": {},
   "outputs": [],
   "source": []
  }
 ],
 "metadata": {
  "kernelspec": {
   "display_name": "Julia 1.6.7",
   "language": "julia",
   "name": "julia-1.6"
  },
  "language_info": {
   "file_extension": ".jl",
   "mimetype": "application/julia",
   "name": "julia",
   "version": "1.6.7"
  }
 },
 "nbformat": 4,
 "nbformat_minor": 5
}
